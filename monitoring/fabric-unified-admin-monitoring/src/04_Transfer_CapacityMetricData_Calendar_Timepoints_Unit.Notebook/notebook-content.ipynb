{
    "cells": [
        {
            "cell_type": "code",
            "source": [
                "# Aggregate timepoints\n",
                "df = spark.sql(\"SELECT DISTINCT TimePoint, to_date(TimePoint) Date, to_timestamp(date_format(TimePoint, 'yyyy-mm-dd HH:00:00')) Hour  FROM FUAM_Lakehouse.capacity_metrics_by_timepoint\")\n",
                "\n",
                "# Write prepared bronze_df to silver delta table\n",
                "df.write.mode(\"overwrite\").format(\"delta\").saveAsTable(\"calendar_timepoints\")"
            ],
            "outputs": [],
            "execution_count": 1,
            "metadata": {
                "microsoft": {
                    "language": "python",
                    "language_group": "synapse_pyspark"
                },
                "cellStatus": "{\"Gellert Gintli\":{\"session_start_time\":\"2025-03-19T20:02:57.1582148Z\",\"execution_start_time\":\"2025-03-19T20:03:10.2979496Z\",\"execution_finish_time\":\"2025-03-19T20:03:34.4614396Z\",\"state\":\"finished\",\"livy_statement_state\":\"available\",\"normalized_state\":\"finished\"}}"
            },
            "id": "7025c703-6f4e-40db-b9f2-8b20edd566ae"
        }
    ],
    "metadata": {
        "microsoft": {
            "language": "python",
            "language_group": "synapse_pyspark",
            "ms_spell_check": {
                "ms_spell_check_language": "en"
            }
        },
        "widgets": {},
        "sessionKeepAliveTimeout": 0,
        "kernel_info": {
            "name": "synapse_pyspark"
        },
        "language_info": {
            "name": "python"
        },
        "kernelspec": {
            "name": "synapse_pyspark",
            "language": "Python",
            "display_name": "Synapse PySpark"
        },
        "a365ComputeOptions": null,
        "nteract": {
            "version": "nteract-front-end@1.0.0"
        },
        "synapse_widget": {
            "version": "0.1",
            "state": {}
        },
        "spark_compute": {
            "compute_id": "/trident/default",
            "session_options": {
                "conf": {
                    "spark.synapse.nbs.session.timeout": "1200000"
                }
            }
        },
        "dependencies": {
            "lakehouse": {
                "default_lakehouse": "729eb8a2-8070-5ed8-ad43-dccbc00b32af",
                "default_lakehouse_name": "FUAM_Lakehouse",
                "default_lakehouse_workspace_id": "eb764c8b-cf3b-55be-adf4-348fe9233657",
                "known_lakehouses": []
            },
            "environment": {}
        }
    },
    "nbformat": 4,
    "nbformat_minor": 5
}