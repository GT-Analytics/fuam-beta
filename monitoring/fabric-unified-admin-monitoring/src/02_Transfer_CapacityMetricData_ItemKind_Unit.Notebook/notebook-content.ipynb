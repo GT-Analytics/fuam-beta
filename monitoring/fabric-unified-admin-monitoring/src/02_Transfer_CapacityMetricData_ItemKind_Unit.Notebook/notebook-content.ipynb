{
    "cells": [
        {
            "cell_type": "markdown",
            "source": [
                "#### Capacity Metrics (by Kind)\n",
                "by Workspace by Kind by Day\n",
                "\n",
                "##### Data ingestion strategy:\n",
                "<mark style=\"background: #D69AFE;\">**MERGE**</mark>\n",
                "\n",
                "##### Related pipeline:\n",
                "\n",
                "**Load_Capacity_Metrics_E2E**\n",
                "\n",
                "##### Source:\n",
                "\n",
                "**CapacityMetricCloneDQ** via SemPy DAX execute query function\n",
                "\n",
                "##### Target:\n",
                "\n",
                "**1 Delta table** in FUAM_Lakehouse \n",
                "- **gold_table_name** variable value"
            ],
            "metadata": {},
            "id": "d640e2d5-03e4-4147-98c7-d4591d30283b"
        },
        {
            "cell_type": "code",
            "source": [
                "import sempy.fabric as fabric\n",
                "from datetime import datetime, timedelta\n",
                "import datetime as dt\n",
                "import pyspark.sql.functions as f\n",
                "from delta.tables import *"
            ],
            "outputs": [],
            "execution_count": 8,
            "metadata": {
                "microsoft": {
                    "language": "python",
                    "language_group": "synapse_pyspark"
                },
                "cellStatus": "{\"System Administrator\":{\"session_start_time\":null,\"execution_start_time\":\"2025-01-27T09:11:21.7627579Z\",\"execution_finish_time\":\"2025-01-27T09:11:31.8226897Z\",\"state\":\"finished\",\"livy_statement_state\":\"available\",\"normalized_state\":\"finished\"}}"
            },
            "id": "ea04a53c-a7b0-4dc1-a67f-626628d77ad9"
        },
        {
            "cell_type": "code",
            "source": [
                "## Parameters\n",
                "metric_days_in_scope = 14\n",
                "metric_workspace = \"Microsoft Fabric Capacity Metrics v30\"\n",
                "metric_dataset = \"Fabric Capacity Metrics\"\n",
                "display_data = True"
            ],
            "outputs": [],
            "execution_count": 9,
            "metadata": {
                "tags": [
                    "parameters"
                ],
                "microsoft": {
                    "language": "python",
                    "language_group": "synapse_pyspark"
                },
                "cellStatus": "{\"System Administrator\":{\"session_start_time\":null,\"execution_start_time\":\"2025-01-27T09:11:31.9670888Z\",\"execution_finish_time\":\"2025-01-27T09:11:32.3060151Z\",\"state\":\"finished\",\"livy_statement_state\":\"available\",\"normalized_state\":\"finished\"}}"
            },
            "id": "dcc2d0df-5297-441c-9df2-84686682f755"
        },
        {
            "cell_type": "code",
            "source": [
                "## Variables\n",
                "silver_table_name = \"FUAM_Staging_Lakehouse.capacity_metrics_by_item_kind_by_day_silver\"\n",
                "gold_table_name = \"capacity_metrics_by_item_kind_by_day\"\n",
                "gold_table_name_with_prefix = f\"Tables/{gold_table_name}\""
            ],
            "outputs": [],
            "execution_count": 10,
            "metadata": {
                "microsoft": {
                    "language": "python",
                    "language_group": "synapse_pyspark"
                },
                "cellStatus": "{\"System Administrator\":{\"session_start_time\":null,\"execution_start_time\":\"2025-01-27T09:11:32.4480088Z\",\"execution_finish_time\":\"2025-01-27T09:11:32.6908368Z\",\"state\":\"finished\",\"livy_statement_state\":\"available\",\"normalized_state\":\"finished\"}}"
            },
            "id": "5e0bc19e-6685-4eb4-bc97-1a6b83afc5f4"
        },
        {
            "cell_type": "code",
            "source": [
                "# Fetch Capacities (without PPT capacities)\n",
                "query = \"\"\"\n",
                "SELECT \n",
                "    CapacityId\n",
                "FROM FUAM_Lakehouse.capacities\n",
                "WHERE SKU != 'PP3'\n",
                "AND state = 'Active'\n",
                "\"\"\"\n",
                "capacities = spark.sql(query)"
            ],
            "outputs": [],
            "execution_count": 11,
            "metadata": {
                "microsoft": {
                    "language": "python",
                    "language_group": "synapse_pyspark"
                },
                "cellStatus": "{\"System Administrator\":{\"session_start_time\":null,\"execution_start_time\":\"2025-01-27T09:11:32.8287704Z\",\"execution_finish_time\":\"2025-01-27T09:11:33.6478525Z\",\"state\":\"finished\",\"livy_statement_state\":\"available\",\"normalized_state\":\"finished\"}}"
            },
            "id": "5f24dea6-fa0a-4692-92c0-32de283c47a1"
        },
        {
            "cell_type": "code",
            "source": [
                "if display_data:\n",
                "    display(capacities)"
            ],
            "outputs": [],
            "execution_count": 12,
            "metadata": {
                "microsoft": {
                    "language": "python",
                    "language_group": "synapse_pyspark"
                },
                "cellStatus": "{\"System Administrator\":{\"session_start_time\":null,\"execution_start_time\":\"2025-01-27T09:11:33.7754892Z\",\"execution_finish_time\":\"2025-01-27T09:11:34.5966267Z\",\"state\":\"finished\",\"livy_statement_state\":\"available\",\"normalized_state\":\"finished\"}}",
                "collapsed": false
            },
            "id": "4e1334ef-5f7c-4444-8651-fef4aa72f0f3"
        },
        {
            "cell_type": "code",
            "source": [
                "# Iterate days\n",
                "def iterate_dates(start_date, end_date):\n",
                "    # Init array\n",
                "    dates = []\n",
                "    # Convert string inputs to datetime objects\n",
                "    start = dt.datetime.strptime(start_date, '%Y-%m-%d')\n",
                "    end = dt.datetime.strptime(end_date, '%Y-%m-%d')\n",
                "    \n",
                "    # Initialize current date as start date\n",
                "    current_date = start.date()\n",
                "    \n",
                "    while current_date <= end.date():\n",
                "\n",
                "        dates.append(\n",
                "            {\n",
                "                \"date\": current_date,\n",
                "                \"year\": current_date.year,\n",
                "                \"month\": current_date.month,\n",
                "                \"day\": current_date.day\n",
                "            })\n",
                "        # Move to the next day\n",
                "        current_date += dt.timedelta(days=1)\n",
                "\n",
                "    return dates"
            ],
            "outputs": [],
            "execution_count": 13,
            "metadata": {
                "microsoft": {
                    "language": "python",
                    "language_group": "synapse_pyspark"
                },
                "cellStatus": "{\"System Administrator\":{\"session_start_time\":null,\"execution_start_time\":\"2025-01-27T09:11:34.7263466Z\",\"execution_finish_time\":\"2025-01-27T09:11:34.963209Z\",\"state\":\"finished\",\"livy_statement_state\":\"available\",\"normalized_state\":\"finished\"}}"
            },
            "id": "959509d6-4647-427c-90ae-b4edab474e4d"
        },
        {
            "cell_type": "code",
            "source": [
                "# Clean Silver table\n",
                "try:\n",
                "    query = \"DELETE FROM \" + silver_table_name\n",
                "    spark.sql(query)\n",
                "\n",
                "except Exception as ex:\n",
                "    print(\"Silver table doesn't exist yet.\") "
            ],
            "outputs": [],
            "execution_count": 14,
            "metadata": {
                "microsoft": {
                    "language": "python",
                    "language_group": "synapse_pyspark"
                },
                "cellStatus": "{\"System Administrator\":{\"session_start_time\":null,\"execution_start_time\":\"2025-01-27T09:11:35.1042777Z\",\"execution_finish_time\":\"2025-01-27T09:11:40.0238037Z\",\"state\":\"finished\",\"livy_statement_state\":\"available\",\"normalized_state\":\"finished\"}}"
            },
            "id": "aaae3981-7e98-4481-9441-c4a946412409"
        },
        {
            "cell_type": "code",
            "source": [
                "# Iterate capacities and days\n",
                "for cap in capacities.collect():\n",
                "    capacity_id = cap[0]\n",
                "    print(capacity_id)\n",
                "\n",
                "    try:\n",
                "        # Get today's date\n",
                "        today = datetime.now()\n",
                "\n",
                "        # Calculate the dates between today and days_in_scope\n",
                "        days_ago = today - timedelta(days=metric_days_in_scope)\n",
                "\n",
                "        # Format dates in 'yyyy-mm-dd'\n",
                "        today_str = today.strftime('%Y-%m-%d')\n",
                "        days_ago_str = days_ago.strftime('%Y-%m-%d')\n",
                "\n",
                "        date_array = iterate_dates(days_ago_str, end_date=today_str)\n",
                "\n",
                "        # Iterate days for current capacity\n",
                "        for date in date_array:\n",
                "\n",
                "            year = date['year']\n",
                "            month = date['month']\n",
                "            day = date['day']\n",
                "            date_label = str(year) + '-' + str(month) + '-' + str(day)\n",
                "            print(capacity_id)\n",
                "\n",
                "            dax_query = f\"\"\"\n",
                "                    DEFINE \n",
                "                    MPARAMETER 'CapacityID' = \\\"{capacity_id}\\\"\n",
                "\n",
                "                    VAR __DS0FilterTable = \n",
                "                                        FILTER(\n",
                "                                            KEEPFILTERS(VALUES('MetricsByItemandDay'[Date])),\n",
                "                                            'MetricsByItemandDay'[Date] = DATE({year}, {month}, {day})\n",
                "                                        )\n",
                "\n",
                "                    VAR __DS0Core = \n",
                "                                    SUMMARIZECOLUMNS(\n",
                "                                            Capacities[capacityId],\n",
                "                                            Items[WorkspaceId],\n",
                "                                            'MetricsByItemandDay'[Date],\n",
                "                                            'Items'[ItemKind],\n",
                "                                            FILTER(Capacities, Capacities[capacityId] = \\\"{capacity_id}\\\" ),\n",
                "                                            __DS0FilterTable,\n",
                "                                            \"S_Dur\", SUM('MetricsByItemandDay'[sum_duration]),\n",
                "                                            \"S_CU\", SUM('MetricsByItemandDay'[sum_CU]),\n",
                "                                            \"TH_M\", SUM('MetricsByItemandDay'[Throttling (min)]),\n",
                "                                            \"C_U\", SUM('MetricsByItemandDay'[count_users]),\n",
                "                                            \"C_SO\", SUM('MetricsByItemandDay'[count_successful_operations]),\n",
                "                                            \"C_RO\", SUM('MetricsByItemandDay'[count_rejected_operations]),\n",
                "                                            \"C_O\", SUM('MetricsByItemandDay'[count_operations]),\n",
                "                                            \"C_IO\", SUM('MetricsByItemandDay'[count_Invalid_operations]),\n",
                "                                            \"C_FO\", SUM('MetricsByItemandDay'[count_failure_operations]),\n",
                "                                            \"C_CO\", SUM('MetricsByItemandDay'[count_cancelled_operations])\n",
                "                                            )\n",
                "                    EVALUATE\n",
                "                        ADDCOLUMNS(\n",
                "                            FILTER(__DS0Core, [S_CU] > 0),\n",
                "                            \"DateKey\", FORMAT([Date], \"yyyymmdd\")\n",
                "                        ) ORDER BY [S_CU] DESC\n",
                "                    \"\"\"\n",
                "\n",
                "            # Execute DAX query\n",
                "            capacity_df = fabric.evaluate_dax(workspace=metric_workspace, dataset=metric_dataset, dax_string=dax_query)\n",
                "            capacity_df.columns = ['CapacityId', 'WorkspaceId', 'Date',  \n",
                "                                    'ItemKind', 'DurationInSec','TotalCUs', 'ThrottlingInMin', \n",
                "                                    'UserCount','SuccessOperationCount', 'RejectedOperationCount','OperationCount',\n",
                "                                    'InvalidOperationCount','FailureOperationCount','CancelledOperationCount', 'DateKey']\n",
                "            \n",
                "            if not(capacity_df.empty):\n",
                "                # Transfer pandas df to spark df\n",
                "                capacity_df = spark.createDataFrame(capacity_df)\n",
                "\n",
                "                if display_data:\n",
                "                    display(capacity_df)\n",
                "\n",
                "                # Write prepared bronze_df to silver delta table\n",
                "                print(f\"Appending data. Capacity: {capacity_id}. Date: {date_label}\")\n",
                "                capacity_df.write.mode(\"append\").option(\"mergeSchema\", \"true\").format(\"delta\").saveAsTable(silver_table_name)\n",
                "            else:\n",
                "                print(f\"No data. Capacity: {capacity_id}. Date: {date_label}\")\n",
                "\n",
                "    except Exception as ex:\n",
                "        print(ex)\n",
                "        continue"
            ],
            "outputs": [],
            "execution_count": 15,
            "metadata": {
                "microsoft": {
                    "language": "python",
                    "language_group": "synapse_pyspark"
                },
                "cellStatus": "{\"System Administrator\":{\"session_start_time\":null,\"execution_start_time\":\"2025-01-27T09:11:40.1694005Z\",\"execution_finish_time\":\"2025-01-27T09:14:53.5860046Z\",\"state\":\"finished\",\"livy_statement_state\":\"available\",\"normalized_state\":\"finished\"}}",
                "collapsed": false
            },
            "id": "de5386ef-b266-48fb-9369-b153da0d0c04"
        },
        {
            "cell_type": "code",
            "source": [
                "# Get Silver table data\n",
                "query = \"SELECT * FROM \" + silver_table_name\n",
                "silver_df = spark.sql(query)"
            ],
            "outputs": [],
            "execution_count": 16,
            "metadata": {
                "microsoft": {
                    "language": "python",
                    "language_group": "synapse_pyspark"
                },
                "cellStatus": "{\"System Administrator\":{\"session_start_time\":null,\"execution_start_time\":\"2025-01-27T09:14:53.7370722Z\",\"execution_finish_time\":\"2025-01-27T09:14:54.586259Z\",\"state\":\"finished\",\"livy_statement_state\":\"available\",\"normalized_state\":\"finished\"}}"
            },
            "id": "4ac27758-0175-46eb-9b68-d996b908bf76"
        },
        {
            "cell_type": "code",
            "source": [
                "# Check if gold table exists\n",
                "if spark._jsparkSession.catalog().tableExists('FUAM_Lakehouse', gold_table_name):\n",
                "    # if exists -> MERGE to gold\n",
                "    print(\"Gold table exists and will be merged.\")\n",
                "\n",
                "    gold_df = DeltaTable.forPath(spark, gold_table_name_with_prefix)\n",
                "    # Merge silver (s = source) to gold (t = target)\n",
                "    gold_df.alias('t') \\\n",
                "    .merge(\n",
                "        silver_df.alias('s'),\n",
                "        \"s.CapacityId = t.CapacityId AND s.WorkspaceId = t.WorkspaceId AND s.Date = t.Date AND s.ItemKind = t.ItemKind\"\n",
                "    ) \\\n",
                "    .whenMatchedUpdate(set =\n",
                "        {\n",
                "             \"DurationInSec\": \"s.DurationInSec\"\n",
                "            ,\"TotalCUs\": \"s.TotalCUs\"\n",
                "            ,\"ThrottlingInMin\": \"s.ThrottlingInMin\"\n",
                "            ,\"UserCount\": \"s.UserCount\"\n",
                "            ,\"SuccessOperationCount\": \"s.SuccessOperationCount\"\n",
                "            ,\"RejectedOperationCount\": \"s.RejectedOperationCount\"\n",
                "            ,\"OperationCount\": \"s.OperationCount\"\n",
                "            ,\"InvalidOperationCount\": \"s.InvalidOperationCount\"\n",
                "            ,\"FailureOperationCount\": \"s.FailureOperationCount\"\n",
                "            ,\"CancelledOperationCount\": \"s.CancelledOperationCount\"\n",
                "        }\n",
                "    ) \\\n",
                "    .whenNotMatchedInsert(values =\n",
                "        {\n",
                "             \"CapacityId\": \"s.CapacityId\"\n",
                "            ,\"WorkspaceId\": \"s.WorkspaceId\"\n",
                "            ,\"Date\": \"s.Date\"\n",
                "            ,\"ItemKind\": \"s.ItemKind\"\n",
                "            ,\"DurationInSec\": \"s.DurationInSec\"\n",
                "            ,\"TotalCUs\": \"s.TotalCUs\"\n",
                "            ,\"ThrottlingInMin\": \"s.ThrottlingInMin\"\n",
                "            ,\"UserCount\": \"s.UserCount\"\n",
                "            ,\"SuccessOperationCount\": \"s.SuccessOperationCount\"\n",
                "            ,\"RejectedOperationCount\": \"s.RejectedOperationCount\"\n",
                "            ,\"OperationCount\": \"s.OperationCount\"\n",
                "            ,\"InvalidOperationCount\": \"s.InvalidOperationCount\"\n",
                "            ,\"FailureOperationCount\": \"s.FailureOperationCount\"\n",
                "            ,\"CancelledOperationCount\": \"s.CancelledOperationCount\"\n",
                "            ,\"DateKey\": \"s.DateKey\"\n",
                "        }\n",
                "    ) \\\n",
                "    .execute()\n",
                "\n",
                "else:\n",
                "    # else -> INSERT to gold\n",
                "    print(\"Gold table will be created.\")\n",
                "\n",
                "    silver_df.write.mode(\"append\").option(\"mergeSchema\", \"true\").format(\"delta\").saveAsTable(gold_table_name)"
            ],
            "outputs": [],
            "execution_count": 17,
            "metadata": {
                "microsoft": {
                    "language": "python",
                    "language_group": "synapse_pyspark"
                },
                "cellStatus": "{\"System Administrator\":{\"session_start_time\":null,\"execution_start_time\":\"2025-01-27T09:14:54.7157017Z\",\"execution_finish_time\":\"2025-01-27T09:15:03.1027032Z\",\"state\":\"finished\",\"livy_statement_state\":\"available\",\"normalized_state\":\"finished\"}}"
            },
            "id": "7bb0ff85-ab07-4f5e-bf5e-49475e7f2be7"
        },
        {
            "cell_type": "code",
            "source": [
                "# Clean Silver table\n",
                "query = \"DELETE FROM \" + silver_table_name\n",
                "spark.sql(query)"
            ],
            "outputs": [],
            "execution_count": 18,
            "metadata": {
                "microsoft": {
                    "language": "python",
                    "language_group": "synapse_pyspark"
                },
                "cellStatus": "{\"System Administrator\":{\"session_start_time\":null,\"execution_start_time\":\"2025-01-27T09:15:03.2599749Z\",\"execution_finish_time\":\"2025-01-27T09:15:04.891592Z\",\"state\":\"finished\",\"livy_statement_state\":\"available\",\"normalized_state\":\"finished\"}}"
            },
            "id": "3971a614-bc18-4c97-9981-3e43b20ab119"
        }
    ],
    "metadata": {
        "microsoft": {
            "language": "python",
            "language_group": "synapse_pyspark",
            "ms_spell_check": {
                "ms_spell_check_language": "en"
            }
        },
        "widgets": {},
        "sessionKeepAliveTimeout": 0,
        "kernel_info": {
            "name": "synapse_pyspark"
        },
        "language_info": {
            "name": "python"
        },
        "kernelspec": {
            "name": "synapse_pyspark",
            "language": "Python",
            "display_name": "Synapse PySpark"
        },
        "a365ComputeOptions": null,
        "nteract": {
            "version": "nteract-front-end@1.0.0"
        },
        "synapse_widget": {
            "version": "0.1",
            "state": {
                "9b36ad8a-6c59-4f86-a3dc-11d0fad2d6ba": {
                    "type": "Synapse.DataFrame",
                    "sync_state": {
                        "table": {
                            "rows": [
                                {
                                    "0": "C37B34DC-7F7A-4A14-95EF-9575FFB2FBF2"
                                },
                                {
                                    "0": "F213BCCA-5AEE-461F-846E-2FBAD22ED3BE"
                                }
                            ],
                            "schema": [
                                {
                                    "key": "0",
                                    "name": "CapacityId",
                                    "type": "string"
                                }
                            ],
                            "truncated": false
                        },
                        "isSummary": false,
                        "language": "scala",
                        "wranglerEntryContext": {
                            "candidateVariableNames": [
                                "capacities"
                            ],
                            "dataframeType": "pyspark"
                        }
                    },
                    "persist_state": {
                        "view": {
                            "type": "details",
                            "tableOptions": {},
                            "chartOptions": {
                                "chartType": "bar",
                                "categoryFieldKeys": [
                                    "0"
                                ],
                                "seriesFieldKeys": [
                                    "0"
                                ],
                                "aggregationType": "count",
                                "isStacked": false,
                                "binsNumber": 10,
                                "wordFrequency": "-1",
                                "evaluatesOverAllRecords": false
                            },
                            "viewOptionsGroup": [
                                {
                                    "tabItems": [
                                        {
                                            "type": "table",
                                            "name": "Table",
                                            "key": "0",
                                            "options": {}
                                        }
                                    ]
                                }
                            ]
                        }
                    }
                },
                "debeb5f0-dd45-48bc-aeca-eb341ed81ced": {
                    "type": "Synapse.DataFrame",
                    "sync_state": {
                        "table": {
                            "rows": [
                                {
                                    "0": "C37B34DC-7F7A-4A14-95EF-9575FFB2FBF2",
                                    "1": "2AD70867-1E57-4C21-A67C-406D982786BC",
                                    "2": "2025-01-14 00:00:00",
                                    "3": "SynapseNotebook",
                                    "4": "16167.528",
                                    "5": "119547.33149999999",
                                    "6": "0.0",
                                    "7": "18",
                                    "8": "0",
                                    "9": "0",
                                    "10": "21",
                                    "11": "0",
                                    "12": "4",
                                    "13": "17",
                                    "14": "20250114"
                                },
                                {
                                    "0": "C37B34DC-7F7A-4A14-95EF-9575FFB2FBF2",
                                    "1": "2AD70867-1E57-4C21-A67C-406D982786BC",
                                    "2": "2025-01-14 00:00:00",
                                    "3": "Lakehouse",
                                    "4": "1300.4470000000001",
                                    "5": "25349.1847000011",
                                    "6": "0.0",
                                    "7": "6",
                                    "8": "27362",
                                    "9": "0",
                                    "10": "27363",
                                    "11": "0",
                                    "12": "1",
                                    "13": "0",
                                    "14": "20250114"
                                },
                                {
                                    "0": "C37B34DC-7F7A-4A14-95EF-9575FFB2FBF2",
                                    "1": "2AD70867-1E57-4C21-A67C-406D982786BC",
                                    "2": "2025-01-14 00:00:00",
                                    "3": "Dataset",
                                    "4": "2594.855",
                                    "5": "5254.928",
                                    "6": "0.0",
                                    "7": "14",
                                    "8": "1927",
                                    "9": "0",
                                    "10": "2012",
                                    "11": "0",
                                    "12": "85",
                                    "13": "0",
                                    "14": "20250114"
                                },
                                {
                                    "0": "C37B34DC-7F7A-4A14-95EF-9575FFB2FBF2",
                                    "1": "9234C852-D87E-42BD-A7DD-CC81A0CA5A5F",
                                    "2": "2025-01-14 00:00:00",
                                    "3": "KustoEventHouse",
                                    "4": "900.0",
                                    "5": "3825.0",
                                    "6": "0.0",
                                    "7": "1",
                                    "8": "15",
                                    "9": "0",
                                    "10": "15",
                                    "11": "0",
                                    "12": "0",
                                    "13": "0",
                                    "14": "20250114"
                                },
                                {
                                    "0": "C37B34DC-7F7A-4A14-95EF-9575FFB2FBF2",
                                    "1": "2AD70867-1E57-4C21-A67C-406D982786BC",
                                    "2": "2025-01-14 00:00:00",
                                    "3": "Pipeline",
                                    "4": "8354.764000000001",
                                    "5": "2008.8000000000004",
                                    "6": "0.0",
                                    "7": "13",
                                    "8": "58",
                                    "9": "0",
                                    "10": "64",
                                    "11": "0",
                                    "12": "6",
                                    "13": "0",
                                    "14": "20250114"
                                },
                                {
                                    "0": "C37B34DC-7F7A-4A14-95EF-9575FFB2FBF2",
                                    "1": "1F8631F1-BA1A-4154-921E-6D3919BB51FD",
                                    "2": "2025-01-14 00:00:00",
                                    "3": "EventStream",
                                    "4": "772800.0",
                                    "5": "1918.08",
                                    "6": "0.0",
                                    "7": "2",
                                    "8": "146",
                                    "9": "0",
                                    "10": "146",
                                    "11": "0",
                                    "12": "0",
                                    "13": "0",
                                    "14": "20250114"
                                },
                                {
                                    "0": "C37B34DC-7F7A-4A14-95EF-9575FFB2FBF2",
                                    "1": "502FC901-A00D-4BA7-8A8D-F5F1CCA0C6A6",
                                    "2": "2025-01-14 00:00:00",
                                    "3": "Activator",
                                    "4": "86400.0",
                                    "5": "1918.08",
                                    "6": "0.0",
                                    "7": "1",
                                    "8": "1",
                                    "9": "0",
                                    "10": "1",
                                    "11": "0",
                                    "12": "0",
                                    "13": "0",
                                    "14": "20250114"
                                },
                                {
                                    "0": "C37B34DC-7F7A-4A14-95EF-9575FFB2FBF2",
                                    "1": "94AA991B-55FC-415D-BA92-A71C9F45ED2F",
                                    "2": "2025-01-14 00:00:00",
                                    "3": "Dataset",
                                    "4": "535.922",
                                    "5": "1746.48",
                                    "6": "0.0",
                                    "7": "3",
                                    "8": "194",
                                    "9": "0",
                                    "10": "235",
                                    "11": "0",
                                    "12": "41",
                                    "13": "0",
                                    "14": "20250114"
                                },
                                {
                                    "0": "C37B34DC-7F7A-4A14-95EF-9575FFB2FBF2",
                                    "1": "2AD70867-1E57-4C21-A67C-406D982786BC",
                                    "2": "2025-01-14 00:00:00",
                                    "3": "Warehouse",
                                    "4": "1299.841",
                                    "5": "1695.77",
                                    "6": "0.0",
                                    "7": "10",
                                    "8": "3273",
                                    "9": "0",
                                    "10": "3274",
                                    "11": "0",
                                    "12": "0",
                                    "13": "1",
                                    "14": "20250114"
                                },
                                {
                                    "0": "C37B34DC-7F7A-4A14-95EF-9575FFB2FBF2",
                                    "1": "4AF86E5D-5B9A-42C0-9491-A80242A15A34",
                                    "2": "2025-01-14 00:00:00",
                                    "3": "SynapseNotebook",
                                    "4": "186.99",
                                    "5": "786.8775",
                                    "6": "0.0",
                                    "7": "1",
                                    "8": "0",
                                    "9": "0",
                                    "10": "3",
                                    "11": "0",
                                    "12": "0",
                                    "13": "3",
                                    "14": "20250114"
                                },
                                {
                                    "0": "C37B34DC-7F7A-4A14-95EF-9575FFB2FBF2",
                                    "1": "4AF86E5D-5B9A-42C0-9491-A80242A15A34",
                                    "2": "2025-01-14 00:00:00",
                                    "3": "Pipeline",
                                    "4": "344.042",
                                    "5": "330.48",
                                    "6": "0.0",
                                    "7": "1",
                                    "8": "6",
                                    "9": "0",
                                    "10": "6",
                                    "11": "0",
                                    "12": "0",
                                    "13": "0",
                                    "14": "20250114"
                                },
                                {
                                    "0": "C37B34DC-7F7A-4A14-95EF-9575FFB2FBF2",
                                    "1": "4AF86E5D-5B9A-42C0-9491-A80242A15A34",
                                    "2": "2025-01-14 00:00:00",
                                    "3": "Lakehouse",
                                    "4": "0.999",
                                    "5": "156.15040000000036",
                                    "6": "0.0",
                                    "7": "1",
                                    "8": "999",
                                    "9": "0",
                                    "10": "999",
                                    "11": "0",
                                    "12": "0",
                                    "13": "0",
                                    "14": "20250114"
                                },
                                {
                                    "0": "C37B34DC-7F7A-4A14-95EF-9575FFB2FBF2",
                                    "1": "65FC3DE9-6035-421A-B924-ECD7B19CAD09",
                                    "2": "2025-01-14 00:00:00",
                                    "3": "Warehouse",
                                    "4": "66.045",
                                    "5": "103.028",
                                    "6": "0.0",
                                    "7": "1",
                                    "8": "226",
                                    "9": "0",
                                    "10": "226",
                                    "11": "0",
                                    "12": "0",
                                    "13": "0",
                                    "14": "20250114"
                                },
                                {
                                    "0": "C37B34DC-7F7A-4A14-95EF-9575FFB2FBF2",
                                    "1": "1F8631F1-BA1A-4154-921E-6D3919BB51FD",
                                    "2": "2025-01-14 00:00:00",
                                    "3": "Dataset",
                                    "4": "16.118",
                                    "5": "79.008",
                                    "6": "0.0",
                                    "7": "2",
                                    "8": "97",
                                    "9": "0",
                                    "10": "97",
                                    "11": "0",
                                    "12": "0",
                                    "13": "0",
                                    "14": "20250114"
                                },
                                {
                                    "0": "C37B34DC-7F7A-4A14-95EF-9575FFB2FBF2",
                                    "1": "1DBE0D9E-9308-47E7-A029-1E09289124A6",
                                    "2": "2025-01-14 00:00:00",
                                    "3": "Dataset",
                                    "4": "6.142",
                                    "5": "57.52",
                                    "6": "0.0",
                                    "7": "2",
                                    "8": "9",
                                    "9": "0",
                                    "10": "9",
                                    "11": "0",
                                    "12": "0",
                                    "13": "0",
                                    "14": "20250114"
                                },
                                {
                                    "0": "C37B34DC-7F7A-4A14-95EF-9575FFB2FBF2",
                                    "1": "65FC3DE9-6035-421A-B924-ECD7B19CAD09",
                                    "2": "2025-01-14 00:00:00",
                                    "3": "Lakehouse",
                                    "4": "0.265",
                                    "5": "52.83819999999995",
                                    "6": "0.0",
                                    "7": "1",
                                    "8": "265",
                                    "9": "0",
                                    "10": "265",
                                    "11": "0",
                                    "12": "0",
                                    "13": "0",
                                    "14": "20250114"
                                },
                                {
                                    "0": "C37B34DC-7F7A-4A14-95EF-9575FFB2FBF2",
                                    "1": "9234C852-D87E-42BD-A7DD-CC81A0CA5A5F",
                                    "2": "2025-01-14 00:00:00",
                                    "3": "KustoQueryWorkbench",
                                    "4": "0.001",
                                    "5": "1.06",
                                    "6": "0.0",
                                    "7": "1",
                                    "8": "1",
                                    "9": "0",
                                    "10": "1",
                                    "11": "0",
                                    "12": "0",
                                    "13": "0",
                                    "14": "20250114"
                                }
                            ],
                            "schema": [
                                {
                                    "key": "0",
                                    "name": "CapacityId",
                                    "type": "string"
                                },
                                {
                                    "key": "1",
                                    "name": "WorkspaceId",
                                    "type": "string"
                                },
                                {
                                    "key": "2",
                                    "name": "Date",
                                    "type": "timestamp"
                                },
                                {
                                    "key": "3",
                                    "name": "ItemKind",
                                    "type": "string"
                                },
                                {
                                    "key": "4",
                                    "name": "DurationInSec",
                                    "type": "double"
                                },
                                {
                                    "key": "5",
                                    "name": "TotalCUs",
                                    "type": "double"
                                },
                                {
                                    "key": "6",
                                    "name": "ThrottlingInMin",
                                    "type": "double"
                                },
                                {
                                    "key": "7",
                                    "name": "UserCount",
                                    "type": "bigint"
                                },
                                {
                                    "key": "8",
                                    "name": "SuccessOperationCount",
                                    "type": "bigint"
                                },
                                {
                                    "key": "9",
                                    "name": "RejectedOperationCount",
                                    "type": "bigint"
                                },
                                {
                                    "key": "10",
                                    "name": "OperationCount",
                                    "type": "bigint"
                                },
                                {
                                    "key": "11",
                                    "name": "InvalidOperationCount",
                                    "type": "bigint"
                                },
                                {
                                    "key": "12",
                                    "name": "FailureOperationCount",
                                    "type": "bigint"
                                },
                                {
                                    "key": "13",
                                    "name": "CancelledOperationCount",
                                    "type": "bigint"
                                },
                                {
                                    "key": "14",
                                    "name": "DateKey",
                                    "type": "string"
                                }
                            ],
                            "truncated": false
                        },
                        "isSummary": false,
                        "language": "scala",
                        "wranglerEntryContext": {
                            "candidateVariableNames": [
                                "capacity_df"
                            ],
                            "dataframeType": "pyspark"
                        }
                    },
                    "persist_state": {
                        "view": {
                            "type": "details",
                            "tableOptions": {},
                            "chartOptions": {
                                "chartType": "bar",
                                "categoryFieldKeys": [
                                    "1"
                                ],
                                "seriesFieldKeys": [
                                    "4"
                                ],
                                "aggregationType": "sum",
                                "isStacked": false,
                                "binsNumber": 10,
                                "wordFrequency": "-1",
                                "evaluatesOverAllRecords": false
                            },
                            "viewOptionsGroup": [
                                {
                                    "tabItems": [
                                        {
                                            "type": "table",
                                            "name": "Table",
                                            "key": "0",
                                            "options": {}
                                        }
                                    ]
                                }
                            ]
                        }
                    }
                },
                "1bff2882-d011-4d5e-8b24-d03cf5b848f1": {
                    "type": "Synapse.DataFrame",
                    "sync_state": {
                        "table": {
                            "rows": [
                                {
                                    "0": "C37B34DC-7F7A-4A14-95EF-9575FFB2FBF2",
                                    "1": "2AD70867-1E57-4C21-A67C-406D982786BC",
                                    "2": "2025-01-15 00:00:00",
                                    "3": "Lakehouse",
                                    "4": "7467.96",
                                    "5": "39341.650199996744",
                                    "6": "0.0",
                                    "7": "6",
                                    "8": "36807",
                                    "9": "0",
                                    "10": "36812",
                                    "11": "0",
                                    "12": "5",
                                    "13": "0",
                                    "14": "20250115"
                                },
                                {
                                    "0": "C37B34DC-7F7A-4A14-95EF-9575FFB2FBF2",
                                    "1": "2AD70867-1E57-4C21-A67C-406D982786BC",
                                    "2": "2025-01-15 00:00:00",
                                    "3": "SynapseNotebook",
                                    "4": "4161.982999999999",
                                    "5": "24340.981000000003",
                                    "6": "0.0",
                                    "7": "18",
                                    "8": "0",
                                    "9": "0",
                                    "10": "32",
                                    "11": "0",
                                    "12": "0",
                                    "13": "32",
                                    "14": "20250115"
                                },
                                {
                                    "0": "C37B34DC-7F7A-4A14-95EF-9575FFB2FBF2",
                                    "1": "1F8631F1-BA1A-4154-921E-6D3919BB51FD",
                                    "2": "2025-01-15 00:00:00",
                                    "3": "EventStream",
                                    "4": "898362.828",
                                    "5": "13630.28967769373",
                                    "6": "0.0",
                                    "7": "3",
                                    "8": "188",
                                    "9": "0",
                                    "10": "188",
                                    "11": "0",
                                    "12": "0",
                                    "13": "0",
                                    "14": "20250115"
                                },
                                {
                                    "0": "C37B34DC-7F7A-4A14-95EF-9575FFB2FBF2",
                                    "1": "1F8631F1-BA1A-4154-921E-6D3919BB51FD",
                                    "2": "2025-01-15 00:00:00",
                                    "3": "Lakehouse",
                                    "4": "1257.5590000000002",
                                    "5": "5189.953299999988",
                                    "6": "0.0",
                                    "7": "8",
                                    "8": "1115",
                                    "9": "0",
                                    "10": "1116",
                                    "11": "0",
                                    "12": "1",
                                    "13": "0",
                                    "14": "20250115"
                                },
                                {
                                    "0": "C37B34DC-7F7A-4A14-95EF-9575FFB2FBF2",
                                    "1": "2AD70867-1E57-4C21-A67C-406D982786BC",
                                    "2": "2025-01-15 00:00:00",
                                    "3": "Pipeline",
                                    "4": "17132.656",
                                    "5": "4289.039999999999",
                                    "6": "0.0",
                                    "7": "13",
                                    "8": "130",
                                    "9": "0",
                                    "10": "138",
                                    "11": "0",
                                    "12": "8",
                                    "13": "0",
                                    "14": "20250115"
                                },
                                {
                                    "0": "C37B34DC-7F7A-4A14-95EF-9575FFB2FBF2",
                                    "1": "2AD70867-1E57-4C21-A67C-406D982786BC",
                                    "2": "2025-01-15 00:00:00",
                                    "3": "Dataset",
                                    "4": "1885.9060000000002",
                                    "5": "2210.896",
                                    "6": "0.0",
                                    "7": "17",
                                    "8": "1167",
                                    "9": "0",
                                    "10": "1193",
                                    "11": "0",
                                    "12": "26",
                                    "13": "0",
                                    "14": "20250115"
                                },
                                {
                                    "0": "C37B34DC-7F7A-4A14-95EF-9575FFB2FBF2",
                                    "1": "502FC901-A00D-4BA7-8A8D-F5F1CCA0C6A6",
                                    "2": "2025-01-15 00:00:00",
                                    "3": "Activator",
                                    "4": "87000.0",
                                    "5": "1931.4",
                                    "6": "0.0",
                                    "7": "1",
                                    "8": "1",
                                    "9": "0",
                                    "10": "1",
                                    "11": "0",
                                    "12": "0",
                                    "13": "0",
                                    "14": "20250115"
                                },
                                {
                                    "0": "C37B34DC-7F7A-4A14-95EF-9575FFB2FBF2",
                                    "1": "94AA991B-55FC-415D-BA92-A71C9F45ED2F",
                                    "2": "2025-01-15 00:00:00",
                                    "3": "Dataset",
                                    "4": "367.346",
                                    "5": "1238.48",
                                    "6": "2.0",
                                    "7": "3",
                                    "8": "99",
                                    "9": "0",
                                    "10": "114",
                                    "11": "0",
                                    "12": "15",
                                    "13": "0",
                                    "14": "20250115"
                                },
                                {
                                    "0": "C37B34DC-7F7A-4A14-95EF-9575FFB2FBF2",
                                    "1": "2AD70867-1E57-4C21-A67C-406D982786BC",
                                    "2": "2025-01-15 00:00:00",
                                    "3": "Warehouse",
                                    "4": "890.978",
                                    "5": "1164.336",
                                    "6": "0.0",
                                    "7": "8",
                                    "8": "2662",
                                    "9": "0",
                                    "10": "2662",
                                    "11": "0",
                                    "12": "0",
                                    "13": "0",
                                    "14": "20250115"
                                },
                                {
                                    "0": "C37B34DC-7F7A-4A14-95EF-9575FFB2FBF2",
                                    "1": "4AF86E5D-5B9A-42C0-9491-A80242A15A34",
                                    "2": "2025-01-15 00:00:00",
                                    "3": "SynapseNotebook",
                                    "4": "214.247",
                                    "5": "983.827",
                                    "6": "0.0",
                                    "7": "1",
                                    "8": "0",
                                    "9": "0",
                                    "10": "3",
                                    "11": "0",
                                    "12": "0",
                                    "13": "3",
                                    "14": "20250115"
                                },
                                {
                                    "0": "C37B34DC-7F7A-4A14-95EF-9575FFB2FBF2",
                                    "1": "1F8631F1-BA1A-4154-921E-6D3919BB51FD",
                                    "2": "2025-01-15 00:00:00",
                                    "3": "Activator",
                                    "4": "24150.538",
                                    "5": "534.1541000000001",
                                    "6": "0.0",
                                    "7": "1",
                                    "8": "7",
                                    "9": "0",
                                    "10": "7",
                                    "11": "0",
                                    "12": "0",
                                    "13": "0",
                                    "14": "20250115"
                                },
                                {
                                    "0": "C37B34DC-7F7A-4A14-95EF-9575FFB2FBF2",
                                    "1": "4AF86E5D-5B9A-42C0-9491-A80242A15A34",
                                    "2": "2025-01-15 00:00:00",
                                    "3": "Pipeline",
                                    "4": "306.507",
                                    "5": "330.48",
                                    "6": "0.0",
                                    "7": "1",
                                    "8": "6",
                                    "9": "0",
                                    "10": "6",
                                    "11": "0",
                                    "12": "0",
                                    "13": "0",
                                    "14": "20250115"
                                },
                                {
                                    "0": "C37B34DC-7F7A-4A14-95EF-9575FFB2FBF2",
                                    "1": "1F8631F1-BA1A-4154-921E-6D3919BB51FD",
                                    "2": "2025-01-15 00:00:00",
                                    "3": "Warehouse",
                                    "4": "92.92000000000002",
                                    "5": "179.56400000000002",
                                    "6": "0.0",
                                    "7": "13",
                                    "8": "449",
                                    "9": "0",
                                    "10": "449",
                                    "11": "0",
                                    "12": "0",
                                    "13": "0",
                                    "14": "20250115"
                                },
                                {
                                    "0": "C37B34DC-7F7A-4A14-95EF-9575FFB2FBF2",
                                    "1": "4AF86E5D-5B9A-42C0-9491-A80242A15A34",
                                    "2": "2025-01-15 00:00:00",
                                    "3": "Lakehouse",
                                    "4": "1.003",
                                    "5": "158.17260000000257",
                                    "6": "0.0",
                                    "7": "1",
                                    "8": "1003",
                                    "9": "0",
                                    "10": "1003",
                                    "11": "0",
                                    "12": "0",
                                    "13": "0",
                                    "14": "20250115"
                                },
                                {
                                    "0": "C37B34DC-7F7A-4A14-95EF-9575FFB2FBF2",
                                    "1": "1F8631F1-BA1A-4154-921E-6D3919BB51FD",
                                    "2": "2025-01-15 00:00:00",
                                    "3": "Dataset",
                                    "4": "38.126999999999995",
                                    "5": "109.36",
                                    "6": "0.0",
                                    "7": "11",
                                    "8": "133",
                                    "9": "0",
                                    "10": "133",
                                    "11": "0",
                                    "12": "0",
                                    "13": "0",
                                    "14": "20250115"
                                },
                                {
                                    "0": "C37B34DC-7F7A-4A14-95EF-9575FFB2FBF2",
                                    "1": "65FC3DE9-6035-421A-B924-ECD7B19CAD09",
                                    "2": "2025-01-15 00:00:00",
                                    "3": "Warehouse",
                                    "4": "64.048",
                                    "5": "75.24",
                                    "6": "0.0",
                                    "7": "1",
                                    "8": "161",
                                    "9": "0",
                                    "10": "161",
                                    "11": "0",
                                    "12": "0",
                                    "13": "0",
                                    "14": "20250115"
                                },
                                {
                                    "0": "C37B34DC-7F7A-4A14-95EF-9575FFB2FBF2",
                                    "1": "1DBE0D9E-9308-47E7-A029-1E09289124A6",
                                    "2": "2025-01-15 00:00:00",
                                    "3": "Dataset",
                                    "4": "8.031",
                                    "5": "53.04",
                                    "6": "0.0",
                                    "7": "2",
                                    "8": "12",
                                    "9": "0",
                                    "10": "12",
                                    "11": "0",
                                    "12": "0",
                                    "13": "0",
                                    "14": "20250115"
                                },
                                {
                                    "0": "C37B34DC-7F7A-4A14-95EF-9575FFB2FBF2",
                                    "1": "65FC3DE9-6035-421A-B924-ECD7B19CAD09",
                                    "2": "2025-01-15 00:00:00",
                                    "3": "Lakehouse",
                                    "4": "0.237",
                                    "5": "42.405599999999886",
                                    "6": "0.0",
                                    "7": "1",
                                    "8": "237",
                                    "9": "0",
                                    "10": "237",
                                    "11": "0",
                                    "12": "0",
                                    "13": "0",
                                    "14": "20250115"
                                }
                            ],
                            "schema": [
                                {
                                    "key": "0",
                                    "name": "CapacityId",
                                    "type": "string"
                                },
                                {
                                    "key": "1",
                                    "name": "WorkspaceId",
                                    "type": "string"
                                },
                                {
                                    "key": "2",
                                    "name": "Date",
                                    "type": "timestamp"
                                },
                                {
                                    "key": "3",
                                    "name": "ItemKind",
                                    "type": "string"
                                },
                                {
                                    "key": "4",
                                    "name": "DurationInSec",
                                    "type": "double"
                                },
                                {
                                    "key": "5",
                                    "name": "TotalCUs",
                                    "type": "double"
                                },
                                {
                                    "key": "6",
                                    "name": "ThrottlingInMin",
                                    "type": "double"
                                },
                                {
                                    "key": "7",
                                    "name": "UserCount",
                                    "type": "bigint"
                                },
                                {
                                    "key": "8",
                                    "name": "SuccessOperationCount",
                                    "type": "bigint"
                                },
                                {
                                    "key": "9",
                                    "name": "RejectedOperationCount",
                                    "type": "bigint"
                                },
                                {
                                    "key": "10",
                                    "name": "OperationCount",
                                    "type": "bigint"
                                },
                                {
                                    "key": "11",
                                    "name": "InvalidOperationCount",
                                    "type": "bigint"
                                },
                                {
                                    "key": "12",
                                    "name": "FailureOperationCount",
                                    "type": "bigint"
                                },
                                {
                                    "key": "13",
                                    "name": "CancelledOperationCount",
                                    "type": "bigint"
                                },
                                {
                                    "key": "14",
                                    "name": "DateKey",
                                    "type": "string"
                                }
                            ],
                            "truncated": false
                        },
                        "isSummary": false,
                        "language": "scala",
                        "wranglerEntryContext": {
                            "candidateVariableNames": [
                                "capacity_df"
                            ],
                            "dataframeType": "pyspark"
                        }
                    },
                    "persist_state": {
                        "view": {
                            "type": "details",
                            "tableOptions": {},
                            "chartOptions": {
                                "chartType": "bar",
                                "categoryFieldKeys": [
                                    "1"
                                ],
                                "seriesFieldKeys": [
                                    "4"
                                ],
                                "aggregationType": "sum",
                                "isStacked": false,
                                "binsNumber": 10,
                                "wordFrequency": "-1",
                                "evaluatesOverAllRecords": false
                            },
                            "viewOptionsGroup": [
                                {
                                    "tabItems": [
                                        {
                                            "type": "table",
                                            "name": "Table",
                                            "key": "0",
                                            "options": {}
                                        }
                                    ]
                                }
                            ]
                        }
                    }
                },
                "c8b9835f-2746-499b-8b66-ccbfb1ba3b10": {
                    "type": "Synapse.DataFrame",
                    "sync_state": {
                        "table": {
                            "rows": [
                                {
                                    "0": "C37B34DC-7F7A-4A14-95EF-9575FFB2FBF2",
                                    "1": "A7E23DD6-D1EB-4C98-A974-BAD9BC4D56ED",
                                    "2": "2025-01-16 00:00:00",
                                    "3": "Pipeline",
                                    "4": "98.939",
                                    "5": "16920.0",
                                    "6": "0.0",
                                    "7": "1",
                                    "8": "1",
                                    "9": "0",
                                    "10": "1",
                                    "11": "0",
                                    "12": "0",
                                    "13": "0",
                                    "14": "20250116"
                                },
                                {
                                    "0": "C37B34DC-7F7A-4A14-95EF-9575FFB2FBF2",
                                    "1": "1F8631F1-BA1A-4154-921E-6D3919BB51FD",
                                    "2": "2025-01-16 00:00:00",
                                    "3": "EventStream",
                                    "4": "1208400.0",
                                    "5": "13725.239053560048",
                                    "6": "0.0",
                                    "7": "3",
                                    "8": "289",
                                    "9": "0",
                                    "10": "289",
                                    "11": "0",
                                    "12": "0",
                                    "13": "0",
                                    "14": "20250116"
                                },
                                {
                                    "0": "C37B34DC-7F7A-4A14-95EF-9575FFB2FBF2",
                                    "1": "2AD70867-1E57-4C21-A67C-406D982786BC",
                                    "2": "2025-01-16 00:00:00",
                                    "3": "SynapseNotebook",
                                    "4": "1597.053",
                                    "5": "6633.999999999999",
                                    "6": "0.0",
                                    "7": "15",
                                    "8": "0",
                                    "9": "0",
                                    "10": "16",
                                    "11": "0",
                                    "12": "0",
                                    "13": "16",
                                    "14": "20250116"
                                },
                                {
                                    "0": "C37B34DC-7F7A-4A14-95EF-9575FFB2FBF2",
                                    "1": "2AD70867-1E57-4C21-A67C-406D982786BC",
                                    "2": "2025-01-16 00:00:00",
                                    "3": "Pipeline",
                                    "4": "7487.219",
                                    "5": "2280.2399999999993",
                                    "6": "0.0",
                                    "7": "13",
                                    "8": "68",
                                    "9": "0",
                                    "10": "74",
                                    "11": "0",
                                    "12": "6",
                                    "13": "0",
                                    "14": "20250116"
                                },
                                {
                                    "0": "C37B34DC-7F7A-4A14-95EF-9575FFB2FBF2",
                                    "1": "A7E23DD6-D1EB-4C98-A974-BAD9BC4D56ED",
                                    "2": "2025-01-16 00:00:00",
                                    "3": "Lakehouse",
                                    "4": "1.683",
                                    "5": "1974.8938000000571",
                                    "6": "0.0",
                                    "7": "1",
                                    "8": "1683",
                                    "9": "0",
                                    "10": "1683",
                                    "11": "0",
                                    "12": "0",
                                    "13": "0",
                                    "14": "20250116"
                                },
                                {
                                    "0": "C37B34DC-7F7A-4A14-95EF-9575FFB2FBF2",
                                    "1": "1F8631F1-BA1A-4154-921E-6D3919BB51FD",
                                    "2": "2025-01-16 00:00:00",
                                    "3": "Activator",
                                    "4": "86460.294",
                                    "5": "1918.1303",
                                    "6": "0.0",
                                    "7": "1",
                                    "8": "4",
                                    "9": "0",
                                    "10": "4",
                                    "11": "0",
                                    "12": "0",
                                    "13": "0",
                                    "14": "20250116"
                                },
                                {
                                    "0": "C37B34DC-7F7A-4A14-95EF-9575FFB2FBF2",
                                    "1": "502FC901-A00D-4BA7-8A8D-F5F1CCA0C6A6",
                                    "2": "2025-01-16 00:00:00",
                                    "3": "Activator",
                                    "4": "86400.0",
                                    "5": "1918.08",
                                    "6": "0.0",
                                    "7": "1",
                                    "8": "1",
                                    "9": "0",
                                    "10": "1",
                                    "11": "0",
                                    "12": "0",
                                    "13": "0",
                                    "14": "20250116"
                                },
                                {
                                    "0": "C37B34DC-7F7A-4A14-95EF-9575FFB2FBF2",
                                    "1": "2AD70867-1E57-4C21-A67C-406D982786BC",
                                    "2": "2025-01-16 00:00:00",
                                    "3": "Lakehouse",
                                    "4": "12.120000000000001",
                                    "5": "1866.9716000000192",
                                    "6": "0.0",
                                    "7": "4",
                                    "8": "12120",
                                    "9": "0",
                                    "10": "12120",
                                    "11": "0",
                                    "12": "0",
                                    "13": "0",
                                    "14": "20250116"
                                },
                                {
                                    "0": "C37B34DC-7F7A-4A14-95EF-9575FFB2FBF2",
                                    "1": "4AF86E5D-5B9A-42C0-9491-A80242A15A34",
                                    "2": "2025-01-16 00:00:00",
                                    "3": "SynapseNotebook",
                                    "4": "207.879",
                                    "5": "1252.794",
                                    "6": "0.0",
                                    "7": "1",
                                    "8": "0",
                                    "9": "0",
                                    "10": "3",
                                    "11": "0",
                                    "12": "0",
                                    "13": "3",
                                    "14": "20250116"
                                },
                                {
                                    "0": "C37B34DC-7F7A-4A14-95EF-9575FFB2FBF2",
                                    "1": "94AA991B-55FC-415D-BA92-A71C9F45ED2F",
                                    "2": "2025-01-16 00:00:00",
                                    "3": "Dataset",
                                    "4": "142.006",
                                    "5": "500.464",
                                    "6": "0.0",
                                    "7": "2",
                                    "8": "55",
                                    "9": "0",
                                    "10": "61",
                                    "11": "0",
                                    "12": "6",
                                    "13": "0",
                                    "14": "20250116"
                                },
                                {
                                    "0": "C37B34DC-7F7A-4A14-95EF-9575FFB2FBF2",
                                    "1": "4AF86E5D-5B9A-42C0-9491-A80242A15A34",
                                    "2": "2025-01-16 00:00:00",
                                    "3": "Pipeline",
                                    "4": "384.026",
                                    "5": "330.48",
                                    "6": "0.0",
                                    "7": "1",
                                    "8": "6",
                                    "9": "0",
                                    "10": "6",
                                    "11": "0",
                                    "12": "0",
                                    "13": "0",
                                    "14": "20250116"
                                },
                                {
                                    "0": "C37B34DC-7F7A-4A14-95EF-9575FFB2FBF2",
                                    "1": "36A534D3-67FF-46E1-8C66-FB37EEFBCDA4",
                                    "2": "2025-01-16 00:00:00",
                                    "3": "Warehouse",
                                    "4": "339.094",
                                    "5": "323.25499999999994",
                                    "6": "0.0",
                                    "7": "3",
                                    "8": "513",
                                    "9": "0",
                                    "10": "513",
                                    "11": "0",
                                    "12": "0",
                                    "13": "0",
                                    "14": "20250116"
                                },
                                {
                                    "0": "C37B34DC-7F7A-4A14-95EF-9575FFB2FBF2",
                                    "1": "4AF86E5D-5B9A-42C0-9491-A80242A15A34",
                                    "2": "2025-01-16 00:00:00",
                                    "3": "Lakehouse",
                                    "4": "0.995",
                                    "5": "158.8938000000015",
                                    "6": "0.0",
                                    "7": "1",
                                    "8": "995",
                                    "9": "0",
                                    "10": "995",
                                    "11": "0",
                                    "12": "0",
                                    "13": "0",
                                    "14": "20250116"
                                },
                                {
                                    "0": "C37B34DC-7F7A-4A14-95EF-9575FFB2FBF2",
                                    "1": "2AD70867-1E57-4C21-A67C-406D982786BC",
                                    "2": "2025-01-16 00:00:00",
                                    "3": "Dataset",
                                    "4": "161.91899999999998",
                                    "5": "147.60000000000002",
                                    "6": "0.0",
                                    "7": "4",
                                    "8": "27",
                                    "9": "0",
                                    "10": "29",
                                    "11": "0",
                                    "12": "2",
                                    "13": "0",
                                    "14": "20250116"
                                },
                                {
                                    "0": "C37B34DC-7F7A-4A14-95EF-9575FFB2FBF2",
                                    "1": "2AD70867-1E57-4C21-A67C-406D982786BC",
                                    "2": "2025-01-16 00:00:00",
                                    "3": "Warehouse",
                                    "4": "89.12",
                                    "5": "128.41",
                                    "6": "0.0",
                                    "7": "6",
                                    "8": "803",
                                    "9": "0",
                                    "10": "803",
                                    "11": "0",
                                    "12": "0",
                                    "13": "0",
                                    "14": "20250116"
                                },
                                {
                                    "0": "C37B34DC-7F7A-4A14-95EF-9575FFB2FBF2",
                                    "1": "1F8631F1-BA1A-4154-921E-6D3919BB51FD",
                                    "2": "2025-01-16 00:00:00",
                                    "3": "Warehouse",
                                    "4": "96.86699999999999",
                                    "5": "117.02600000000001",
                                    "6": "0.0",
                                    "7": "13",
                                    "8": "311",
                                    "9": "0",
                                    "10": "311",
                                    "11": "0",
                                    "12": "0",
                                    "13": "0",
                                    "14": "20250116"
                                },
                                {
                                    "0": "C37B34DC-7F7A-4A14-95EF-9575FFB2FBF2",
                                    "1": "1F8631F1-BA1A-4154-921E-6D3919BB51FD",
                                    "2": "2025-01-16 00:00:00",
                                    "3": "Dataset",
                                    "4": "14.929",
                                    "5": "91.136",
                                    "6": "0.0",
                                    "7": "3",
                                    "8": "112",
                                    "9": "0",
                                    "10": "112",
                                    "11": "0",
                                    "12": "0",
                                    "13": "0",
                                    "14": "20250116"
                                },
                                {
                                    "0": "C37B34DC-7F7A-4A14-95EF-9575FFB2FBF2",
                                    "1": "65FC3DE9-6035-421A-B924-ECD7B19CAD09",
                                    "2": "2025-01-16 00:00:00",
                                    "3": "Warehouse",
                                    "4": "45.471",
                                    "5": "71.2",
                                    "6": "0.0",
                                    "7": "1",
                                    "8": "78",
                                    "9": "0",
                                    "10": "78",
                                    "11": "0",
                                    "12": "0",
                                    "13": "0",
                                    "14": "20250116"
                                },
                                {
                                    "0": "C37B34DC-7F7A-4A14-95EF-9575FFB2FBF2",
                                    "1": "1F8631F1-BA1A-4154-921E-6D3919BB51FD",
                                    "2": "2025-01-16 00:00:00",
                                    "3": "Lakehouse",
                                    "4": "0.558",
                                    "5": "70.46979999999986",
                                    "6": "0.0",
                                    "7": "7",
                                    "8": "558",
                                    "9": "0",
                                    "10": "558",
                                    "11": "0",
                                    "12": "0",
                                    "13": "0",
                                    "14": "20250116"
                                },
                                {
                                    "0": "C37B34DC-7F7A-4A14-95EF-9575FFB2FBF2",
                                    "1": "E59762BC-FA29-462A-A00E-0BC4FDB3E91B",
                                    "2": "2025-01-16 00:00:00",
                                    "3": "Lakehouse",
                                    "4": "0.578",
                                    "5": "60.05839999999959",
                                    "6": "0.0",
                                    "7": "1",
                                    "8": "578",
                                    "9": "0",
                                    "10": "578",
                                    "11": "0",
                                    "12": "0",
                                    "13": "0",
                                    "14": "20250116"
                                },
                                {
                                    "0": "C37B34DC-7F7A-4A14-95EF-9575FFB2FBF2",
                                    "1": "6CF8F848-1C57-4965-BE76-119B8D164F81",
                                    "2": "2025-01-16 00:00:00",
                                    "3": "Lakehouse",
                                    "4": "0.45",
                                    "5": "53.97639999999975",
                                    "6": "0.0",
                                    "7": "2",
                                    "8": "450",
                                    "9": "0",
                                    "10": "450",
                                    "11": "0",
                                    "12": "0",
                                    "13": "0",
                                    "14": "20250116"
                                },
                                {
                                    "0": "C37B34DC-7F7A-4A14-95EF-9575FFB2FBF2",
                                    "1": "E59762BC-FA29-462A-A00E-0BC4FDB3E91B",
                                    "2": "2025-01-16 00:00:00",
                                    "3": "Warehouse",
                                    "4": "47.377",
                                    "5": "52.012",
                                    "6": "0.0",
                                    "7": "2",
                                    "8": "60",
                                    "9": "0",
                                    "10": "60",
                                    "11": "0",
                                    "12": "0",
                                    "13": "0",
                                    "14": "20250116"
                                },
                                {
                                    "0": "C37B34DC-7F7A-4A14-95EF-9575FFB2FBF2",
                                    "1": "6CF8F848-1C57-4965-BE76-119B8D164F81",
                                    "2": "2025-01-16 00:00:00",
                                    "3": "Dataset",
                                    "4": "13.430000000000001",
                                    "5": "43.712",
                                    "6": "0.0",
                                    "7": "6",
                                    "8": "46",
                                    "9": "0",
                                    "10": "46",
                                    "11": "0",
                                    "12": "0",
                                    "13": "0",
                                    "14": "20250116"
                                },
                                {
                                    "0": "C37B34DC-7F7A-4A14-95EF-9575FFB2FBF2",
                                    "1": "1DBE0D9E-9308-47E7-A029-1E09289124A6",
                                    "2": "2025-01-16 00:00:00",
                                    "3": "Dataset",
                                    "4": "6.172",
                                    "5": "42.272",
                                    "6": "0.0",
                                    "7": "2",
                                    "8": "6",
                                    "9": "0",
                                    "10": "6",
                                    "11": "0",
                                    "12": "0",
                                    "13": "0",
                                    "14": "20250116"
                                },
                                {
                                    "0": "C37B34DC-7F7A-4A14-95EF-9575FFB2FBF2",
                                    "1": "6CF8F848-1C57-4965-BE76-119B8D164F81",
                                    "2": "2025-01-16 00:00:00",
                                    "3": "Warehouse",
                                    "4": "9.693999999999999",
                                    "5": "35.992",
                                    "6": "0.0",
                                    "7": "2",
                                    "8": "85",
                                    "9": "0",
                                    "10": "85",
                                    "11": "0",
                                    "12": "0",
                                    "13": "0",
                                    "14": "20250116"
                                },
                                {
                                    "0": "C37B34DC-7F7A-4A14-95EF-9575FFB2FBF2",
                                    "1": "A7E23DD6-D1EB-4C98-A974-BAD9BC4D56ED",
                                    "2": "2025-01-16 00:00:00",
                                    "3": "Warehouse",
                                    "4": "12.921",
                                    "5": "17.816",
                                    "6": "0.0",
                                    "7": "1",
                                    "8": "56",
                                    "9": "0",
                                    "10": "56",
                                    "11": "0",
                                    "12": "0",
                                    "13": "0",
                                    "14": "20250116"
                                },
                                {
                                    "0": "C37B34DC-7F7A-4A14-95EF-9575FFB2FBF2",
                                    "1": "65FC3DE9-6035-421A-B924-ECD7B19CAD09",
                                    "2": "2025-01-16 00:00:00",
                                    "3": "Lakehouse",
                                    "4": "0.073",
                                    "5": "13.762000000000011",
                                    "6": "0.0",
                                    "7": "1",
                                    "8": "73",
                                    "9": "0",
                                    "10": "73",
                                    "11": "0",
                                    "12": "0",
                                    "13": "0",
                                    "14": "20250116"
                                },
                                {
                                    "0": "C37B34DC-7F7A-4A14-95EF-9575FFB2FBF2",
                                    "1": "36A534D3-67FF-46E1-8C66-FB37EEFBCDA4",
                                    "2": "2025-01-16 00:00:00",
                                    "3": "Dataset",
                                    "4": "3.863",
                                    "5": "12.08",
                                    "6": "0.0",
                                    "7": "2",
                                    "8": "19",
                                    "9": "0",
                                    "10": "19",
                                    "11": "0",
                                    "12": "0",
                                    "13": "0",
                                    "14": "20250116"
                                },
                                {
                                    "0": "C37B34DC-7F7A-4A14-95EF-9575FFB2FBF2",
                                    "1": "A7E23DD6-D1EB-4C98-A974-BAD9BC4D56ED",
                                    "2": "2025-01-16 00:00:00",
                                    "3": "Dataset",
                                    "4": "3.391",
                                    "5": "8.512",
                                    "6": "0.0",
                                    "7": "2",
                                    "8": "5",
                                    "9": "0",
                                    "10": "5",
                                    "11": "0",
                                    "12": "0",
                                    "13": "0",
                                    "14": "20250116"
                                },
                                {
                                    "0": "C37B34DC-7F7A-4A14-95EF-9575FFB2FBF2",
                                    "1": "F2FA1756-9873-4498-B428-646878356B4B",
                                    "2": "2025-01-16 00:00:00",
                                    "3": "Dataset",
                                    "4": "1.719",
                                    "5": "2.0",
                                    "6": "0.0",
                                    "7": "2",
                                    "8": "2",
                                    "9": "0",
                                    "10": "2",
                                    "11": "0",
                                    "12": "0",
                                    "13": "0",
                                    "14": "20250116"
                                },
                                {
                                    "0": "C37B34DC-7F7A-4A14-95EF-9575FFB2FBF2",
                                    "1": "336DD6E5-55F2-4FA4-9116-35CBD959D38C",
                                    "2": "2025-01-16 00:00:00",
                                    "3": "Lakehouse",
                                    "4": "0.006",
                                    "5": "0.9756",
                                    "6": "0.0",
                                    "7": "3",
                                    "8": "6",
                                    "9": "0",
                                    "10": "6",
                                    "11": "0",
                                    "12": "0",
                                    "13": "0",
                                    "14": "20250116"
                                },
                                {
                                    "0": "C37B34DC-7F7A-4A14-95EF-9575FFB2FBF2",
                                    "1": "2AD70867-1E57-4C21-A67C-406D982786BC",
                                    "2": "2025-01-16 00:00:00",
                                    "3": "LLMPlugin",
                                    "4": "0.002",
                                    "5": "0.3252",
                                    "6": "0.0",
                                    "7": "1",
                                    "8": "2",
                                    "9": "0",
                                    "10": "2",
                                    "11": "0",
                                    "12": "0",
                                    "13": "0",
                                    "14": "20250116"
                                },
                                {
                                    "0": "C37B34DC-7F7A-4A14-95EF-9575FFB2FBF2",
                                    "1": "09F6878A-33D0-4175-961C-38328EC5CA42",
                                    "2": "2025-01-16 00:00:00",
                                    "3": "Lakehouse",
                                    "4": "0.002",
                                    "5": "0.3252",
                                    "6": "0.0",
                                    "7": "1",
                                    "8": "2",
                                    "9": "0",
                                    "10": "2",
                                    "11": "0",
                                    "12": "0",
                                    "13": "0",
                                    "14": "20250116"
                                }
                            ],
                            "schema": [
                                {
                                    "key": "0",
                                    "name": "CapacityId",
                                    "type": "string"
                                },
                                {
                                    "key": "1",
                                    "name": "WorkspaceId",
                                    "type": "string"
                                },
                                {
                                    "key": "2",
                                    "name": "Date",
                                    "type": "timestamp"
                                },
                                {
                                    "key": "3",
                                    "name": "ItemKind",
                                    "type": "string"
                                },
                                {
                                    "key": "4",
                                    "name": "DurationInSec",
                                    "type": "double"
                                },
                                {
                                    "key": "5",
                                    "name": "TotalCUs",
                                    "type": "double"
                                },
                                {
                                    "key": "6",
                                    "name": "ThrottlingInMin",
                                    "type": "double"
                                },
                                {
                                    "key": "7",
                                    "name": "UserCount",
                                    "type": "bigint"
                                },
                                {
                                    "key": "8",
                                    "name": "SuccessOperationCount",
                                    "type": "bigint"
                                },
                                {
                                    "key": "9",
                                    "name": "RejectedOperationCount",
                                    "type": "bigint"
                                },
                                {
                                    "key": "10",
                                    "name": "OperationCount",
                                    "type": "bigint"
                                },
                                {
                                    "key": "11",
                                    "name": "InvalidOperationCount",
                                    "type": "bigint"
                                },
                                {
                                    "key": "12",
                                    "name": "FailureOperationCount",
                                    "type": "bigint"
                                },
                                {
                                    "key": "13",
                                    "name": "CancelledOperationCount",
                                    "type": "bigint"
                                },
                                {
                                    "key": "14",
                                    "name": "DateKey",
                                    "type": "string"
                                }
                            ],
                            "truncated": false
                        },
                        "isSummary": false,
                        "language": "scala",
                        "wranglerEntryContext": {
                            "candidateVariableNames": [
                                "capacity_df"
                            ],
                            "dataframeType": "pyspark"
                        }
                    },
                    "persist_state": {
                        "view": {
                            "type": "details",
                            "tableOptions": {},
                            "chartOptions": {
                                "chartType": "bar",
                                "categoryFieldKeys": [
                                    "1"
                                ],
                                "seriesFieldKeys": [
                                    "5"
                                ],
                                "aggregationType": "sum",
                                "isStacked": false,
                                "binsNumber": 10,
                                "wordFrequency": "-1",
                                "evaluatesOverAllRecords": false
                            },
                            "viewOptionsGroup": [
                                {
                                    "tabItems": [
                                        {
                                            "type": "table",
                                            "name": "Table",
                                            "key": "0",
                                            "options": {}
                                        }
                                    ]
                                }
                            ]
                        }
                    }
                },
                "1380ebc8-9016-4032-992e-e7af30281fc0": {
                    "type": "Synapse.DataFrame",
                    "sync_state": {
                        "table": {
                            "rows": [
                                {
                                    "0": "C37B34DC-7F7A-4A14-95EF-9575FFB2FBF2",
                                    "1": "2AD70867-1E57-4C21-A67C-406D982786BC",
                                    "2": "2025-01-17 00:00:00",
                                    "3": "Lakehouse",
                                    "4": "6445.758",
                                    "5": "34176.70570000023",
                                    "6": "0.0",
                                    "7": "6",
                                    "8": "27279",
                                    "9": "0",
                                    "10": "27284",
                                    "11": "0",
                                    "12": "5",
                                    "13": "0",
                                    "14": "20250117"
                                },
                                {
                                    "0": "C37B34DC-7F7A-4A14-95EF-9575FFB2FBF2",
                                    "1": "2AD70867-1E57-4C21-A67C-406D982786BC",
                                    "2": "2025-01-17 00:00:00",
                                    "3": "SynapseNotebook",
                                    "4": "2894.598",
                                    "5": "15240.0",
                                    "6": "0.0",
                                    "7": "16",
                                    "8": "0",
                                    "9": "0",
                                    "10": "17",
                                    "11": "0",
                                    "12": "1",
                                    "13": "16",
                                    "14": "20250117"
                                },
                                {
                                    "0": "C37B34DC-7F7A-4A14-95EF-9575FFB2FBF2",
                                    "1": "65FC3DE9-6035-421A-B924-ECD7B19CAD09",
                                    "2": "2025-01-17 00:00:00",
                                    "3": "SynapseNotebook",
                                    "4": "1602.192",
                                    "5": "13736.7365",
                                    "6": "0.0",
                                    "7": "1",
                                    "8": "0",
                                    "9": "0",
                                    "10": "1",
                                    "11": "0",
                                    "12": "1",
                                    "13": "0",
                                    "14": "20250117"
                                },
                                {
                                    "0": "C37B34DC-7F7A-4A14-95EF-9575FFB2FBF2",
                                    "1": "1F8631F1-BA1A-4154-921E-6D3919BB51FD",
                                    "2": "2025-01-17 00:00:00",
                                    "3": "EventStream",
                                    "4": "1210800.0",
                                    "5": "5328.010822029411",
                                    "6": "0.0",
                                    "7": "3",
                                    "8": "291",
                                    "9": "0",
                                    "10": "291",
                                    "11": "0",
                                    "12": "0",
                                    "13": "0",
                                    "14": "20250117"
                                },
                                {
                                    "0": "C37B34DC-7F7A-4A14-95EF-9575FFB2FBF2",
                                    "1": "1F8631F1-BA1A-4154-921E-6D3919BB51FD",
                                    "2": "2025-01-17 00:00:00",
                                    "3": "Lakehouse",
                                    "4": "1270.471",
                                    "5": "5114.4760000000115",
                                    "6": "0.0",
                                    "7": "2",
                                    "8": "400",
                                    "9": "0",
                                    "10": "401",
                                    "11": "0",
                                    "12": "1",
                                    "13": "0",
                                    "14": "20250117"
                                },
                                {
                                    "0": "C37B34DC-7F7A-4A14-95EF-9575FFB2FBF2",
                                    "1": "2AD70867-1E57-4C21-A67C-406D982786BC",
                                    "2": "2025-01-17 00:00:00",
                                    "3": "Pipeline",
                                    "4": "8416.816",
                                    "5": "2280.2399999999993",
                                    "6": "0.0",
                                    "7": "13",
                                    "8": "68",
                                    "9": "0",
                                    "10": "74",
                                    "11": "0",
                                    "12": "6",
                                    "13": "0",
                                    "14": "20250117"
                                },
                                {
                                    "0": "C37B34DC-7F7A-4A14-95EF-9575FFB2FBF2",
                                    "1": "2AD70867-1E57-4C21-A67C-406D982786BC",
                                    "2": "2025-01-17 00:00:00",
                                    "3": "Dataset",
                                    "4": "2818.954",
                                    "5": "2180.8959999999997",
                                    "6": "0.0",
                                    "7": "10",
                                    "8": "1176",
                                    "9": "0",
                                    "10": "1242",
                                    "11": "0",
                                    "12": "66",
                                    "13": "0",
                                    "14": "20250117"
                                },
                                {
                                    "0": "C37B34DC-7F7A-4A14-95EF-9575FFB2FBF2",
                                    "1": "502FC901-A00D-4BA7-8A8D-F5F1CCA0C6A6",
                                    "2": "2025-01-17 00:00:00",
                                    "3": "Activator",
                                    "4": "86400.0",
                                    "5": "1918.08",
                                    "6": "0.0",
                                    "7": "1",
                                    "8": "1",
                                    "9": "0",
                                    "10": "1",
                                    "11": "0",
                                    "12": "0",
                                    "13": "0",
                                    "14": "20250117"
                                },
                                {
                                    "0": "C37B34DC-7F7A-4A14-95EF-9575FFB2FBF2",
                                    "1": "1F8631F1-BA1A-4154-921E-6D3919BB51FD",
                                    "2": "2025-01-17 00:00:00",
                                    "3": "Activator",
                                    "4": "86400.0",
                                    "5": "1918.08",
                                    "6": "0.0",
                                    "7": "1",
                                    "8": "1",
                                    "9": "0",
                                    "10": "1",
                                    "11": "0",
                                    "12": "0",
                                    "13": "0",
                                    "14": "20250117"
                                },
                                {
                                    "0": "C37B34DC-7F7A-4A14-95EF-9575FFB2FBF2",
                                    "1": "2AD70867-1E57-4C21-A67C-406D982786BC",
                                    "2": "2025-01-17 00:00:00",
                                    "3": "Warehouse",
                                    "4": "1276.9149999999997",
                                    "5": "1402.4440000000002",
                                    "6": "0.0",
                                    "7": "7",
                                    "8": "2179",
                                    "9": "0",
                                    "10": "2186",
                                    "11": "0",
                                    "12": "0",
                                    "13": "6",
                                    "14": "20250117"
                                },
                                {
                                    "0": "C37B34DC-7F7A-4A14-95EF-9575FFB2FBF2",
                                    "1": "94AA991B-55FC-415D-BA92-A71C9F45ED2F",
                                    "2": "2025-01-17 00:00:00",
                                    "3": "Dataset",
                                    "4": "430.773",
                                    "5": "1317.616",
                                    "6": "0.0",
                                    "7": "3",
                                    "8": "130",
                                    "9": "0",
                                    "10": "145",
                                    "11": "0",
                                    "12": "15",
                                    "13": "0",
                                    "14": "20250117"
                                },
                                {
                                    "0": "C37B34DC-7F7A-4A14-95EF-9575FFB2FBF2",
                                    "1": "4AF86E5D-5B9A-42C0-9491-A80242A15A34",
                                    "2": "2025-01-17 00:00:00",
                                    "3": "SynapseNotebook",
                                    "4": "237.757",
                                    "5": "951.0455",
                                    "6": "0.0",
                                    "7": "1",
                                    "8": "0",
                                    "9": "0",
                                    "10": "3",
                                    "11": "0",
                                    "12": "0",
                                    "13": "3",
                                    "14": "20250117"
                                },
                                {
                                    "0": "C37B34DC-7F7A-4A14-95EF-9575FFB2FBF2",
                                    "1": "65FC3DE9-6035-421A-B924-ECD7B19CAD09",
                                    "2": "2025-01-17 00:00:00",
                                    "3": "Warehouse",
                                    "4": "639.989",
                                    "5": "616.22",
                                    "6": "0.0",
                                    "7": "2",
                                    "8": "2626",
                                    "9": "0",
                                    "10": "2631",
                                    "11": "0",
                                    "12": "0",
                                    "13": "6",
                                    "14": "20250117"
                                },
                                {
                                    "0": "C37B34DC-7F7A-4A14-95EF-9575FFB2FBF2",
                                    "1": "65FC3DE9-6035-421A-B924-ECD7B19CAD09",
                                    "2": "2025-01-17 00:00:00",
                                    "3": "Dataset",
                                    "4": "1825.634",
                                    "5": "344.208",
                                    "6": "0.0",
                                    "7": "2",
                                    "8": "362",
                                    "9": "0",
                                    "10": "379",
                                    "11": "0",
                                    "12": "17",
                                    "13": "0",
                                    "14": "20250117"
                                },
                                {
                                    "0": "C37B34DC-7F7A-4A14-95EF-9575FFB2FBF2",
                                    "1": "4AF86E5D-5B9A-42C0-9491-A80242A15A34",
                                    "2": "2025-01-17 00:00:00",
                                    "3": "Pipeline",
                                    "4": "1598.317",
                                    "5": "330.48",
                                    "6": "0.0",
                                    "7": "1",
                                    "8": "6",
                                    "9": "0",
                                    "10": "6",
                                    "11": "0",
                                    "12": "0",
                                    "13": "0",
                                    "14": "20250117"
                                },
                                {
                                    "0": "C37B34DC-7F7A-4A14-95EF-9575FFB2FBF2",
                                    "1": "65FC3DE9-6035-421A-B924-ECD7B19CAD09",
                                    "2": "2025-01-17 00:00:00",
                                    "3": "Lakehouse",
                                    "4": "1.099",
                                    "5": "163.46099999999998",
                                    "6": "0.0",
                                    "7": "1",
                                    "8": "1099",
                                    "9": "0",
                                    "10": "1099",
                                    "11": "0",
                                    "12": "0",
                                    "13": "0",
                                    "14": "20250117"
                                },
                                {
                                    "0": "C37B34DC-7F7A-4A14-95EF-9575FFB2FBF2",
                                    "1": "4AF86E5D-5B9A-42C0-9491-A80242A15A34",
                                    "2": "2025-01-17 00:00:00",
                                    "3": "Lakehouse",
                                    "4": "1.003",
                                    "5": "160.55219999999971",
                                    "6": "0.0",
                                    "7": "1",
                                    "8": "1003",
                                    "9": "0",
                                    "10": "1003",
                                    "11": "0",
                                    "12": "0",
                                    "13": "0",
                                    "14": "20250117"
                                },
                                {
                                    "0": "C37B34DC-7F7A-4A14-95EF-9575FFB2FBF2",
                                    "1": "BB3BF04E-5364-4045-BE4D-2F8AC740FB1A",
                                    "2": "2025-01-17 00:00:00",
                                    "3": "Lakehouse",
                                    "4": "0.883",
                                    "5": "88.71800000000138",
                                    "6": "0.0",
                                    "7": "1",
                                    "8": "883",
                                    "9": "0",
                                    "10": "883",
                                    "11": "0",
                                    "12": "0",
                                    "13": "0",
                                    "14": "20250117"
                                },
                                {
                                    "0": "C37B34DC-7F7A-4A14-95EF-9575FFB2FBF2",
                                    "1": "1F8631F1-BA1A-4154-921E-6D3919BB51FD",
                                    "2": "2025-01-17 00:00:00",
                                    "3": "Dataset",
                                    "4": "15.457",
                                    "5": "82.176",
                                    "6": "0.0",
                                    "7": "4",
                                    "8": "146",
                                    "9": "0",
                                    "10": "146",
                                    "11": "0",
                                    "12": "0",
                                    "13": "0",
                                    "14": "20250117"
                                },
                                {
                                    "0": "C37B34DC-7F7A-4A14-95EF-9575FFB2FBF2",
                                    "1": "BB3BF04E-5364-4045-BE4D-2F8AC740FB1A",
                                    "2": "2025-01-17 00:00:00",
                                    "3": "Warehouse",
                                    "4": "45.326",
                                    "5": "51.622",
                                    "6": "0.0",
                                    "7": "2",
                                    "8": "44",
                                    "9": "0",
                                    "10": "44",
                                    "11": "0",
                                    "12": "0",
                                    "13": "0",
                                    "14": "20250117"
                                },
                                {
                                    "0": "C37B34DC-7F7A-4A14-95EF-9575FFB2FBF2",
                                    "1": "1DBE0D9E-9308-47E7-A029-1E09289124A6",
                                    "2": "2025-01-17 00:00:00",
                                    "3": "Dataset",
                                    "4": "6.595",
                                    "5": "47.28",
                                    "6": "0.0",
                                    "7": "2",
                                    "8": "9",
                                    "9": "0",
                                    "10": "9",
                                    "11": "0",
                                    "12": "0",
                                    "13": "0",
                                    "14": "20250117"
                                },
                                {
                                    "0": "C37B34DC-7F7A-4A14-95EF-9575FFB2FBF2",
                                    "1": "36A534D3-67FF-46E1-8C66-FB37EEFBCDA4",
                                    "2": "2025-01-17 00:00:00",
                                    "3": "Warehouse",
                                    "4": "0.006",
                                    "5": "1.9511999999999998",
                                    "6": "0.0",
                                    "7": "1",
                                    "8": "6",
                                    "9": "0",
                                    "10": "6",
                                    "11": "0",
                                    "12": "0",
                                    "13": "0",
                                    "14": "20250117"
                                },
                                {
                                    "0": "C37B34DC-7F7A-4A14-95EF-9575FFB2FBF2",
                                    "1": "336DD6E5-55F2-4FA4-9116-35CBD959D38C",
                                    "2": "2025-01-17 00:00:00",
                                    "3": "Lakehouse",
                                    "4": "0.003",
                                    "5": "0.4878",
                                    "6": "0.0",
                                    "7": "3",
                                    "8": "3",
                                    "9": "0",
                                    "10": "3",
                                    "11": "0",
                                    "12": "0",
                                    "13": "0",
                                    "14": "20250117"
                                },
                                {
                                    "0": "C37B34DC-7F7A-4A14-95EF-9575FFB2FBF2",
                                    "1": "E59762BC-FA29-462A-A00E-0BC4FDB3E91B",
                                    "2": "2025-01-17 00:00:00",
                                    "3": "Lakehouse",
                                    "4": "0.001",
                                    "5": "0.3252",
                                    "6": "0.0",
                                    "7": "1",
                                    "8": "1",
                                    "9": "0",
                                    "10": "1",
                                    "11": "0",
                                    "12": "0",
                                    "13": "0",
                                    "14": "20250117"
                                },
                                {
                                    "0": "C37B34DC-7F7A-4A14-95EF-9575FFB2FBF2",
                                    "1": "09F6878A-33D0-4175-961C-38328EC5CA42",
                                    "2": "2025-01-17 00:00:00",
                                    "3": "Lakehouse",
                                    "4": "0.001",
                                    "5": "0.1626",
                                    "6": "0.0",
                                    "7": "1",
                                    "8": "1",
                                    "9": "0",
                                    "10": "1",
                                    "11": "0",
                                    "12": "0",
                                    "13": "0",
                                    "14": "20250117"
                                },
                                {
                                    "0": "C37B34DC-7F7A-4A14-95EF-9575FFB2FBF2",
                                    "1": "2AD70867-1E57-4C21-A67C-406D982786BC",
                                    "2": "2025-01-17 00:00:00",
                                    "3": "LLMPlugin",
                                    "4": "0.001",
                                    "5": "0.1626",
                                    "6": "0.0",
                                    "7": "1",
                                    "8": "1",
                                    "9": "0",
                                    "10": "1",
                                    "11": "0",
                                    "12": "0",
                                    "13": "0",
                                    "14": "20250117"
                                }
                            ],
                            "schema": [
                                {
                                    "key": "0",
                                    "name": "CapacityId",
                                    "type": "string"
                                },
                                {
                                    "key": "1",
                                    "name": "WorkspaceId",
                                    "type": "string"
                                },
                                {
                                    "key": "2",
                                    "name": "Date",
                                    "type": "timestamp"
                                },
                                {
                                    "key": "3",
                                    "name": "ItemKind",
                                    "type": "string"
                                },
                                {
                                    "key": "4",
                                    "name": "DurationInSec",
                                    "type": "double"
                                },
                                {
                                    "key": "5",
                                    "name": "TotalCUs",
                                    "type": "double"
                                },
                                {
                                    "key": "6",
                                    "name": "ThrottlingInMin",
                                    "type": "double"
                                },
                                {
                                    "key": "7",
                                    "name": "UserCount",
                                    "type": "bigint"
                                },
                                {
                                    "key": "8",
                                    "name": "SuccessOperationCount",
                                    "type": "bigint"
                                },
                                {
                                    "key": "9",
                                    "name": "RejectedOperationCount",
                                    "type": "bigint"
                                },
                                {
                                    "key": "10",
                                    "name": "OperationCount",
                                    "type": "bigint"
                                },
                                {
                                    "key": "11",
                                    "name": "InvalidOperationCount",
                                    "type": "bigint"
                                },
                                {
                                    "key": "12",
                                    "name": "FailureOperationCount",
                                    "type": "bigint"
                                },
                                {
                                    "key": "13",
                                    "name": "CancelledOperationCount",
                                    "type": "bigint"
                                },
                                {
                                    "key": "14",
                                    "name": "DateKey",
                                    "type": "string"
                                }
                            ],
                            "truncated": false
                        },
                        "isSummary": false,
                        "language": "scala",
                        "wranglerEntryContext": {
                            "candidateVariableNames": [
                                "capacity_df"
                            ],
                            "dataframeType": "pyspark"
                        }
                    },
                    "persist_state": {
                        "view": {
                            "type": "details",
                            "tableOptions": {},
                            "chartOptions": {
                                "chartType": "bar",
                                "categoryFieldKeys": [
                                    "1"
                                ],
                                "seriesFieldKeys": [
                                    "5"
                                ],
                                "aggregationType": "sum",
                                "isStacked": false,
                                "binsNumber": 10,
                                "wordFrequency": "-1",
                                "evaluatesOverAllRecords": false
                            },
                            "viewOptionsGroup": [
                                {
                                    "tabItems": [
                                        {
                                            "type": "table",
                                            "name": "Table",
                                            "key": "0",
                                            "options": {}
                                        }
                                    ]
                                }
                            ]
                        }
                    }
                },
                "118550e7-de94-4f39-93d3-2bf36c0280b1": {
                    "type": "Synapse.DataFrame",
                    "sync_state": {
                        "table": {
                            "rows": [
                                {
                                    "0": "C37B34DC-7F7A-4A14-95EF-9575FFB2FBF2",
                                    "1": "2AD70867-1E57-4C21-A67C-406D982786BC",
                                    "2": "2025-01-18 00:00:00",
                                    "3": "SynapseNotebook",
                                    "4": "2993.278",
                                    "5": "11973.293499999996",
                                    "6": "0.0",
                                    "7": "15",
                                    "8": "0",
                                    "9": "0",
                                    "10": "31",
                                    "11": "0",
                                    "12": "0",
                                    "13": "31",
                                    "14": "20250118"
                                },
                                {
                                    "0": "C37B34DC-7F7A-4A14-95EF-9575FFB2FBF2",
                                    "1": "2AD70867-1E57-4C21-A67C-406D982786BC",
                                    "2": "2025-01-18 00:00:00",
                                    "3": "Pipeline",
                                    "4": "14469.383",
                                    "5": "4760.6399999999985",
                                    "6": "0.0",
                                    "7": "13",
                                    "8": "136",
                                    "9": "0",
                                    "10": "148",
                                    "11": "0",
                                    "12": "12",
                                    "13": "0",
                                    "14": "20250118"
                                },
                                {
                                    "0": "C37B34DC-7F7A-4A14-95EF-9575FFB2FBF2",
                                    "1": "1F8631F1-BA1A-4154-921E-6D3919BB51FD",
                                    "2": "2025-01-18 00:00:00",
                                    "3": "EventStream",
                                    "4": "1214400.0",
                                    "5": "3836.16",
                                    "6": "0.0",
                                    "7": "3",
                                    "8": "291",
                                    "9": "0",
                                    "10": "291",
                                    "11": "0",
                                    "12": "0",
                                    "13": "0",
                                    "14": "20250118"
                                },
                                {
                                    "0": "C37B34DC-7F7A-4A14-95EF-9575FFB2FBF2",
                                    "1": "2AD70867-1E57-4C21-A67C-406D982786BC",
                                    "2": "2025-01-18 00:00:00",
                                    "3": "Lakehouse",
                                    "4": "22.923000000000002",
                                    "5": "3561.2428000000073",
                                    "6": "0.0",
                                    "7": "4",
                                    "8": "22923",
                                    "9": "0",
                                    "10": "22923",
                                    "11": "0",
                                    "12": "0",
                                    "13": "0",
                                    "14": "20250118"
                                },
                                {
                                    "0": "C37B34DC-7F7A-4A14-95EF-9575FFB2FBF2",
                                    "1": "1F8631F1-BA1A-4154-921E-6D3919BB51FD",
                                    "2": "2025-01-18 00:00:00",
                                    "3": "Activator",
                                    "4": "87000.0",
                                    "5": "1931.4",
                                    "6": "0.0",
                                    "7": "1",
                                    "8": "1",
                                    "9": "0",
                                    "10": "1",
                                    "11": "0",
                                    "12": "0",
                                    "13": "0",
                                    "14": "20250118"
                                },
                                {
                                    "0": "C37B34DC-7F7A-4A14-95EF-9575FFB2FBF2",
                                    "1": "502FC901-A00D-4BA7-8A8D-F5F1CCA0C6A6",
                                    "2": "2025-01-18 00:00:00",
                                    "3": "Activator",
                                    "4": "86400.0",
                                    "5": "1918.08",
                                    "6": "0.0",
                                    "7": "1",
                                    "8": "1",
                                    "9": "0",
                                    "10": "1",
                                    "11": "0",
                                    "12": "0",
                                    "13": "0",
                                    "14": "20250118"
                                },
                                {
                                    "0": "C37B34DC-7F7A-4A14-95EF-9575FFB2FBF2",
                                    "1": "4AF86E5D-5B9A-42C0-9491-A80242A15A34",
                                    "2": "2025-01-18 00:00:00",
                                    "3": "SynapseNotebook",
                                    "4": "242.344",
                                    "5": "969.3865",
                                    "6": "0.0",
                                    "7": "1",
                                    "8": "0",
                                    "9": "0",
                                    "10": "3",
                                    "11": "0",
                                    "12": "0",
                                    "13": "3",
                                    "14": "20250118"
                                },
                                {
                                    "0": "C37B34DC-7F7A-4A14-95EF-9575FFB2FBF2",
                                    "1": "2AD70867-1E57-4C21-A67C-406D982786BC",
                                    "2": "2025-01-18 00:00:00",
                                    "3": "Dataset",
                                    "4": "715.537",
                                    "5": "521.872",
                                    "6": "0.0",
                                    "7": "4",
                                    "8": "88",
                                    "9": "0",
                                    "10": "90",
                                    "11": "0",
                                    "12": "2",
                                    "13": "0",
                                    "14": "20250118"
                                },
                                {
                                    "0": "C37B34DC-7F7A-4A14-95EF-9575FFB2FBF2",
                                    "1": "4AF86E5D-5B9A-42C0-9491-A80242A15A34",
                                    "2": "2025-01-18 00:00:00",
                                    "3": "Pipeline",
                                    "4": "410.648",
                                    "5": "330.48",
                                    "6": "0.0",
                                    "7": "1",
                                    "8": "6",
                                    "9": "0",
                                    "10": "6",
                                    "11": "0",
                                    "12": "0",
                                    "13": "0",
                                    "14": "20250118"
                                },
                                {
                                    "0": "C37B34DC-7F7A-4A14-95EF-9575FFB2FBF2",
                                    "1": "94AA991B-55FC-415D-BA92-A71C9F45ED2F",
                                    "2": "2025-01-18 00:00:00",
                                    "3": "Dataset",
                                    "4": "74.939",
                                    "5": "302.304",
                                    "6": "0.0",
                                    "7": "3",
                                    "8": "23",
                                    "9": "0",
                                    "10": "25",
                                    "11": "0",
                                    "12": "2",
                                    "13": "0",
                                    "14": "20250118"
                                },
                                {
                                    "0": "C37B34DC-7F7A-4A14-95EF-9575FFB2FBF2",
                                    "1": "2AD70867-1E57-4C21-A67C-406D982786BC",
                                    "2": "2025-01-18 00:00:00",
                                    "3": "Warehouse",
                                    "4": "102.77600000000001",
                                    "5": "199.148",
                                    "6": "0.0",
                                    "7": "6",
                                    "8": "1356",
                                    "9": "0",
                                    "10": "1356",
                                    "11": "0",
                                    "12": "0",
                                    "13": "0",
                                    "14": "20250118"
                                },
                                {
                                    "0": "C37B34DC-7F7A-4A14-95EF-9575FFB2FBF2",
                                    "1": "4AF86E5D-5B9A-42C0-9491-A80242A15A34",
                                    "2": "2025-01-18 00:00:00",
                                    "3": "Lakehouse",
                                    "4": "0.993",
                                    "5": "158.75080000000355",
                                    "6": "0.0",
                                    "7": "1",
                                    "8": "993",
                                    "9": "0",
                                    "10": "993",
                                    "11": "0",
                                    "12": "0",
                                    "13": "0",
                                    "14": "20250118"
                                },
                                {
                                    "0": "C37B34DC-7F7A-4A14-95EF-9575FFB2FBF2",
                                    "1": "1DBE0D9E-9308-47E7-A029-1E09289124A6",
                                    "2": "2025-01-18 00:00:00",
                                    "3": "Dataset",
                                    "4": "9.455",
                                    "5": "103.776",
                                    "6": "0.0",
                                    "7": "2",
                                    "8": "6",
                                    "9": "0",
                                    "10": "6",
                                    "11": "0",
                                    "12": "0",
                                    "13": "0",
                                    "14": "20250118"
                                },
                                {
                                    "0": "C37B34DC-7F7A-4A14-95EF-9575FFB2FBF2",
                                    "1": "1F8631F1-BA1A-4154-921E-6D3919BB51FD",
                                    "2": "2025-01-18 00:00:00",
                                    "3": "Dataset",
                                    "4": "5.55",
                                    "5": "51.536",
                                    "6": "0.0",
                                    "7": "2",
                                    "8": "101",
                                    "9": "0",
                                    "10": "101",
                                    "11": "0",
                                    "12": "0",
                                    "13": "0",
                                    "14": "20250118"
                                }
                            ],
                            "schema": [
                                {
                                    "key": "0",
                                    "name": "CapacityId",
                                    "type": "string"
                                },
                                {
                                    "key": "1",
                                    "name": "WorkspaceId",
                                    "type": "string"
                                },
                                {
                                    "key": "2",
                                    "name": "Date",
                                    "type": "timestamp"
                                },
                                {
                                    "key": "3",
                                    "name": "ItemKind",
                                    "type": "string"
                                },
                                {
                                    "key": "4",
                                    "name": "DurationInSec",
                                    "type": "double"
                                },
                                {
                                    "key": "5",
                                    "name": "TotalCUs",
                                    "type": "double"
                                },
                                {
                                    "key": "6",
                                    "name": "ThrottlingInMin",
                                    "type": "double"
                                },
                                {
                                    "key": "7",
                                    "name": "UserCount",
                                    "type": "bigint"
                                },
                                {
                                    "key": "8",
                                    "name": "SuccessOperationCount",
                                    "type": "bigint"
                                },
                                {
                                    "key": "9",
                                    "name": "RejectedOperationCount",
                                    "type": "bigint"
                                },
                                {
                                    "key": "10",
                                    "name": "OperationCount",
                                    "type": "bigint"
                                },
                                {
                                    "key": "11",
                                    "name": "InvalidOperationCount",
                                    "type": "bigint"
                                },
                                {
                                    "key": "12",
                                    "name": "FailureOperationCount",
                                    "type": "bigint"
                                },
                                {
                                    "key": "13",
                                    "name": "CancelledOperationCount",
                                    "type": "bigint"
                                },
                                {
                                    "key": "14",
                                    "name": "DateKey",
                                    "type": "string"
                                }
                            ],
                            "truncated": false
                        },
                        "isSummary": false,
                        "language": "scala",
                        "wranglerEntryContext": {
                            "candidateVariableNames": [
                                "capacity_df"
                            ],
                            "dataframeType": "pyspark"
                        }
                    },
                    "persist_state": {
                        "view": {
                            "type": "details",
                            "tableOptions": {},
                            "chartOptions": {
                                "chartType": "bar",
                                "categoryFieldKeys": [
                                    "1"
                                ],
                                "seriesFieldKeys": [
                                    "5"
                                ],
                                "aggregationType": "sum",
                                "isStacked": false,
                                "binsNumber": 10,
                                "wordFrequency": "-1",
                                "evaluatesOverAllRecords": false
                            },
                            "viewOptionsGroup": [
                                {
                                    "tabItems": [
                                        {
                                            "type": "table",
                                            "name": "Table",
                                            "key": "0",
                                            "options": {}
                                        }
                                    ]
                                }
                            ]
                        }
                    }
                },
                "8ff0baca-1e50-4c43-a674-dba0df97c486": {
                    "type": "Synapse.DataFrame",
                    "sync_state": {
                        "table": {
                            "rows": [
                                {
                                    "0": "C37B34DC-7F7A-4A14-95EF-9575FFB2FBF2",
                                    "1": "2AD70867-1E57-4C21-A67C-406D982786BC",
                                    "2": "2025-01-19 00:00:00",
                                    "3": "SynapseNotebook",
                                    "4": "34509.481999999996",
                                    "5": "283797.22050000005",
                                    "6": "0.0",
                                    "7": "20",
                                    "8": "0",
                                    "9": "0",
                                    "10": "34",
                                    "11": "0",
                                    "12": "10",
                                    "13": "24",
                                    "14": "20250119"
                                },
                                {
                                    "0": "C37B34DC-7F7A-4A14-95EF-9575FFB2FBF2",
                                    "1": "2AD70867-1E57-4C21-A67C-406D982786BC",
                                    "2": "2025-01-19 00:00:00",
                                    "3": "Lakehouse",
                                    "4": "18485.186",
                                    "5": "88344.15439999211",
                                    "6": "0.0",
                                    "7": "6",
                                    "8": "54609",
                                    "9": "0",
                                    "10": "54621",
                                    "11": "0",
                                    "12": "12",
                                    "13": "0",
                                    "14": "20250119"
                                },
                                {
                                    "0": "C37B34DC-7F7A-4A14-95EF-9575FFB2FBF2",
                                    "1": "2AD70867-1E57-4C21-A67C-406D982786BC",
                                    "2": "2025-01-19 00:00:00",
                                    "3": "Dataset",
                                    "4": "2548.4700000000003",
                                    "5": "4243.120000000001",
                                    "6": "0.0",
                                    "7": "11",
                                    "8": "1979",
                                    "9": "81",
                                    "10": "2157",
                                    "11": "0",
                                    "12": "97",
                                    "13": "0",
                                    "14": "20250119"
                                },
                                {
                                    "0": "C37B34DC-7F7A-4A14-95EF-9575FFB2FBF2",
                                    "1": "1F8631F1-BA1A-4154-921E-6D3919BB51FD",
                                    "2": "2025-01-19 00:00:00",
                                    "3": "EventStream",
                                    "4": "1208400.0",
                                    "5": "3809.52",
                                    "6": "0.0",
                                    "7": "3",
                                    "8": "289",
                                    "9": "0",
                                    "10": "289",
                                    "11": "0",
                                    "12": "0",
                                    "13": "0",
                                    "14": "20250119"
                                },
                                {
                                    "0": "C37B34DC-7F7A-4A14-95EF-9575FFB2FBF2",
                                    "1": "2AD70867-1E57-4C21-A67C-406D982786BC",
                                    "2": "2025-01-19 00:00:00",
                                    "3": "Pipeline",
                                    "4": "7912.243",
                                    "5": "2500.5599999999995",
                                    "6": "0.0",
                                    "7": "13",
                                    "8": "72",
                                    "9": "0",
                                    "10": "78",
                                    "11": "0",
                                    "12": "6",
                                    "13": "0",
                                    "14": "20250119"
                                },
                                {
                                    "0": "C37B34DC-7F7A-4A14-95EF-9575FFB2FBF2",
                                    "1": "94AA991B-55FC-415D-BA92-A71C9F45ED2F",
                                    "2": "2025-01-19 00:00:00",
                                    "3": "Dataset",
                                    "4": "528.013",
                                    "5": "2056.736",
                                    "6": "0.0",
                                    "7": "2",
                                    "8": "151",
                                    "9": "6",
                                    "10": "171",
                                    "11": "0",
                                    "12": "14",
                                    "13": "0",
                                    "14": "20250119"
                                },
                                {
                                    "0": "C37B34DC-7F7A-4A14-95EF-9575FFB2FBF2",
                                    "1": "502FC901-A00D-4BA7-8A8D-F5F1CCA0C6A6",
                                    "2": "2025-01-19 00:00:00",
                                    "3": "Activator",
                                    "4": "87000.0",
                                    "5": "1931.4",
                                    "6": "0.0",
                                    "7": "1",
                                    "8": "1",
                                    "9": "0",
                                    "10": "1",
                                    "11": "0",
                                    "12": "0",
                                    "13": "0",
                                    "14": "20250119"
                                },
                                {
                                    "0": "C37B34DC-7F7A-4A14-95EF-9575FFB2FBF2",
                                    "1": "1F8631F1-BA1A-4154-921E-6D3919BB51FD",
                                    "2": "2025-01-19 00:00:00",
                                    "3": "Activator",
                                    "4": "86400.0",
                                    "5": "1918.08",
                                    "6": "0.0",
                                    "7": "1",
                                    "8": "1",
                                    "9": "0",
                                    "10": "1",
                                    "11": "0",
                                    "12": "0",
                                    "13": "0",
                                    "14": "20250119"
                                },
                                {
                                    "0": "C37B34DC-7F7A-4A14-95EF-9575FFB2FBF2",
                                    "1": "2AD70867-1E57-4C21-A67C-406D982786BC",
                                    "2": "2025-01-19 00:00:00",
                                    "3": "Warehouse",
                                    "4": "26198.804",
                                    "5": "1552.092",
                                    "6": "0.0",
                                    "7": "7",
                                    "8": "4606",
                                    "9": "0",
                                    "10": "4652",
                                    "11": "0",
                                    "12": "0",
                                    "13": "46",
                                    "14": "20250119"
                                },
                                {
                                    "0": "C37B34DC-7F7A-4A14-95EF-9575FFB2FBF2",
                                    "1": "4AF86E5D-5B9A-42C0-9491-A80242A15A34",
                                    "2": "2025-01-19 00:00:00",
                                    "3": "SynapseNotebook",
                                    "4": "160.115",
                                    "5": "640.4765",
                                    "6": "0.0",
                                    "7": "1",
                                    "8": "0",
                                    "9": "0",
                                    "10": "3",
                                    "11": "0",
                                    "12": "0",
                                    "13": "3",
                                    "14": "20250119"
                                },
                                {
                                    "0": "C37B34DC-7F7A-4A14-95EF-9575FFB2FBF2",
                                    "1": "9234C852-D87E-42BD-A7DD-CC81A0CA5A5F",
                                    "2": "2025-01-19 00:00:00",
                                    "3": "KustoEventHouse",
                                    "4": "240.0",
                                    "5": "540.0",
                                    "6": "0.0",
                                    "7": "1",
                                    "8": "4",
                                    "9": "0",
                                    "10": "4",
                                    "11": "0",
                                    "12": "0",
                                    "13": "0",
                                    "14": "20250119"
                                },
                                {
                                    "0": "C37B34DC-7F7A-4A14-95EF-9575FFB2FBF2",
                                    "1": "1C8D0043-B762-4D49-ADF1-6BAF414F9AB4",
                                    "2": "2025-01-19 00:00:00",
                                    "3": "SynapseNotebook",
                                    "4": "132.535",
                                    "5": "530.1455",
                                    "6": "0.0",
                                    "7": "1",
                                    "8": "0",
                                    "9": "0",
                                    "10": "1",
                                    "11": "0",
                                    "12": "0",
                                    "13": "1",
                                    "14": "20250119"
                                },
                                {
                                    "0": "C37B34DC-7F7A-4A14-95EF-9575FFB2FBF2",
                                    "1": "4AF86E5D-5B9A-42C0-9491-A80242A15A34",
                                    "2": "2025-01-19 00:00:00",
                                    "3": "Pipeline",
                                    "4": "371.807",
                                    "5": "330.48",
                                    "6": "0.0",
                                    "7": "1",
                                    "8": "6",
                                    "9": "0",
                                    "10": "6",
                                    "11": "0",
                                    "12": "0",
                                    "13": "0",
                                    "14": "20250119"
                                },
                                {
                                    "0": "C37B34DC-7F7A-4A14-95EF-9575FFB2FBF2",
                                    "1": "0DBC4B31-0BCE-449F-AEEE-03CEF032ED2E",
                                    "2": "2025-01-19 00:00:00",
                                    "3": "Dataset",
                                    "4": "28.32",
                                    "5": "206.656",
                                    "6": "0.0",
                                    "7": "1",
                                    "8": "135",
                                    "9": "0",
                                    "10": "159",
                                    "11": "0",
                                    "12": "24",
                                    "13": "0",
                                    "14": "20250119"
                                },
                                {
                                    "0": "C37B34DC-7F7A-4A14-95EF-9575FFB2FBF2",
                                    "1": "4AF86E5D-5B9A-42C0-9491-A80242A15A34",
                                    "2": "2025-01-19 00:00:00",
                                    "3": "Lakehouse",
                                    "4": "1.007",
                                    "5": "161.66820000000098",
                                    "6": "0.0",
                                    "7": "1",
                                    "8": "1007",
                                    "9": "0",
                                    "10": "1007",
                                    "11": "0",
                                    "12": "0",
                                    "13": "0",
                                    "14": "20250119"
                                },
                                {
                                    "0": "C37B34DC-7F7A-4A14-95EF-9575FFB2FBF2",
                                    "1": "1C8D0043-B762-4D49-ADF1-6BAF414F9AB4",
                                    "2": "2025-01-19 00:00:00",
                                    "3": "Lakehouse",
                                    "4": "1.316",
                                    "5": "149.0888000000011",
                                    "6": "0.0",
                                    "7": "1",
                                    "8": "1316",
                                    "9": "0",
                                    "10": "1316",
                                    "11": "0",
                                    "12": "0",
                                    "13": "0",
                                    "14": "20250119"
                                },
                                {
                                    "0": "C37B34DC-7F7A-4A14-95EF-9575FFB2FBF2",
                                    "1": "1DBE0D9E-9308-47E7-A029-1E09289124A6",
                                    "2": "2025-01-19 00:00:00",
                                    "3": "Dataset",
                                    "4": "12.046",
                                    "5": "75.136",
                                    "6": "0.0",
                                    "7": "2",
                                    "8": "33",
                                    "9": "0",
                                    "10": "38",
                                    "11": "0",
                                    "12": "5",
                                    "13": "0",
                                    "14": "20250119"
                                },
                                {
                                    "0": "C37B34DC-7F7A-4A14-95EF-9575FFB2FBF2",
                                    "1": "1F8631F1-BA1A-4154-921E-6D3919BB51FD",
                                    "2": "2025-01-19 00:00:00",
                                    "3": "Dataset",
                                    "4": "3.737",
                                    "5": "52.272",
                                    "6": "0.0",
                                    "7": "3",
                                    "8": "98",
                                    "9": "0",
                                    "10": "99",
                                    "11": "0",
                                    "12": "1",
                                    "13": "0",
                                    "14": "20250119"
                                },
                                {
                                    "0": "C37B34DC-7F7A-4A14-95EF-9575FFB2FBF2",
                                    "1": "65FC3DE9-6035-421A-B924-ECD7B19CAD09",
                                    "2": "2025-01-19 00:00:00",
                                    "3": "Lakehouse",
                                    "4": "0.004",
                                    "5": "1.626",
                                    "6": "0.0",
                                    "7": "1",
                                    "8": "4",
                                    "9": "0",
                                    "10": "4",
                                    "11": "0",
                                    "12": "0",
                                    "13": "0",
                                    "14": "20250119"
                                },
                                {
                                    "0": "C37B34DC-7F7A-4A14-95EF-9575FFB2FBF2",
                                    "1": "36A534D3-67FF-46E1-8C66-FB37EEFBCDA4",
                                    "2": "2025-01-19 00:00:00",
                                    "3": "Warehouse",
                                    "4": "0.004",
                                    "5": "1.1382",
                                    "6": "0.0",
                                    "7": "1",
                                    "8": "4",
                                    "9": "0",
                                    "10": "4",
                                    "11": "0",
                                    "12": "0",
                                    "13": "0",
                                    "14": "20250119"
                                }
                            ],
                            "schema": [
                                {
                                    "key": "0",
                                    "name": "CapacityId",
                                    "type": "string"
                                },
                                {
                                    "key": "1",
                                    "name": "WorkspaceId",
                                    "type": "string"
                                },
                                {
                                    "key": "2",
                                    "name": "Date",
                                    "type": "timestamp"
                                },
                                {
                                    "key": "3",
                                    "name": "ItemKind",
                                    "type": "string"
                                },
                                {
                                    "key": "4",
                                    "name": "DurationInSec",
                                    "type": "double"
                                },
                                {
                                    "key": "5",
                                    "name": "TotalCUs",
                                    "type": "double"
                                },
                                {
                                    "key": "6",
                                    "name": "ThrottlingInMin",
                                    "type": "double"
                                },
                                {
                                    "key": "7",
                                    "name": "UserCount",
                                    "type": "bigint"
                                },
                                {
                                    "key": "8",
                                    "name": "SuccessOperationCount",
                                    "type": "bigint"
                                },
                                {
                                    "key": "9",
                                    "name": "RejectedOperationCount",
                                    "type": "bigint"
                                },
                                {
                                    "key": "10",
                                    "name": "OperationCount",
                                    "type": "bigint"
                                },
                                {
                                    "key": "11",
                                    "name": "InvalidOperationCount",
                                    "type": "bigint"
                                },
                                {
                                    "key": "12",
                                    "name": "FailureOperationCount",
                                    "type": "bigint"
                                },
                                {
                                    "key": "13",
                                    "name": "CancelledOperationCount",
                                    "type": "bigint"
                                },
                                {
                                    "key": "14",
                                    "name": "DateKey",
                                    "type": "string"
                                }
                            ],
                            "truncated": false
                        },
                        "isSummary": false,
                        "language": "scala",
                        "wranglerEntryContext": {
                            "candidateVariableNames": [
                                "capacity_df"
                            ],
                            "dataframeType": "pyspark"
                        }
                    },
                    "persist_state": {
                        "view": {
                            "type": "details",
                            "tableOptions": {},
                            "chartOptions": {
                                "chartType": "bar",
                                "categoryFieldKeys": [
                                    "1"
                                ],
                                "seriesFieldKeys": [
                                    "5"
                                ],
                                "aggregationType": "sum",
                                "isStacked": false,
                                "binsNumber": 10,
                                "wordFrequency": "-1",
                                "evaluatesOverAllRecords": false
                            },
                            "viewOptionsGroup": [
                                {
                                    "tabItems": [
                                        {
                                            "type": "table",
                                            "name": "Table",
                                            "key": "0",
                                            "options": {}
                                        }
                                    ]
                                }
                            ]
                        }
                    }
                },
                "f84916a6-f3a7-45d8-a7b4-b489d58cfd5c": {
                    "type": "Synapse.DataFrame",
                    "sync_state": {
                        "table": {
                            "rows": [
                                {
                                    "0": "C37B34DC-7F7A-4A14-95EF-9575FFB2FBF2",
                                    "1": "2AD70867-1E57-4C21-A67C-406D982786BC",
                                    "2": "2025-01-20 00:00:00",
                                    "3": "SynapseNotebook",
                                    "4": "8822.73",
                                    "5": "75678.52500000001",
                                    "6": "0.0",
                                    "7": "20",
                                    "8": "0",
                                    "9": "0",
                                    "10": "23",
                                    "11": "0",
                                    "12": "4",
                                    "13": "19",
                                    "14": "20250120"
                                },
                                {
                                    "0": "C37B34DC-7F7A-4A14-95EF-9575FFB2FBF2",
                                    "1": "2AD70867-1E57-4C21-A67C-406D982786BC",
                                    "2": "2025-01-20 00:00:00",
                                    "3": "Lakehouse",
                                    "4": "1300.4060000000002",
                                    "5": "13772.7039",
                                    "6": "0.0",
                                    "7": "5",
                                    "8": "24170",
                                    "9": "0",
                                    "10": "24171",
                                    "11": "0",
                                    "12": "1",
                                    "13": "0",
                                    "14": "20250120"
                                },
                                {
                                    "0": "C37B34DC-7F7A-4A14-95EF-9575FFB2FBF2",
                                    "1": "2AD70867-1E57-4C21-A67C-406D982786BC",
                                    "2": "2025-01-20 00:00:00",
                                    "3": "Dataset",
                                    "4": "3093.14",
                                    "5": "4589.344000000001",
                                    "6": "2.3333333333333335",
                                    "7": "18",
                                    "8": "2647",
                                    "9": "0",
                                    "10": "2741",
                                    "11": "0",
                                    "12": "94",
                                    "13": "0",
                                    "14": "20250120"
                                },
                                {
                                    "0": "C37B34DC-7F7A-4A14-95EF-9575FFB2FBF2",
                                    "1": "1F8631F1-BA1A-4154-921E-6D3919BB51FD",
                                    "2": "2025-01-20 00:00:00",
                                    "3": "EventStream",
                                    "4": "1204800.0",
                                    "5": "3836.16",
                                    "6": "0.0",
                                    "7": "3",
                                    "8": "291",
                                    "9": "0",
                                    "10": "291",
                                    "11": "0",
                                    "12": "0",
                                    "13": "0",
                                    "14": "20250120"
                                },
                                {
                                    "0": "C37B34DC-7F7A-4A14-95EF-9575FFB2FBF2",
                                    "1": "43E58404-650A-4FD3-B6E6-E3E0039E4A7E",
                                    "2": "2025-01-20 00:00:00",
                                    "3": "Dataset",
                                    "4": "533.158",
                                    "5": "3077.648",
                                    "6": "0.0",
                                    "7": "2",
                                    "8": "49",
                                    "9": "0",
                                    "10": "50",
                                    "11": "0",
                                    "12": "1",
                                    "13": "0",
                                    "14": "20250120"
                                },
                                {
                                    "0": "C37B34DC-7F7A-4A14-95EF-9575FFB2FBF2",
                                    "1": "2AD70867-1E57-4C21-A67C-406D982786BC",
                                    "2": "2025-01-20 00:00:00",
                                    "3": "Pipeline",
                                    "4": "5370.590999999999",
                                    "5": "2280.2399999999993",
                                    "6": "0.0",
                                    "7": "13",
                                    "8": "74",
                                    "9": "0",
                                    "10": "74",
                                    "11": "0",
                                    "12": "0",
                                    "13": "0",
                                    "14": "20250120"
                                },
                                {
                                    "0": "C37B34DC-7F7A-4A14-95EF-9575FFB2FBF2",
                                    "1": "502FC901-A00D-4BA7-8A8D-F5F1CCA0C6A6",
                                    "2": "2025-01-20 00:00:00",
                                    "3": "Activator",
                                    "4": "86400.0",
                                    "5": "1918.08",
                                    "6": "0.0",
                                    "7": "1",
                                    "8": "1",
                                    "9": "0",
                                    "10": "1",
                                    "11": "0",
                                    "12": "0",
                                    "13": "0",
                                    "14": "20250120"
                                },
                                {
                                    "0": "C37B34DC-7F7A-4A14-95EF-9575FFB2FBF2",
                                    "1": "1F8631F1-BA1A-4154-921E-6D3919BB51FD",
                                    "2": "2025-01-20 00:00:00",
                                    "3": "Activator",
                                    "4": "86400.0",
                                    "5": "1918.08",
                                    "6": "0.0",
                                    "7": "1",
                                    "8": "1",
                                    "9": "0",
                                    "10": "1",
                                    "11": "0",
                                    "12": "0",
                                    "13": "0",
                                    "14": "20250120"
                                },
                                {
                                    "0": "C37B34DC-7F7A-4A14-95EF-9575FFB2FBF2",
                                    "1": "2AD70867-1E57-4C21-A67C-406D982786BC",
                                    "2": "2025-01-20 00:00:00",
                                    "3": "Warehouse",
                                    "4": "1412.848",
                                    "5": "1393.5539999999999",
                                    "6": "0.0",
                                    "7": "7",
                                    "8": "2526",
                                    "9": "0",
                                    "10": "2528",
                                    "11": "0",
                                    "12": "0",
                                    "13": "2",
                                    "14": "20250120"
                                },
                                {
                                    "0": "C37B34DC-7F7A-4A14-95EF-9575FFB2FBF2",
                                    "1": "4AF86E5D-5B9A-42C0-9491-A80242A15A34",
                                    "2": "2025-01-20 00:00:00",
                                    "3": "SynapseNotebook",
                                    "4": "225.298",
                                    "5": "987.5815",
                                    "6": "0.0",
                                    "7": "1",
                                    "8": "0",
                                    "9": "0",
                                    "10": "3",
                                    "11": "0",
                                    "12": "0",
                                    "13": "3",
                                    "14": "20250120"
                                },
                                {
                                    "0": "C37B34DC-7F7A-4A14-95EF-9575FFB2FBF2",
                                    "1": "94AA991B-55FC-415D-BA92-A71C9F45ED2F",
                                    "2": "2025-01-20 00:00:00",
                                    "3": "Dataset",
                                    "4": "129.531",
                                    "5": "737.04",
                                    "6": "0.0",
                                    "7": "1",
                                    "8": "11",
                                    "9": "0",
                                    "10": "13",
                                    "11": "0",
                                    "12": "2",
                                    "13": "0",
                                    "14": "20250120"
                                },
                                {
                                    "0": "C37B34DC-7F7A-4A14-95EF-9575FFB2FBF2",
                                    "1": "4AF86E5D-5B9A-42C0-9491-A80242A15A34",
                                    "2": "2025-01-20 00:00:00",
                                    "3": "Pipeline",
                                    "4": "477.828",
                                    "5": "330.48",
                                    "6": "0.0",
                                    "7": "1",
                                    "8": "6",
                                    "9": "0",
                                    "10": "6",
                                    "11": "0",
                                    "12": "0",
                                    "13": "0",
                                    "14": "20250120"
                                },
                                {
                                    "0": "C37B34DC-7F7A-4A14-95EF-9575FFB2FBF2",
                                    "1": "4AF86E5D-5B9A-42C0-9491-A80242A15A34",
                                    "2": "2025-01-20 00:00:00",
                                    "3": "Lakehouse",
                                    "4": "1.001",
                                    "5": "164.51720000000054",
                                    "6": "0.0",
                                    "7": "1",
                                    "8": "1001",
                                    "9": "0",
                                    "10": "1001",
                                    "11": "0",
                                    "12": "0",
                                    "13": "0",
                                    "14": "20250120"
                                },
                                {
                                    "0": "C37B34DC-7F7A-4A14-95EF-9575FFB2FBF2",
                                    "1": "1F8631F1-BA1A-4154-921E-6D3919BB51FD",
                                    "2": "2025-01-20 00:00:00",
                                    "3": "Dataset",
                                    "4": "38.851",
                                    "5": "135.568",
                                    "6": "0.0",
                                    "7": "4",
                                    "8": "121",
                                    "9": "0",
                                    "10": "121",
                                    "11": "0",
                                    "12": "0",
                                    "13": "0",
                                    "14": "20250120"
                                },
                                {
                                    "0": "C37B34DC-7F7A-4A14-95EF-9575FFB2FBF2",
                                    "1": "1DBE0D9E-9308-47E7-A029-1E09289124A6",
                                    "2": "2025-01-20 00:00:00",
                                    "3": "Dataset",
                                    "4": "8.211",
                                    "5": "60.464",
                                    "6": "0.0",
                                    "7": "2",
                                    "8": "48",
                                    "9": "0",
                                    "10": "48",
                                    "11": "0",
                                    "12": "0",
                                    "13": "0",
                                    "14": "20250120"
                                }
                            ],
                            "schema": [
                                {
                                    "key": "0",
                                    "name": "CapacityId",
                                    "type": "string"
                                },
                                {
                                    "key": "1",
                                    "name": "WorkspaceId",
                                    "type": "string"
                                },
                                {
                                    "key": "2",
                                    "name": "Date",
                                    "type": "timestamp"
                                },
                                {
                                    "key": "3",
                                    "name": "ItemKind",
                                    "type": "string"
                                },
                                {
                                    "key": "4",
                                    "name": "DurationInSec",
                                    "type": "double"
                                },
                                {
                                    "key": "5",
                                    "name": "TotalCUs",
                                    "type": "double"
                                },
                                {
                                    "key": "6",
                                    "name": "ThrottlingInMin",
                                    "type": "double"
                                },
                                {
                                    "key": "7",
                                    "name": "UserCount",
                                    "type": "bigint"
                                },
                                {
                                    "key": "8",
                                    "name": "SuccessOperationCount",
                                    "type": "bigint"
                                },
                                {
                                    "key": "9",
                                    "name": "RejectedOperationCount",
                                    "type": "bigint"
                                },
                                {
                                    "key": "10",
                                    "name": "OperationCount",
                                    "type": "bigint"
                                },
                                {
                                    "key": "11",
                                    "name": "InvalidOperationCount",
                                    "type": "bigint"
                                },
                                {
                                    "key": "12",
                                    "name": "FailureOperationCount",
                                    "type": "bigint"
                                },
                                {
                                    "key": "13",
                                    "name": "CancelledOperationCount",
                                    "type": "bigint"
                                },
                                {
                                    "key": "14",
                                    "name": "DateKey",
                                    "type": "string"
                                }
                            ],
                            "truncated": false
                        },
                        "isSummary": false,
                        "language": "scala",
                        "wranglerEntryContext": {
                            "candidateVariableNames": [
                                "capacity_df"
                            ],
                            "dataframeType": "pyspark"
                        }
                    },
                    "persist_state": {
                        "view": {
                            "type": "details",
                            "tableOptions": {},
                            "chartOptions": {
                                "chartType": "bar",
                                "categoryFieldKeys": [
                                    "1"
                                ],
                                "seriesFieldKeys": [
                                    "5"
                                ],
                                "aggregationType": "sum",
                                "isStacked": false,
                                "binsNumber": 10,
                                "wordFrequency": "-1",
                                "evaluatesOverAllRecords": false
                            },
                            "viewOptionsGroup": [
                                {
                                    "tabItems": [
                                        {
                                            "type": "table",
                                            "name": "Table",
                                            "key": "0",
                                            "options": {}
                                        }
                                    ]
                                }
                            ]
                        }
                    }
                },
                "87564f56-2e79-4f0b-b063-0ffe0577a9a3": {
                    "type": "Synapse.DataFrame",
                    "sync_state": {
                        "table": {
                            "rows": [
                                {
                                    "0": "C37B34DC-7F7A-4A14-95EF-9575FFB2FBF2",
                                    "1": "2AD70867-1E57-4C21-A67C-406D982786BC",
                                    "2": "2025-01-21 00:00:00",
                                    "3": "SynapseNotebook",
                                    "4": "6597.276999999997",
                                    "5": "52821.56750000001",
                                    "6": "0.0",
                                    "7": "18",
                                    "8": "0",
                                    "9": "0",
                                    "10": "21",
                                    "11": "0",
                                    "12": "2",
                                    "13": "19",
                                    "14": "20250121"
                                },
                                {
                                    "0": "C37B34DC-7F7A-4A14-95EF-9575FFB2FBF2",
                                    "1": "2AD70867-1E57-4C21-A67C-406D982786BC",
                                    "2": "2025-01-21 00:00:00",
                                    "3": "Lakehouse",
                                    "4": "1327.3509999999999",
                                    "5": "17921.36099999995",
                                    "6": "0.0",
                                    "7": "5",
                                    "8": "18233",
                                    "9": "0",
                                    "10": "18234",
                                    "11": "0",
                                    "12": "1",
                                    "13": "0",
                                    "14": "20250121"
                                },
                                {
                                    "0": "C37B34DC-7F7A-4A14-95EF-9575FFB2FBF2",
                                    "1": "1F8631F1-BA1A-4154-921E-6D3919BB51FD",
                                    "2": "2025-01-21 00:00:00",
                                    "3": "EventStream",
                                    "4": "1212000.0",
                                    "5": "13898.118396304399",
                                    "6": "0.0",
                                    "7": "3",
                                    "8": "291",
                                    "9": "0",
                                    "10": "291",
                                    "11": "0",
                                    "12": "0",
                                    "13": "0",
                                    "14": "20250121"
                                },
                                {
                                    "0": "C37B34DC-7F7A-4A14-95EF-9575FFB2FBF2",
                                    "1": "1F8631F1-BA1A-4154-921E-6D3919BB51FD",
                                    "2": "2025-01-21 00:00:00",
                                    "3": "Lakehouse",
                                    "4": "1699.924",
                                    "5": "7188.053899999945",
                                    "6": "0.0",
                                    "7": "10",
                                    "8": "2428",
                                    "9": "0",
                                    "10": "2429",
                                    "11": "0",
                                    "12": "1",
                                    "13": "0",
                                    "14": "20250121"
                                },
                                {
                                    "0": "C37B34DC-7F7A-4A14-95EF-9575FFB2FBF2",
                                    "1": "2AD70867-1E57-4C21-A67C-406D982786BC",
                                    "2": "2025-01-21 00:00:00",
                                    "3": "Pipeline",
                                    "4": "9389.717999999999",
                                    "5": "2300.3999999999996",
                                    "6": "0.0",
                                    "7": "13",
                                    "8": "75",
                                    "9": "0",
                                    "10": "75",
                                    "11": "0",
                                    "12": "0",
                                    "13": "0",
                                    "14": "20250121"
                                },
                                {
                                    "0": "C37B34DC-7F7A-4A14-95EF-9575FFB2FBF2",
                                    "1": "1F8631F1-BA1A-4154-921E-6D3919BB51FD",
                                    "2": "2025-01-21 00:00:00",
                                    "3": "Activator",
                                    "4": "87060.02",
                                    "5": "1931.6",
                                    "6": "0.0",
                                    "7": "1",
                                    "8": "3",
                                    "9": "0",
                                    "10": "3",
                                    "11": "0",
                                    "12": "0",
                                    "13": "0",
                                    "14": "20250121"
                                },
                                {
                                    "0": "C37B34DC-7F7A-4A14-95EF-9575FFB2FBF2",
                                    "1": "502FC901-A00D-4BA7-8A8D-F5F1CCA0C6A6",
                                    "2": "2025-01-21 00:00:00",
                                    "3": "Activator",
                                    "4": "86400.0",
                                    "5": "1918.08",
                                    "6": "0.0",
                                    "7": "1",
                                    "8": "1",
                                    "9": "0",
                                    "10": "1",
                                    "11": "0",
                                    "12": "0",
                                    "13": "0",
                                    "14": "20250121"
                                },
                                {
                                    "0": "C37B34DC-7F7A-4A14-95EF-9575FFB2FBF2",
                                    "1": "2AD70867-1E57-4C21-A67C-406D982786BC",
                                    "2": "2025-01-21 00:00:00",
                                    "3": "Dataset",
                                    "4": "1741.101",
                                    "5": "1397.0720000000001",
                                    "6": "0.0",
                                    "7": "6",
                                    "8": "525",
                                    "9": "0",
                                    "10": "596",
                                    "11": "0",
                                    "12": "71",
                                    "13": "0",
                                    "14": "20250121"
                                },
                                {
                                    "0": "C37B34DC-7F7A-4A14-95EF-9575FFB2FBF2",
                                    "1": "4AF86E5D-5B9A-42C0-9491-A80242A15A34",
                                    "2": "2025-01-21 00:00:00",
                                    "3": "SynapseNotebook",
                                    "4": "253.658",
                                    "5": "1156.6535",
                                    "6": "0.0",
                                    "7": "1",
                                    "8": "0",
                                    "9": "0",
                                    "10": "3",
                                    "11": "0",
                                    "12": "0",
                                    "13": "3",
                                    "14": "20250121"
                                },
                                {
                                    "0": "C37B34DC-7F7A-4A14-95EF-9575FFB2FBF2",
                                    "1": "1F8631F1-BA1A-4154-921E-6D3919BB51FD",
                                    "2": "2025-01-21 00:00:00",
                                    "3": "Warehouse",
                                    "4": "581.0440000000001",
                                    "5": "839.1637999999998",
                                    "6": "0.0",
                                    "7": "21",
                                    "8": "1680",
                                    "9": "0",
                                    "10": "1682",
                                    "11": "0",
                                    "12": "2",
                                    "13": "0",
                                    "14": "20250121"
                                },
                                {
                                    "0": "C37B34DC-7F7A-4A14-95EF-9575FFB2FBF2",
                                    "1": "2AD70867-1E57-4C21-A67C-406D982786BC",
                                    "2": "2025-01-21 00:00:00",
                                    "3": "Warehouse",
                                    "4": "589.1769999999999",
                                    "5": "650.806",
                                    "6": "0.0",
                                    "7": "7",
                                    "8": "1699",
                                    "9": "0",
                                    "10": "1699",
                                    "11": "0",
                                    "12": "0",
                                    "13": "0",
                                    "14": "20250121"
                                },
                                {
                                    "0": "C37B34DC-7F7A-4A14-95EF-9575FFB2FBF2",
                                    "1": "4AF86E5D-5B9A-42C0-9491-A80242A15A34",
                                    "2": "2025-01-21 00:00:00",
                                    "3": "Pipeline",
                                    "4": "863.279",
                                    "5": "330.48",
                                    "6": "0.0",
                                    "7": "1",
                                    "8": "6",
                                    "9": "0",
                                    "10": "6",
                                    "11": "0",
                                    "12": "0",
                                    "13": "0",
                                    "14": "20250121"
                                },
                                {
                                    "0": "C37B34DC-7F7A-4A14-95EF-9575FFB2FBF2",
                                    "1": "43E58404-650A-4FD3-B6E6-E3E0039E4A7E",
                                    "2": "2025-01-21 00:00:00",
                                    "3": "Dataset",
                                    "4": "182.064",
                                    "5": "287.552",
                                    "6": "0.0",
                                    "7": "2",
                                    "8": "9",
                                    "9": "0",
                                    "10": "9",
                                    "11": "0",
                                    "12": "0",
                                    "13": "0",
                                    "14": "20250121"
                                },
                                {
                                    "0": "C37B34DC-7F7A-4A14-95EF-9575FFB2FBF2",
                                    "1": "1F8631F1-BA1A-4154-921E-6D3919BB51FD",
                                    "2": "2025-01-21 00:00:00",
                                    "3": "Pipeline",
                                    "4": "186.718",
                                    "5": "282.24",
                                    "6": "0.0",
                                    "7": "1",
                                    "8": "8",
                                    "9": "0",
                                    "10": "14",
                                    "11": "0",
                                    "12": "5",
                                    "13": "1",
                                    "14": "20250121"
                                },
                                {
                                    "0": "C37B34DC-7F7A-4A14-95EF-9575FFB2FBF2",
                                    "1": "4AF86E5D-5B9A-42C0-9491-A80242A15A34",
                                    "2": "2025-01-21 00:00:00",
                                    "3": "Lakehouse",
                                    "4": "1.009",
                                    "5": "163.11200000000096",
                                    "6": "0.0",
                                    "7": "1",
                                    "8": "1009",
                                    "9": "0",
                                    "10": "1009",
                                    "11": "0",
                                    "12": "0",
                                    "13": "0",
                                    "14": "20250121"
                                },
                                {
                                    "0": "C37B34DC-7F7A-4A14-95EF-9575FFB2FBF2",
                                    "1": "1F8631F1-BA1A-4154-921E-6D3919BB51FD",
                                    "2": "2025-01-21 00:00:00",
                                    "3": "Dataset",
                                    "4": "31.656999999999996",
                                    "5": "102.41600000000001",
                                    "6": "0.0",
                                    "7": "8",
                                    "8": "122",
                                    "9": "0",
                                    "10": "122",
                                    "11": "0",
                                    "12": "0",
                                    "13": "0",
                                    "14": "20250121"
                                },
                                {
                                    "0": "C37B34DC-7F7A-4A14-95EF-9575FFB2FBF2",
                                    "1": "1DBE0D9E-9308-47E7-A029-1E09289124A6",
                                    "2": "2025-01-21 00:00:00",
                                    "3": "Dataset",
                                    "4": "8.033",
                                    "5": "61.376",
                                    "6": "0.0",
                                    "7": "2",
                                    "8": "36",
                                    "9": "0",
                                    "10": "37",
                                    "11": "0",
                                    "12": "1",
                                    "13": "0",
                                    "14": "20250121"
                                },
                                {
                                    "0": "C37B34DC-7F7A-4A14-95EF-9575FFB2FBF2",
                                    "1": "94AA991B-55FC-415D-BA92-A71C9F45ED2F",
                                    "2": "2025-01-21 00:00:00",
                                    "3": "Dataset",
                                    "4": "2.252",
                                    "5": "13.536",
                                    "6": "0.0",
                                    "7": "2",
                                    "8": "5",
                                    "9": "0",
                                    "10": "5",
                                    "11": "0",
                                    "12": "0",
                                    "13": "0",
                                    "14": "20250121"
                                }
                            ],
                            "schema": [
                                {
                                    "key": "0",
                                    "name": "CapacityId",
                                    "type": "string"
                                },
                                {
                                    "key": "1",
                                    "name": "WorkspaceId",
                                    "type": "string"
                                },
                                {
                                    "key": "2",
                                    "name": "Date",
                                    "type": "timestamp"
                                },
                                {
                                    "key": "3",
                                    "name": "ItemKind",
                                    "type": "string"
                                },
                                {
                                    "key": "4",
                                    "name": "DurationInSec",
                                    "type": "double"
                                },
                                {
                                    "key": "5",
                                    "name": "TotalCUs",
                                    "type": "double"
                                },
                                {
                                    "key": "6",
                                    "name": "ThrottlingInMin",
                                    "type": "double"
                                },
                                {
                                    "key": "7",
                                    "name": "UserCount",
                                    "type": "bigint"
                                },
                                {
                                    "key": "8",
                                    "name": "SuccessOperationCount",
                                    "type": "bigint"
                                },
                                {
                                    "key": "9",
                                    "name": "RejectedOperationCount",
                                    "type": "bigint"
                                },
                                {
                                    "key": "10",
                                    "name": "OperationCount",
                                    "type": "bigint"
                                },
                                {
                                    "key": "11",
                                    "name": "InvalidOperationCount",
                                    "type": "bigint"
                                },
                                {
                                    "key": "12",
                                    "name": "FailureOperationCount",
                                    "type": "bigint"
                                },
                                {
                                    "key": "13",
                                    "name": "CancelledOperationCount",
                                    "type": "bigint"
                                },
                                {
                                    "key": "14",
                                    "name": "DateKey",
                                    "type": "string"
                                }
                            ],
                            "truncated": false
                        },
                        "isSummary": false,
                        "language": "scala",
                        "wranglerEntryContext": {
                            "candidateVariableNames": [
                                "capacity_df"
                            ],
                            "dataframeType": "pyspark"
                        }
                    },
                    "persist_state": {
                        "view": {
                            "type": "details",
                            "tableOptions": {},
                            "chartOptions": {
                                "chartType": "bar",
                                "categoryFieldKeys": [
                                    "1"
                                ],
                                "seriesFieldKeys": [
                                    "5"
                                ],
                                "aggregationType": "sum",
                                "isStacked": false,
                                "binsNumber": 10,
                                "wordFrequency": "-1",
                                "evaluatesOverAllRecords": false
                            },
                            "viewOptionsGroup": [
                                {
                                    "tabItems": [
                                        {
                                            "type": "table",
                                            "name": "Table",
                                            "key": "0",
                                            "options": {}
                                        }
                                    ]
                                }
                            ]
                        }
                    }
                },
                "ee579016-4b3f-4caa-b510-cece10666485": {
                    "type": "Synapse.DataFrame",
                    "sync_state": {
                        "table": {
                            "rows": [
                                {
                                    "0": "C37B34DC-7F7A-4A14-95EF-9575FFB2FBF2",
                                    "1": "1F8631F1-BA1A-4154-921E-6D3919BB51FD",
                                    "2": "2025-01-22 00:00:00",
                                    "3": "SynapseNotebook",
                                    "4": "4644.17",
                                    "5": "37822.6775",
                                    "6": "0.0",
                                    "7": "2",
                                    "8": "0",
                                    "9": "0",
                                    "10": "3",
                                    "11": "0",
                                    "12": "2",
                                    "13": "1",
                                    "14": "20250122"
                                },
                                {
                                    "0": "C37B34DC-7F7A-4A14-95EF-9575FFB2FBF2",
                                    "1": "1F8631F1-BA1A-4154-921E-6D3919BB51FD",
                                    "2": "2025-01-22 00:00:00",
                                    "3": "EventStream",
                                    "4": "1212000.0",
                                    "5": "18839.991436636003",
                                    "6": "0.0",
                                    "7": "3",
                                    "8": "287",
                                    "9": "0",
                                    "10": "287",
                                    "11": "0",
                                    "12": "0",
                                    "13": "0",
                                    "14": "20250122"
                                },
                                {
                                    "0": "C37B34DC-7F7A-4A14-95EF-9575FFB2FBF2",
                                    "1": "2AD70867-1E57-4C21-A67C-406D982786BC",
                                    "2": "2025-01-22 00:00:00",
                                    "3": "SynapseNotebook",
                                    "4": "3801.86",
                                    "5": "15207.595999999998",
                                    "6": "0.0",
                                    "7": "16",
                                    "8": "0",
                                    "9": "0",
                                    "10": "17",
                                    "11": "0",
                                    "12": "1",
                                    "13": "16",
                                    "14": "20250122"
                                },
                                {
                                    "0": "C37B34DC-7F7A-4A14-95EF-9575FFB2FBF2",
                                    "1": "1F8631F1-BA1A-4154-921E-6D3919BB51FD",
                                    "2": "2025-01-22 00:00:00",
                                    "3": "Lakehouse",
                                    "4": "1336.2180000000003",
                                    "5": "8143.450099999937",
                                    "6": "0.0",
                                    "7": "11",
                                    "8": "7497",
                                    "9": "0",
                                    "10": "7498",
                                    "11": "0",
                                    "12": "1",
                                    "13": "0",
                                    "14": "20250122"
                                },
                                {
                                    "0": "C37B34DC-7F7A-4A14-95EF-9575FFB2FBF2",
                                    "1": "2AD70867-1E57-4C21-A67C-406D982786BC",
                                    "2": "2025-01-22 00:00:00",
                                    "3": "Lakehouse",
                                    "4": "17.278",
                                    "5": "6465.8436000000365",
                                    "6": "0.0",
                                    "7": "4",
                                    "8": "17278",
                                    "9": "0",
                                    "10": "17278",
                                    "11": "0",
                                    "12": "0",
                                    "13": "0",
                                    "14": "20250122"
                                },
                                {
                                    "0": "C37B34DC-7F7A-4A14-95EF-9575FFB2FBF2",
                                    "1": "2AD70867-1E57-4C21-A67C-406D982786BC",
                                    "2": "2025-01-22 00:00:00",
                                    "3": "Pipeline",
                                    "4": "11237.019",
                                    "5": "2280.2399999999993",
                                    "6": "0.0",
                                    "7": "13",
                                    "8": "70",
                                    "9": "0",
                                    "10": "74",
                                    "11": "0",
                                    "12": "4",
                                    "13": "0",
                                    "14": "20250122"
                                },
                                {
                                    "0": "C37B34DC-7F7A-4A14-95EF-9575FFB2FBF2",
                                    "1": "2AD70867-1E57-4C21-A67C-406D982786BC",
                                    "2": "2025-01-22 00:00:00",
                                    "3": "Dataset",
                                    "4": "1299.5120000000002",
                                    "5": "2056.864",
                                    "6": "0.0",
                                    "7": "11",
                                    "8": "337",
                                    "9": "0",
                                    "10": "366",
                                    "11": "0",
                                    "12": "29",
                                    "13": "0",
                                    "14": "20250122"
                                },
                                {
                                    "0": "C37B34DC-7F7A-4A14-95EF-9575FFB2FBF2",
                                    "1": "1F8631F1-BA1A-4154-921E-6D3919BB51FD",
                                    "2": "2025-01-22 00:00:00",
                                    "3": "Activator",
                                    "4": "86460.005",
                                    "5": "1918.13",
                                    "6": "0.0",
                                    "7": "1",
                                    "8": "3",
                                    "9": "0",
                                    "10": "3",
                                    "11": "0",
                                    "12": "0",
                                    "13": "0",
                                    "14": "20250122"
                                },
                                {
                                    "0": "C37B34DC-7F7A-4A14-95EF-9575FFB2FBF2",
                                    "1": "502FC901-A00D-4BA7-8A8D-F5F1CCA0C6A6",
                                    "2": "2025-01-22 00:00:00",
                                    "3": "Activator",
                                    "4": "86400.0",
                                    "5": "1918.08",
                                    "6": "0.0",
                                    "7": "1",
                                    "8": "1",
                                    "9": "0",
                                    "10": "1",
                                    "11": "0",
                                    "12": "0",
                                    "13": "0",
                                    "14": "20250122"
                                },
                                {
                                    "0": "C37B34DC-7F7A-4A14-95EF-9575FFB2FBF2",
                                    "1": "94AA991B-55FC-415D-BA92-A71C9F45ED2F",
                                    "2": "2025-01-22 00:00:00",
                                    "3": "Dataset",
                                    "4": "351.846",
                                    "5": "1272.128",
                                    "6": "0.0",
                                    "7": "2",
                                    "8": "69",
                                    "9": "0",
                                    "10": "78",
                                    "11": "0",
                                    "12": "9",
                                    "13": "0",
                                    "14": "20250122"
                                },
                                {
                                    "0": "C37B34DC-7F7A-4A14-95EF-9575FFB2FBF2",
                                    "1": "1F8631F1-BA1A-4154-921E-6D3919BB51FD",
                                    "2": "2025-01-22 00:00:00",
                                    "3": "Warehouse",
                                    "4": "922.075",
                                    "5": "1266.064",
                                    "6": "0.0",
                                    "7": "20",
                                    "8": "3161",
                                    "9": "0",
                                    "10": "3161",
                                    "11": "0",
                                    "12": "0",
                                    "13": "0",
                                    "14": "20250122"
                                },
                                {
                                    "0": "C37B34DC-7F7A-4A14-95EF-9575FFB2FBF2",
                                    "1": "4AF86E5D-5B9A-42C0-9491-A80242A15A34",
                                    "2": "2025-01-22 00:00:00",
                                    "3": "SynapseNotebook",
                                    "4": "279.958",
                                    "5": "1119.8525",
                                    "6": "0.0",
                                    "7": "1",
                                    "8": "0",
                                    "9": "0",
                                    "10": "3",
                                    "11": "0",
                                    "12": "0",
                                    "13": "3",
                                    "14": "20250122"
                                },
                                {
                                    "0": "C37B34DC-7F7A-4A14-95EF-9575FFB2FBF2",
                                    "1": "1F8631F1-BA1A-4154-921E-6D3919BB51FD",
                                    "2": "2025-01-22 00:00:00",
                                    "3": "Dataset",
                                    "4": "4683.831",
                                    "5": "894.2719999999999",
                                    "6": "0.0",
                                    "7": "8",
                                    "8": "557",
                                    "9": "0",
                                    "10": "654",
                                    "11": "0",
                                    "12": "97",
                                    "13": "0",
                                    "14": "20250122"
                                },
                                {
                                    "0": "C37B34DC-7F7A-4A14-95EF-9575FFB2FBF2",
                                    "1": "2AD70867-1E57-4C21-A67C-406D982786BC",
                                    "2": "2025-01-22 00:00:00",
                                    "3": "Warehouse",
                                    "4": "496.38300000000004",
                                    "5": "659.26",
                                    "6": "0.0",
                                    "7": "6",
                                    "8": "1125",
                                    "9": "0",
                                    "10": "1125",
                                    "11": "0",
                                    "12": "0",
                                    "13": "0",
                                    "14": "20250122"
                                },
                                {
                                    "0": "C37B34DC-7F7A-4A14-95EF-9575FFB2FBF2",
                                    "1": "43E58404-650A-4FD3-B6E6-E3E0039E4A7E",
                                    "2": "2025-01-22 00:00:00",
                                    "3": "Dataset",
                                    "4": "276.429",
                                    "5": "565.344",
                                    "6": "0.0",
                                    "7": "2",
                                    "8": "34",
                                    "9": "0",
                                    "10": "36",
                                    "11": "0",
                                    "12": "2",
                                    "13": "0",
                                    "14": "20250122"
                                },
                                {
                                    "0": "C37B34DC-7F7A-4A14-95EF-9575FFB2FBF2",
                                    "1": "4AF86E5D-5B9A-42C0-9491-A80242A15A34",
                                    "2": "2025-01-22 00:00:00",
                                    "3": "Pipeline",
                                    "4": "1105.137",
                                    "5": "330.48",
                                    "6": "0.0",
                                    "7": "1",
                                    "8": "6",
                                    "9": "0",
                                    "10": "6",
                                    "11": "0",
                                    "12": "0",
                                    "13": "0",
                                    "14": "20250122"
                                },
                                {
                                    "0": "C37B34DC-7F7A-4A14-95EF-9575FFB2FBF2",
                                    "1": "BB60C4B7-2DD5-4355-A6B8-9AC580F64527",
                                    "2": "2025-01-22 00:00:00",
                                    "3": "Lakehouse",
                                    "4": "1.183",
                                    "5": "198.46920000000026",
                                    "6": "0.0",
                                    "7": "1",
                                    "8": "1183",
                                    "9": "0",
                                    "10": "1183",
                                    "11": "0",
                                    "12": "0",
                                    "13": "0",
                                    "14": "20250122"
                                },
                                {
                                    "0": "C37B34DC-7F7A-4A14-95EF-9575FFB2FBF2",
                                    "1": "4AF86E5D-5B9A-42C0-9491-A80242A15A34",
                                    "2": "2025-01-22 00:00:00",
                                    "3": "Lakehouse",
                                    "4": "1.026",
                                    "5": "164.7178000000026",
                                    "6": "0.0",
                                    "7": "1",
                                    "8": "1026",
                                    "9": "0",
                                    "10": "1026",
                                    "11": "0",
                                    "12": "0",
                                    "13": "0",
                                    "14": "20250122"
                                },
                                {
                                    "0": "C37B34DC-7F7A-4A14-95EF-9575FFB2FBF2",
                                    "1": "1DBE0D9E-9308-47E7-A029-1E09289124A6",
                                    "2": "2025-01-22 00:00:00",
                                    "3": "Dataset",
                                    "4": "6.441",
                                    "5": "57.792",
                                    "6": "0.0",
                                    "7": "2",
                                    "8": "12",
                                    "9": "0",
                                    "10": "12",
                                    "11": "0",
                                    "12": "0",
                                    "13": "0",
                                    "14": "20250122"
                                },
                                {
                                    "0": "C37B34DC-7F7A-4A14-95EF-9575FFB2FBF2",
                                    "1": "65FC3DE9-6035-421A-B924-ECD7B19CAD09",
                                    "2": "2025-01-22 00:00:00",
                                    "3": "Lakehouse",
                                    "4": "0.02",
                                    "5": "5.8536",
                                    "6": "0.0",
                                    "7": "1",
                                    "8": "20",
                                    "9": "0",
                                    "10": "20",
                                    "11": "0",
                                    "12": "0",
                                    "13": "0",
                                    "14": "20250122"
                                },
                                {
                                    "0": "C37B34DC-7F7A-4A14-95EF-9575FFB2FBF2",
                                    "1": "36A534D3-67FF-46E1-8C66-FB37EEFBCDA4",
                                    "2": "2025-01-22 00:00:00",
                                    "3": "Warehouse",
                                    "4": "0.018",
                                    "5": "5.8536",
                                    "6": "0.0",
                                    "7": "1",
                                    "8": "18",
                                    "9": "0",
                                    "10": "18",
                                    "11": "0",
                                    "12": "0",
                                    "13": "0",
                                    "14": "20250122"
                                }
                            ],
                            "schema": [
                                {
                                    "key": "0",
                                    "name": "CapacityId",
                                    "type": "string"
                                },
                                {
                                    "key": "1",
                                    "name": "WorkspaceId",
                                    "type": "string"
                                },
                                {
                                    "key": "2",
                                    "name": "Date",
                                    "type": "timestamp"
                                },
                                {
                                    "key": "3",
                                    "name": "ItemKind",
                                    "type": "string"
                                },
                                {
                                    "key": "4",
                                    "name": "DurationInSec",
                                    "type": "double"
                                },
                                {
                                    "key": "5",
                                    "name": "TotalCUs",
                                    "type": "double"
                                },
                                {
                                    "key": "6",
                                    "name": "ThrottlingInMin",
                                    "type": "double"
                                },
                                {
                                    "key": "7",
                                    "name": "UserCount",
                                    "type": "bigint"
                                },
                                {
                                    "key": "8",
                                    "name": "SuccessOperationCount",
                                    "type": "bigint"
                                },
                                {
                                    "key": "9",
                                    "name": "RejectedOperationCount",
                                    "type": "bigint"
                                },
                                {
                                    "key": "10",
                                    "name": "OperationCount",
                                    "type": "bigint"
                                },
                                {
                                    "key": "11",
                                    "name": "InvalidOperationCount",
                                    "type": "bigint"
                                },
                                {
                                    "key": "12",
                                    "name": "FailureOperationCount",
                                    "type": "bigint"
                                },
                                {
                                    "key": "13",
                                    "name": "CancelledOperationCount",
                                    "type": "bigint"
                                },
                                {
                                    "key": "14",
                                    "name": "DateKey",
                                    "type": "string"
                                }
                            ],
                            "truncated": false
                        },
                        "isSummary": false,
                        "language": "scala",
                        "wranglerEntryContext": {
                            "candidateVariableNames": [
                                "capacity_df"
                            ],
                            "dataframeType": "pyspark"
                        }
                    },
                    "persist_state": {
                        "view": {
                            "type": "details",
                            "tableOptions": {},
                            "chartOptions": {
                                "chartType": "bar",
                                "categoryFieldKeys": [
                                    "1"
                                ],
                                "seriesFieldKeys": [
                                    "5"
                                ],
                                "aggregationType": "sum",
                                "isStacked": false,
                                "binsNumber": 10,
                                "wordFrequency": "-1",
                                "evaluatesOverAllRecords": false
                            },
                            "viewOptionsGroup": [
                                {
                                    "tabItems": [
                                        {
                                            "type": "table",
                                            "name": "Table",
                                            "key": "0",
                                            "options": {}
                                        }
                                    ]
                                }
                            ]
                        }
                    }
                },
                "93ad7202-bd30-4b8b-b592-80570dd4425f": {
                    "type": "Synapse.DataFrame",
                    "sync_state": {
                        "table": {
                            "rows": [
                                {
                                    "0": "C37B34DC-7F7A-4A14-95EF-9575FFB2FBF2",
                                    "1": "2AD70867-1E57-4C21-A67C-406D982786BC",
                                    "2": "2025-01-23 00:00:00",
                                    "3": "Lakehouse",
                                    "4": "1274.685",
                                    "5": "7317.918100000004",
                                    "6": "0.0",
                                    "7": "5",
                                    "8": "12613",
                                    "9": "0",
                                    "10": "12614",
                                    "11": "0",
                                    "12": "1",
                                    "13": "0",
                                    "14": "20250123"
                                },
                                {
                                    "0": "C37B34DC-7F7A-4A14-95EF-9575FFB2FBF2",
                                    "1": "2AD70867-1E57-4C21-A67C-406D982786BC",
                                    "2": "2025-01-23 00:00:00",
                                    "3": "SynapseNotebook",
                                    "4": "1406.843",
                                    "5": "5627.467499999999",
                                    "6": "0.0",
                                    "7": "15",
                                    "8": "0",
                                    "9": "0",
                                    "10": "16",
                                    "11": "0",
                                    "12": "0",
                                    "13": "16",
                                    "14": "20250123"
                                },
                                {
                                    "0": "C37B34DC-7F7A-4A14-95EF-9575FFB2FBF2",
                                    "1": "1F8631F1-BA1A-4154-921E-6D3919BB51FD",
                                    "2": "2025-01-23 00:00:00",
                                    "3": "EventStream",
                                    "4": "1208400.0",
                                    "5": "3809.52",
                                    "6": "0.0",
                                    "7": "3",
                                    "8": "287",
                                    "9": "0",
                                    "10": "287",
                                    "11": "0",
                                    "12": "0",
                                    "13": "0",
                                    "14": "20250123"
                                },
                                {
                                    "0": "C37B34DC-7F7A-4A14-95EF-9575FFB2FBF2",
                                    "1": "2AD70867-1E57-4C21-A67C-406D982786BC",
                                    "2": "2025-01-23 00:00:00",
                                    "3": "Pipeline",
                                    "4": "7657.576000000001",
                                    "5": "2280.2399999999993",
                                    "6": "0.0",
                                    "7": "13",
                                    "8": "70",
                                    "9": "0",
                                    "10": "74",
                                    "11": "0",
                                    "12": "4",
                                    "13": "0",
                                    "14": "20250123"
                                },
                                {
                                    "0": "C37B34DC-7F7A-4A14-95EF-9575FFB2FBF2",
                                    "1": "502FC901-A00D-4BA7-8A8D-F5F1CCA0C6A6",
                                    "2": "2025-01-23 00:00:00",
                                    "3": "Activator",
                                    "4": "86400.0",
                                    "5": "1918.08",
                                    "6": "0.0",
                                    "7": "1",
                                    "8": "1",
                                    "9": "0",
                                    "10": "1",
                                    "11": "0",
                                    "12": "0",
                                    "13": "0",
                                    "14": "20250123"
                                },
                                {
                                    "0": "C37B34DC-7F7A-4A14-95EF-9575FFB2FBF2",
                                    "1": "1F8631F1-BA1A-4154-921E-6D3919BB51FD",
                                    "2": "2025-01-23 00:00:00",
                                    "3": "Activator",
                                    "4": "86400.0",
                                    "5": "1918.08",
                                    "6": "0.0",
                                    "7": "1",
                                    "8": "1",
                                    "9": "0",
                                    "10": "1",
                                    "11": "0",
                                    "12": "0",
                                    "13": "0",
                                    "14": "20250123"
                                },
                                {
                                    "0": "C37B34DC-7F7A-4A14-95EF-9575FFB2FBF2",
                                    "1": "2AD70867-1E57-4C21-A67C-406D982786BC",
                                    "2": "2025-01-23 00:00:00",
                                    "3": "Dataset",
                                    "4": "305.721",
                                    "5": "1578.7520000000002",
                                    "6": "0.0",
                                    "7": "4",
                                    "8": "138",
                                    "9": "0",
                                    "10": "141",
                                    "11": "0",
                                    "12": "3",
                                    "13": "0",
                                    "14": "20250123"
                                },
                                {
                                    "0": "C37B34DC-7F7A-4A14-95EF-9575FFB2FBF2",
                                    "1": "4AF86E5D-5B9A-42C0-9491-A80242A15A34",
                                    "2": "2025-01-23 00:00:00",
                                    "3": "SynapseNotebook",
                                    "4": "197.354",
                                    "5": "789.424",
                                    "6": "0.0",
                                    "7": "1",
                                    "8": "0",
                                    "9": "0",
                                    "10": "3",
                                    "11": "0",
                                    "12": "0",
                                    "13": "3",
                                    "14": "20250123"
                                },
                                {
                                    "0": "C37B34DC-7F7A-4A14-95EF-9575FFB2FBF2",
                                    "1": "4AF86E5D-5B9A-42C0-9491-A80242A15A34",
                                    "2": "2025-01-23 00:00:00",
                                    "3": "Pipeline",
                                    "4": "434.33",
                                    "5": "330.48",
                                    "6": "0.0",
                                    "7": "1",
                                    "8": "6",
                                    "9": "0",
                                    "10": "6",
                                    "11": "0",
                                    "12": "0",
                                    "13": "0",
                                    "14": "20250123"
                                },
                                {
                                    "0": "C37B34DC-7F7A-4A14-95EF-9575FFB2FBF2",
                                    "1": "43E58404-650A-4FD3-B6E6-E3E0039E4A7E",
                                    "2": "2025-01-23 00:00:00",
                                    "3": "Dataset",
                                    "4": "178.581",
                                    "5": "284.768",
                                    "6": "0.0",
                                    "7": "2",
                                    "8": "6",
                                    "9": "0",
                                    "10": "6",
                                    "11": "0",
                                    "12": "0",
                                    "13": "0",
                                    "14": "20250123"
                                },
                                {
                                    "0": "C37B34DC-7F7A-4A14-95EF-9575FFB2FBF2",
                                    "1": "2AD70867-1E57-4C21-A67C-406D982786BC",
                                    "2": "2025-01-23 00:00:00",
                                    "3": "Warehouse",
                                    "4": "155.551",
                                    "5": "206.542",
                                    "6": "0.0",
                                    "7": "7",
                                    "8": "618",
                                    "9": "0",
                                    "10": "618",
                                    "11": "0",
                                    "12": "0",
                                    "13": "0",
                                    "14": "20250123"
                                },
                                {
                                    "0": "C37B34DC-7F7A-4A14-95EF-9575FFB2FBF2",
                                    "1": "4AF86E5D-5B9A-42C0-9491-A80242A15A34",
                                    "2": "2025-01-23 00:00:00",
                                    "3": "Lakehouse",
                                    "4": "0.995",
                                    "5": "165.94339999999931",
                                    "6": "0.0",
                                    "7": "1",
                                    "8": "995",
                                    "9": "0",
                                    "10": "995",
                                    "11": "0",
                                    "12": "0",
                                    "13": "0",
                                    "14": "20250123"
                                },
                                {
                                    "0": "C37B34DC-7F7A-4A14-95EF-9575FFB2FBF2",
                                    "1": "1F8631F1-BA1A-4154-921E-6D3919BB51FD",
                                    "2": "2025-01-23 00:00:00",
                                    "3": "Dataset",
                                    "4": "17.767",
                                    "5": "87.776",
                                    "6": "0.0",
                                    "7": "2",
                                    "8": "94",
                                    "9": "0",
                                    "10": "94",
                                    "11": "0",
                                    "12": "0",
                                    "13": "0",
                                    "14": "20250123"
                                },
                                {
                                    "0": "C37B34DC-7F7A-4A14-95EF-9575FFB2FBF2",
                                    "1": "1DBE0D9E-9308-47E7-A029-1E09289124A6",
                                    "2": "2025-01-23 00:00:00",
                                    "3": "Dataset",
                                    "4": "6.252",
                                    "5": "43.296",
                                    "6": "0.0",
                                    "7": "2",
                                    "8": "12",
                                    "9": "0",
                                    "10": "12",
                                    "11": "0",
                                    "12": "0",
                                    "13": "0",
                                    "14": "20250123"
                                }
                            ],
                            "schema": [
                                {
                                    "key": "0",
                                    "name": "CapacityId",
                                    "type": "string"
                                },
                                {
                                    "key": "1",
                                    "name": "WorkspaceId",
                                    "type": "string"
                                },
                                {
                                    "key": "2",
                                    "name": "Date",
                                    "type": "timestamp"
                                },
                                {
                                    "key": "3",
                                    "name": "ItemKind",
                                    "type": "string"
                                },
                                {
                                    "key": "4",
                                    "name": "DurationInSec",
                                    "type": "double"
                                },
                                {
                                    "key": "5",
                                    "name": "TotalCUs",
                                    "type": "double"
                                },
                                {
                                    "key": "6",
                                    "name": "ThrottlingInMin",
                                    "type": "double"
                                },
                                {
                                    "key": "7",
                                    "name": "UserCount",
                                    "type": "bigint"
                                },
                                {
                                    "key": "8",
                                    "name": "SuccessOperationCount",
                                    "type": "bigint"
                                },
                                {
                                    "key": "9",
                                    "name": "RejectedOperationCount",
                                    "type": "bigint"
                                },
                                {
                                    "key": "10",
                                    "name": "OperationCount",
                                    "type": "bigint"
                                },
                                {
                                    "key": "11",
                                    "name": "InvalidOperationCount",
                                    "type": "bigint"
                                },
                                {
                                    "key": "12",
                                    "name": "FailureOperationCount",
                                    "type": "bigint"
                                },
                                {
                                    "key": "13",
                                    "name": "CancelledOperationCount",
                                    "type": "bigint"
                                },
                                {
                                    "key": "14",
                                    "name": "DateKey",
                                    "type": "string"
                                }
                            ],
                            "truncated": false
                        },
                        "isSummary": false,
                        "language": "scala",
                        "wranglerEntryContext": {
                            "candidateVariableNames": [
                                "capacity_df"
                            ],
                            "dataframeType": "pyspark"
                        }
                    },
                    "persist_state": {
                        "view": {
                            "type": "details",
                            "tableOptions": {},
                            "chartOptions": {
                                "chartType": "bar",
                                "categoryFieldKeys": [
                                    "1"
                                ],
                                "seriesFieldKeys": [
                                    "5"
                                ],
                                "aggregationType": "sum",
                                "isStacked": false,
                                "binsNumber": 10,
                                "wordFrequency": "-1",
                                "evaluatesOverAllRecords": false
                            },
                            "viewOptionsGroup": [
                                {
                                    "tabItems": [
                                        {
                                            "type": "table",
                                            "name": "Table",
                                            "key": "0",
                                            "options": {}
                                        }
                                    ]
                                }
                            ]
                        }
                    }
                },
                "49e70ca4-4043-4d99-8c74-508918a34d6f": {
                    "type": "Synapse.DataFrame",
                    "sync_state": {
                        "table": {
                            "rows": [
                                {
                                    "0": "C37B34DC-7F7A-4A14-95EF-9575FFB2FBF2",
                                    "1": "1F8631F1-BA1A-4154-921E-6D3919BB51FD",
                                    "2": "2025-01-24 00:00:00",
                                    "3": "EventStream",
                                    "4": "1212000.0",
                                    "5": "10576.196046141833",
                                    "6": "0.0",
                                    "7": "3",
                                    "8": "287",
                                    "9": "0",
                                    "10": "287",
                                    "11": "0",
                                    "12": "0",
                                    "13": "0",
                                    "14": "20250124"
                                },
                                {
                                    "0": "C37B34DC-7F7A-4A14-95EF-9575FFB2FBF2",
                                    "1": "5D693BBA-CD91-4644-9E10-4D0A1F17E2F5",
                                    "2": "2025-01-24 00:00:00",
                                    "3": "Lakehouse",
                                    "4": "1241.501",
                                    "5": "6393.3199000000295",
                                    "6": "0.0",
                                    "7": "3",
                                    "8": "2206",
                                    "9": "0",
                                    "10": "2207",
                                    "11": "0",
                                    "12": "1",
                                    "13": "0",
                                    "14": "20250124"
                                },
                                {
                                    "0": "C37B34DC-7F7A-4A14-95EF-9575FFB2FBF2",
                                    "1": "2AD70867-1E57-4C21-A67C-406D982786BC",
                                    "2": "2025-01-24 00:00:00",
                                    "3": "SynapseNotebook",
                                    "4": "1478.6559999999995",
                                    "5": "5914.699999999999",
                                    "6": "0.0",
                                    "7": "15",
                                    "8": "0",
                                    "9": "0",
                                    "10": "16",
                                    "11": "0",
                                    "12": "0",
                                    "13": "16",
                                    "14": "20250124"
                                },
                                {
                                    "0": "C37B34DC-7F7A-4A14-95EF-9575FFB2FBF2",
                                    "1": "2AD70867-1E57-4C21-A67C-406D982786BC",
                                    "2": "2025-01-24 00:00:00",
                                    "3": "KustoEventHouse",
                                    "4": "3900.0",
                                    "5": "4875.0",
                                    "6": "0.0",
                                    "7": "1",
                                    "8": "65",
                                    "9": "0",
                                    "10": "65",
                                    "11": "0",
                                    "12": "0",
                                    "13": "0",
                                    "14": "20250124"
                                },
                                {
                                    "0": "C37B34DC-7F7A-4A14-95EF-9575FFB2FBF2",
                                    "1": "2AD70867-1E57-4C21-A67C-406D982786BC",
                                    "2": "2025-01-24 00:00:00",
                                    "3": "Lakehouse",
                                    "4": "12.564000000000002",
                                    "5": "3473.29860000002",
                                    "6": "0.0",
                                    "7": "4",
                                    "8": "12564",
                                    "9": "0",
                                    "10": "12564",
                                    "11": "0",
                                    "12": "0",
                                    "13": "0",
                                    "14": "20250124"
                                },
                                {
                                    "0": "C37B34DC-7F7A-4A14-95EF-9575FFB2FBF2",
                                    "1": "5D693BBA-CD91-4644-9E10-4D0A1F17E2F5",
                                    "2": "2025-01-24 00:00:00",
                                    "3": "KustoEventHouse",
                                    "4": "1860.0",
                                    "5": "2325.0",
                                    "6": "0.0",
                                    "7": "1",
                                    "8": "31",
                                    "9": "0",
                                    "10": "31",
                                    "11": "0",
                                    "12": "0",
                                    "13": "0",
                                    "14": "20250124"
                                },
                                {
                                    "0": "C37B34DC-7F7A-4A14-95EF-9575FFB2FBF2",
                                    "1": "2AD70867-1E57-4C21-A67C-406D982786BC",
                                    "2": "2025-01-24 00:00:00",
                                    "3": "Pipeline",
                                    "4": "7516.6129999999985",
                                    "5": "2280.2399999999993",
                                    "6": "0.0",
                                    "7": "13",
                                    "8": "70",
                                    "9": "0",
                                    "10": "74",
                                    "11": "0",
                                    "12": "4",
                                    "13": "0",
                                    "14": "20250124"
                                },
                                {
                                    "0": "C37B34DC-7F7A-4A14-95EF-9575FFB2FBF2",
                                    "1": "502FC901-A00D-4BA7-8A8D-F5F1CCA0C6A6",
                                    "2": "2025-01-24 00:00:00",
                                    "3": "Activator",
                                    "4": "87000.0",
                                    "5": "1931.4",
                                    "6": "0.0",
                                    "7": "1",
                                    "8": "1",
                                    "9": "0",
                                    "10": "1",
                                    "11": "0",
                                    "12": "0",
                                    "13": "0",
                                    "14": "20250124"
                                },
                                {
                                    "0": "C37B34DC-7F7A-4A14-95EF-9575FFB2FBF2",
                                    "1": "1F8631F1-BA1A-4154-921E-6D3919BB51FD",
                                    "2": "2025-01-24 00:00:00",
                                    "3": "Activator",
                                    "4": "86400.0",
                                    "5": "1918.08",
                                    "6": "0.0",
                                    "7": "1",
                                    "8": "1",
                                    "9": "0",
                                    "10": "1",
                                    "11": "0",
                                    "12": "0",
                                    "13": "0",
                                    "14": "20250124"
                                },
                                {
                                    "0": "C37B34DC-7F7A-4A14-95EF-9575FFB2FBF2",
                                    "1": "2AD70867-1E57-4C21-A67C-406D982786BC",
                                    "2": "2025-01-24 00:00:00",
                                    "3": "Dataset",
                                    "4": "937.2980000000001",
                                    "5": "1712.7359999999999",
                                    "6": "0.0",
                                    "7": "13",
                                    "8": "1054",
                                    "9": "0",
                                    "10": "1129",
                                    "11": "0",
                                    "12": "75",
                                    "13": "0",
                                    "14": "20250124"
                                },
                                {
                                    "0": "C37B34DC-7F7A-4A14-95EF-9575FFB2FBF2",
                                    "1": "94AA991B-55FC-415D-BA92-A71C9F45ED2F",
                                    "2": "2025-01-24 00:00:00",
                                    "3": "Dataset",
                                    "4": "390.985",
                                    "5": "1006.176",
                                    "6": "0.0",
                                    "7": "3",
                                    "8": "61",
                                    "9": "0",
                                    "10": "70",
                                    "11": "0",
                                    "12": "9",
                                    "13": "0",
                                    "14": "20250124"
                                },
                                {
                                    "0": "C37B34DC-7F7A-4A14-95EF-9575FFB2FBF2",
                                    "1": "4AF86E5D-5B9A-42C0-9491-A80242A15A34",
                                    "2": "2025-01-24 00:00:00",
                                    "3": "SynapseNotebook",
                                    "4": "248.043",
                                    "5": "992.19",
                                    "6": "0.0",
                                    "7": "1",
                                    "8": "0",
                                    "9": "0",
                                    "10": "3",
                                    "11": "0",
                                    "12": "0",
                                    "13": "3",
                                    "14": "20250124"
                                },
                                {
                                    "0": "C37B34DC-7F7A-4A14-95EF-9575FFB2FBF2",
                                    "1": "5D693BBA-CD91-4644-9E10-4D0A1F17E2F5",
                                    "2": "2025-01-24 00:00:00",
                                    "3": "Dataset",
                                    "4": "289.38599999999997",
                                    "5": "558.304",
                                    "6": "0.0",
                                    "7": "6",
                                    "8": "532",
                                    "9": "0",
                                    "10": "537",
                                    "11": "0",
                                    "12": "5",
                                    "13": "0",
                                    "14": "20250124"
                                },
                                {
                                    "0": "C37B34DC-7F7A-4A14-95EF-9575FFB2FBF2",
                                    "1": "2AD70867-1E57-4C21-A67C-406D982786BC",
                                    "2": "2025-01-24 00:00:00",
                                    "3": "Warehouse",
                                    "4": "276.249",
                                    "5": "387.262",
                                    "6": "0.0",
                                    "7": "6",
                                    "8": "853",
                                    "9": "0",
                                    "10": "853",
                                    "11": "0",
                                    "12": "0",
                                    "13": "0",
                                    "14": "20250124"
                                },
                                {
                                    "0": "C37B34DC-7F7A-4A14-95EF-9575FFB2FBF2",
                                    "1": "4AF86E5D-5B9A-42C0-9491-A80242A15A34",
                                    "2": "2025-01-24 00:00:00",
                                    "3": "Pipeline",
                                    "4": "374.603",
                                    "5": "330.48",
                                    "6": "0.0",
                                    "7": "1",
                                    "8": "6",
                                    "9": "0",
                                    "10": "6",
                                    "11": "0",
                                    "12": "0",
                                    "13": "0",
                                    "14": "20250124"
                                },
                                {
                                    "0": "C37B34DC-7F7A-4A14-95EF-9575FFB2FBF2",
                                    "1": "43E58404-650A-4FD3-B6E6-E3E0039E4A7E",
                                    "2": "2025-01-24 00:00:00",
                                    "3": "Dataset",
                                    "4": "184.446",
                                    "5": "314.288",
                                    "6": "0.0",
                                    "7": "2",
                                    "8": "12",
                                    "9": "0",
                                    "10": "12",
                                    "11": "0",
                                    "12": "0",
                                    "13": "0",
                                    "14": "20250124"
                                },
                                {
                                    "0": "C37B34DC-7F7A-4A14-95EF-9575FFB2FBF2",
                                    "1": "4AF86E5D-5B9A-42C0-9491-A80242A15A34",
                                    "2": "2025-01-24 00:00:00",
                                    "3": "Lakehouse",
                                    "4": "0.99",
                                    "5": "163.18020000000016",
                                    "6": "0.0",
                                    "7": "1",
                                    "8": "990",
                                    "9": "0",
                                    "10": "990",
                                    "11": "0",
                                    "12": "0",
                                    "13": "0",
                                    "14": "20250124"
                                },
                                {
                                    "0": "C37B34DC-7F7A-4A14-95EF-9575FFB2FBF2",
                                    "1": "5D693BBA-CD91-4644-9E10-4D0A1F17E2F5",
                                    "2": "2025-01-24 00:00:00",
                                    "3": "Warehouse",
                                    "4": "130.441",
                                    "5": "84.24",
                                    "6": "0.0",
                                    "7": "4",
                                    "8": "441",
                                    "9": "0",
                                    "10": "443",
                                    "11": "0",
                                    "12": "0",
                                    "13": "2",
                                    "14": "20250124"
                                },
                                {
                                    "0": "C37B34DC-7F7A-4A14-95EF-9575FFB2FBF2",
                                    "1": "1F8631F1-BA1A-4154-921E-6D3919BB51FD",
                                    "2": "2025-01-24 00:00:00",
                                    "3": "Dataset",
                                    "4": "59.273",
                                    "5": "78.432",
                                    "6": "0.0",
                                    "7": "2",
                                    "8": "102",
                                    "9": "0",
                                    "10": "102",
                                    "11": "0",
                                    "12": "0",
                                    "13": "0",
                                    "14": "20250124"
                                },
                                {
                                    "0": "C37B34DC-7F7A-4A14-95EF-9575FFB2FBF2",
                                    "1": "1DBE0D9E-9308-47E7-A029-1E09289124A6",
                                    "2": "2025-01-24 00:00:00",
                                    "3": "Dataset",
                                    "4": "6.251",
                                    "5": "46.512",
                                    "6": "0.0",
                                    "7": "2",
                                    "8": "9",
                                    "9": "0",
                                    "10": "9",
                                    "11": "0",
                                    "12": "0",
                                    "13": "0",
                                    "14": "20250124"
                                }
                            ],
                            "schema": [
                                {
                                    "key": "0",
                                    "name": "CapacityId",
                                    "type": "string"
                                },
                                {
                                    "key": "1",
                                    "name": "WorkspaceId",
                                    "type": "string"
                                },
                                {
                                    "key": "2",
                                    "name": "Date",
                                    "type": "timestamp"
                                },
                                {
                                    "key": "3",
                                    "name": "ItemKind",
                                    "type": "string"
                                },
                                {
                                    "key": "4",
                                    "name": "DurationInSec",
                                    "type": "double"
                                },
                                {
                                    "key": "5",
                                    "name": "TotalCUs",
                                    "type": "double"
                                },
                                {
                                    "key": "6",
                                    "name": "ThrottlingInMin",
                                    "type": "double"
                                },
                                {
                                    "key": "7",
                                    "name": "UserCount",
                                    "type": "bigint"
                                },
                                {
                                    "key": "8",
                                    "name": "SuccessOperationCount",
                                    "type": "bigint"
                                },
                                {
                                    "key": "9",
                                    "name": "RejectedOperationCount",
                                    "type": "bigint"
                                },
                                {
                                    "key": "10",
                                    "name": "OperationCount",
                                    "type": "bigint"
                                },
                                {
                                    "key": "11",
                                    "name": "InvalidOperationCount",
                                    "type": "bigint"
                                },
                                {
                                    "key": "12",
                                    "name": "FailureOperationCount",
                                    "type": "bigint"
                                },
                                {
                                    "key": "13",
                                    "name": "CancelledOperationCount",
                                    "type": "bigint"
                                },
                                {
                                    "key": "14",
                                    "name": "DateKey",
                                    "type": "string"
                                }
                            ],
                            "truncated": false
                        },
                        "isSummary": false,
                        "language": "scala",
                        "wranglerEntryContext": {
                            "candidateVariableNames": [
                                "capacity_df"
                            ],
                            "dataframeType": "pyspark"
                        }
                    },
                    "persist_state": {
                        "view": {
                            "type": "details",
                            "tableOptions": {},
                            "chartOptions": {
                                "chartType": "bar",
                                "categoryFieldKeys": [
                                    "1"
                                ],
                                "seriesFieldKeys": [
                                    "5"
                                ],
                                "aggregationType": "sum",
                                "isStacked": false,
                                "binsNumber": 10,
                                "wordFrequency": "-1",
                                "evaluatesOverAllRecords": false
                            },
                            "viewOptionsGroup": [
                                {
                                    "tabItems": [
                                        {
                                            "type": "table",
                                            "name": "Table",
                                            "key": "0",
                                            "options": {}
                                        }
                                    ]
                                }
                            ]
                        }
                    }
                },
                "da215a70-0112-48f7-963f-242150ba56b9": {
                    "type": "Synapse.DataFrame",
                    "sync_state": {
                        "table": {
                            "rows": [
                                {
                                    "0": "C37B34DC-7F7A-4A14-95EF-9575FFB2FBF2",
                                    "1": "1F8631F1-BA1A-4154-921E-6D3919BB51FD",
                                    "2": "2025-01-25 00:00:00",
                                    "3": "EventStream",
                                    "4": "1212000.0",
                                    "5": "23150.47599454433",
                                    "6": "0.0",
                                    "7": "3",
                                    "8": "291",
                                    "9": "0",
                                    "10": "291",
                                    "11": "0",
                                    "12": "0",
                                    "13": "0",
                                    "14": "20250125"
                                },
                                {
                                    "0": "C37B34DC-7F7A-4A14-95EF-9575FFB2FBF2",
                                    "1": "2AD70867-1E57-4C21-A67C-406D982786BC",
                                    "2": "2025-01-25 00:00:00",
                                    "3": "SynapseNotebook",
                                    "4": "1385.3330000000003",
                                    "5": "5541.4105",
                                    "6": "0.0",
                                    "7": "15",
                                    "8": "0",
                                    "9": "0",
                                    "10": "16",
                                    "11": "0",
                                    "12": "0",
                                    "13": "16",
                                    "14": "20250125"
                                },
                                {
                                    "0": "C37B34DC-7F7A-4A14-95EF-9575FFB2FBF2",
                                    "1": "2AD70867-1E57-4C21-A67C-406D982786BC",
                                    "2": "2025-01-25 00:00:00",
                                    "3": "KustoEventHouse",
                                    "4": "1980.0",
                                    "5": "2475.0",
                                    "6": "0.0",
                                    "7": "1",
                                    "8": "33",
                                    "9": "0",
                                    "10": "33",
                                    "11": "0",
                                    "12": "0",
                                    "13": "0",
                                    "14": "20250125"
                                },
                                {
                                    "0": "C37B34DC-7F7A-4A14-95EF-9575FFB2FBF2",
                                    "1": "2AD70867-1E57-4C21-A67C-406D982786BC",
                                    "2": "2025-01-25 00:00:00",
                                    "3": "Pipeline",
                                    "4": "7167.465999999999",
                                    "5": "2280.2399999999993",
                                    "6": "0.0",
                                    "7": "13",
                                    "8": "70",
                                    "9": "0",
                                    "10": "74",
                                    "11": "0",
                                    "12": "4",
                                    "13": "0",
                                    "14": "20250125"
                                },
                                {
                                    "0": "C37B34DC-7F7A-4A14-95EF-9575FFB2FBF2",
                                    "1": "1F8631F1-BA1A-4154-921E-6D3919BB51FD",
                                    "2": "2025-01-25 00:00:00",
                                    "3": "Activator",
                                    "4": "86400.0",
                                    "5": "1918.08",
                                    "6": "0.0",
                                    "7": "1",
                                    "8": "1",
                                    "9": "0",
                                    "10": "1",
                                    "11": "0",
                                    "12": "0",
                                    "13": "0",
                                    "14": "20250125"
                                },
                                {
                                    "0": "C37B34DC-7F7A-4A14-95EF-9575FFB2FBF2",
                                    "1": "502FC901-A00D-4BA7-8A8D-F5F1CCA0C6A6",
                                    "2": "2025-01-25 00:00:00",
                                    "3": "Activator",
                                    "4": "86400.0",
                                    "5": "1918.08",
                                    "6": "0.0",
                                    "7": "1",
                                    "8": "1",
                                    "9": "0",
                                    "10": "1",
                                    "11": "0",
                                    "12": "0",
                                    "13": "0",
                                    "14": "20250125"
                                },
                                {
                                    "0": "C37B34DC-7F7A-4A14-95EF-9575FFB2FBF2",
                                    "1": "2AD70867-1E57-4C21-A67C-406D982786BC",
                                    "2": "2025-01-25 00:00:00",
                                    "3": "Lakehouse",
                                    "4": "10.126999999999999",
                                    "5": "1211.2746000000107",
                                    "6": "0.0",
                                    "7": "2",
                                    "8": "10127",
                                    "9": "0",
                                    "10": "10127",
                                    "11": "0",
                                    "12": "0",
                                    "13": "0",
                                    "14": "20250125"
                                },
                                {
                                    "0": "C37B34DC-7F7A-4A14-95EF-9575FFB2FBF2",
                                    "1": "4AF86E5D-5B9A-42C0-9491-A80242A15A34",
                                    "2": "2025-01-25 00:00:00",
                                    "3": "SynapseNotebook",
                                    "4": "206.768",
                                    "5": "827.086",
                                    "6": "0.0",
                                    "7": "1",
                                    "8": "0",
                                    "9": "0",
                                    "10": "3",
                                    "11": "0",
                                    "12": "0",
                                    "13": "3",
                                    "14": "20250125"
                                },
                                {
                                    "0": "C37B34DC-7F7A-4A14-95EF-9575FFB2FBF2",
                                    "1": "4AF86E5D-5B9A-42C0-9491-A80242A15A34",
                                    "2": "2025-01-25 00:00:00",
                                    "3": "Pipeline",
                                    "4": "428.15",
                                    "5": "330.48",
                                    "6": "0.0",
                                    "7": "1",
                                    "8": "6",
                                    "9": "0",
                                    "10": "6",
                                    "11": "0",
                                    "12": "0",
                                    "13": "0",
                                    "14": "20250125"
                                },
                                {
                                    "0": "C37B34DC-7F7A-4A14-95EF-9575FFB2FBF2",
                                    "1": "43E58404-650A-4FD3-B6E6-E3E0039E4A7E",
                                    "2": "2025-01-25 00:00:00",
                                    "3": "Dataset",
                                    "4": "179.343",
                                    "5": "303.04",
                                    "6": "0.0",
                                    "7": "2",
                                    "8": "10",
                                    "9": "0",
                                    "10": "10",
                                    "11": "0",
                                    "12": "0",
                                    "13": "0",
                                    "14": "20250125"
                                },
                                {
                                    "0": "C37B34DC-7F7A-4A14-95EF-9575FFB2FBF2",
                                    "1": "94AA991B-55FC-415D-BA92-A71C9F45ED2F",
                                    "2": "2025-01-25 00:00:00",
                                    "3": "Dataset",
                                    "4": "212.237",
                                    "5": "232.304",
                                    "6": "0.0",
                                    "7": "2",
                                    "8": "18",
                                    "9": "0",
                                    "10": "18",
                                    "11": "0",
                                    "12": "0",
                                    "13": "0",
                                    "14": "20250125"
                                },
                                {
                                    "0": "C37B34DC-7F7A-4A14-95EF-9575FFB2FBF2",
                                    "1": "2AD70867-1E57-4C21-A67C-406D982786BC",
                                    "2": "2025-01-25 00:00:00",
                                    "3": "Dataset",
                                    "4": "20.66",
                                    "5": "186.03199999999998",
                                    "6": "0.0",
                                    "7": "4",
                                    "8": "16",
                                    "9": "0",
                                    "10": "16",
                                    "11": "0",
                                    "12": "0",
                                    "13": "0",
                                    "14": "20250125"
                                },
                                {
                                    "0": "C37B34DC-7F7A-4A14-95EF-9575FFB2FBF2",
                                    "1": "4AF86E5D-5B9A-42C0-9491-A80242A15A34",
                                    "2": "2025-01-25 00:00:00",
                                    "3": "Lakehouse",
                                    "4": "0.994",
                                    "5": "165.40560000000022",
                                    "6": "0.0",
                                    "7": "1",
                                    "8": "994",
                                    "9": "0",
                                    "10": "994",
                                    "11": "0",
                                    "12": "0",
                                    "13": "0",
                                    "14": "20250125"
                                },
                                {
                                    "0": "C37B34DC-7F7A-4A14-95EF-9575FFB2FBF2",
                                    "1": "1F8631F1-BA1A-4154-921E-6D3919BB51FD",
                                    "2": "2025-01-25 00:00:00",
                                    "3": "Dataset",
                                    "4": "8.047",
                                    "5": "56.464",
                                    "6": "0.0",
                                    "7": "2",
                                    "8": "88",
                                    "9": "0",
                                    "10": "88",
                                    "11": "0",
                                    "12": "0",
                                    "13": "0",
                                    "14": "20250125"
                                },
                                {
                                    "0": "C37B34DC-7F7A-4A14-95EF-9575FFB2FBF2",
                                    "1": "1DBE0D9E-9308-47E7-A029-1E09289124A6",
                                    "2": "2025-01-25 00:00:00",
                                    "3": "Dataset",
                                    "4": "6.361",
                                    "5": "45.28",
                                    "6": "0.0",
                                    "7": "2",
                                    "8": "9",
                                    "9": "0",
                                    "10": "9",
                                    "11": "0",
                                    "12": "0",
                                    "13": "0",
                                    "14": "20250125"
                                }
                            ],
                            "schema": [
                                {
                                    "key": "0",
                                    "name": "CapacityId",
                                    "type": "string"
                                },
                                {
                                    "key": "1",
                                    "name": "WorkspaceId",
                                    "type": "string"
                                },
                                {
                                    "key": "2",
                                    "name": "Date",
                                    "type": "timestamp"
                                },
                                {
                                    "key": "3",
                                    "name": "ItemKind",
                                    "type": "string"
                                },
                                {
                                    "key": "4",
                                    "name": "DurationInSec",
                                    "type": "double"
                                },
                                {
                                    "key": "5",
                                    "name": "TotalCUs",
                                    "type": "double"
                                },
                                {
                                    "key": "6",
                                    "name": "ThrottlingInMin",
                                    "type": "double"
                                },
                                {
                                    "key": "7",
                                    "name": "UserCount",
                                    "type": "bigint"
                                },
                                {
                                    "key": "8",
                                    "name": "SuccessOperationCount",
                                    "type": "bigint"
                                },
                                {
                                    "key": "9",
                                    "name": "RejectedOperationCount",
                                    "type": "bigint"
                                },
                                {
                                    "key": "10",
                                    "name": "OperationCount",
                                    "type": "bigint"
                                },
                                {
                                    "key": "11",
                                    "name": "InvalidOperationCount",
                                    "type": "bigint"
                                },
                                {
                                    "key": "12",
                                    "name": "FailureOperationCount",
                                    "type": "bigint"
                                },
                                {
                                    "key": "13",
                                    "name": "CancelledOperationCount",
                                    "type": "bigint"
                                },
                                {
                                    "key": "14",
                                    "name": "DateKey",
                                    "type": "string"
                                }
                            ],
                            "truncated": false
                        },
                        "isSummary": false,
                        "language": "scala",
                        "wranglerEntryContext": {
                            "candidateVariableNames": [
                                "capacity_df"
                            ],
                            "dataframeType": "pyspark"
                        }
                    },
                    "persist_state": {
                        "view": {
                            "type": "details",
                            "tableOptions": {},
                            "chartOptions": {
                                "chartType": "bar",
                                "categoryFieldKeys": [
                                    "1"
                                ],
                                "seriesFieldKeys": [
                                    "5"
                                ],
                                "aggregationType": "sum",
                                "isStacked": false,
                                "binsNumber": 10,
                                "wordFrequency": "-1",
                                "evaluatesOverAllRecords": false
                            },
                            "viewOptionsGroup": [
                                {
                                    "tabItems": [
                                        {
                                            "type": "table",
                                            "name": "Table",
                                            "key": "0",
                                            "options": {}
                                        }
                                    ]
                                }
                            ]
                        }
                    }
                },
                "33615b97-124e-45b7-be5f-b507c6a18fc0": {
                    "type": "Synapse.DataFrame",
                    "sync_state": {
                        "table": {
                            "rows": [
                                {
                                    "0": "C37B34DC-7F7A-4A14-95EF-9575FFB2FBF2",
                                    "1": "1F8631F1-BA1A-4154-921E-6D3919BB51FD",
                                    "2": "2025-01-26 00:00:00",
                                    "3": "EventStream",
                                    "4": "1209600.0",
                                    "5": "18488.353909026686",
                                    "6": "0.0",
                                    "7": "3",
                                    "8": "291",
                                    "9": "0",
                                    "10": "291",
                                    "11": "0",
                                    "12": "0",
                                    "13": "0",
                                    "14": "20250126"
                                },
                                {
                                    "0": "C37B34DC-7F7A-4A14-95EF-9575FFB2FBF2",
                                    "1": "2AD70867-1E57-4C21-A67C-406D982786BC",
                                    "2": "2025-01-26 00:00:00",
                                    "3": "SynapseNotebook",
                                    "4": "1377.3490000000002",
                                    "5": "5509.472",
                                    "6": "0.0",
                                    "7": "15",
                                    "8": "0",
                                    "9": "0",
                                    "10": "16",
                                    "11": "0",
                                    "12": "0",
                                    "13": "16",
                                    "14": "20250126"
                                },
                                {
                                    "0": "C37B34DC-7F7A-4A14-95EF-9575FFB2FBF2",
                                    "1": "2AD70867-1E57-4C21-A67C-406D982786BC",
                                    "2": "2025-01-26 00:00:00",
                                    "3": "Pipeline",
                                    "4": "6427.757999999999",
                                    "5": "2280.2399999999993",
                                    "6": "0.0",
                                    "7": "13",
                                    "8": "70",
                                    "9": "0",
                                    "10": "74",
                                    "11": "0",
                                    "12": "4",
                                    "13": "0",
                                    "14": "20250126"
                                },
                                {
                                    "0": "C37B34DC-7F7A-4A14-95EF-9575FFB2FBF2",
                                    "1": "502FC901-A00D-4BA7-8A8D-F5F1CCA0C6A6",
                                    "2": "2025-01-26 00:00:00",
                                    "3": "Activator",
                                    "4": "86400.0",
                                    "5": "1918.08",
                                    "6": "0.0",
                                    "7": "1",
                                    "8": "1",
                                    "9": "0",
                                    "10": "1",
                                    "11": "0",
                                    "12": "0",
                                    "13": "0",
                                    "14": "20250126"
                                },
                                {
                                    "0": "C37B34DC-7F7A-4A14-95EF-9575FFB2FBF2",
                                    "1": "1F8631F1-BA1A-4154-921E-6D3919BB51FD",
                                    "2": "2025-01-26 00:00:00",
                                    "3": "Activator",
                                    "4": "86400.0",
                                    "5": "1918.08",
                                    "6": "0.0",
                                    "7": "1",
                                    "8": "1",
                                    "9": "0",
                                    "10": "1",
                                    "11": "0",
                                    "12": "0",
                                    "13": "0",
                                    "14": "20250126"
                                },
                                {
                                    "0": "C37B34DC-7F7A-4A14-95EF-9575FFB2FBF2",
                                    "1": "2AD70867-1E57-4C21-A67C-406D982786BC",
                                    "2": "2025-01-26 00:00:00",
                                    "3": "KustoEventHouse",
                                    "4": "1200.0",
                                    "5": "1500.0",
                                    "6": "0.0",
                                    "7": "1",
                                    "8": "20",
                                    "9": "0",
                                    "10": "20",
                                    "11": "0",
                                    "12": "0",
                                    "13": "0",
                                    "14": "20250126"
                                },
                                {
                                    "0": "C37B34DC-7F7A-4A14-95EF-9575FFB2FBF2",
                                    "1": "2AD70867-1E57-4C21-A67C-406D982786BC",
                                    "2": "2025-01-26 00:00:00",
                                    "3": "Lakehouse",
                                    "4": "10.498",
                                    "5": "1289.4762000000123",
                                    "6": "0.0",
                                    "7": "2",
                                    "8": "10498",
                                    "9": "0",
                                    "10": "10498",
                                    "11": "0",
                                    "12": "0",
                                    "13": "0",
                                    "14": "20250126"
                                },
                                {
                                    "0": "C37B34DC-7F7A-4A14-95EF-9575FFB2FBF2",
                                    "1": "4AF86E5D-5B9A-42C0-9491-A80242A15A34",
                                    "2": "2025-01-26 00:00:00",
                                    "3": "SynapseNotebook",
                                    "4": "222.38",
                                    "5": "889.544",
                                    "6": "0.0",
                                    "7": "1",
                                    "8": "0",
                                    "9": "0",
                                    "10": "3",
                                    "11": "0",
                                    "12": "0",
                                    "13": "3",
                                    "14": "20250126"
                                },
                                {
                                    "0": "C37B34DC-7F7A-4A14-95EF-9575FFB2FBF2",
                                    "1": "1C8D0043-B762-4D49-ADF1-6BAF414F9AB4",
                                    "2": "2025-01-26 00:00:00",
                                    "3": "SynapseNotebook",
                                    "4": "137.563",
                                    "5": "550.2575",
                                    "6": "0.0",
                                    "7": "1",
                                    "8": "0",
                                    "9": "0",
                                    "10": "1",
                                    "11": "0",
                                    "12": "0",
                                    "13": "1",
                                    "14": "20250126"
                                },
                                {
                                    "0": "C37B34DC-7F7A-4A14-95EF-9575FFB2FBF2",
                                    "1": "4AF86E5D-5B9A-42C0-9491-A80242A15A34",
                                    "2": "2025-01-26 00:00:00",
                                    "3": "Pipeline",
                                    "4": "410.103",
                                    "5": "330.48",
                                    "6": "0.0",
                                    "7": "1",
                                    "8": "6",
                                    "9": "0",
                                    "10": "6",
                                    "11": "0",
                                    "12": "0",
                                    "13": "0",
                                    "14": "20250126"
                                },
                                {
                                    "0": "C37B34DC-7F7A-4A14-95EF-9575FFB2FBF2",
                                    "1": "43E58404-650A-4FD3-B6E6-E3E0039E4A7E",
                                    "2": "2025-01-26 00:00:00",
                                    "3": "Dataset",
                                    "4": "177.311",
                                    "5": "280.528",
                                    "6": "0.0",
                                    "7": "2",
                                    "8": "8",
                                    "9": "0",
                                    "10": "8",
                                    "11": "0",
                                    "12": "0",
                                    "13": "0",
                                    "14": "20250126"
                                },
                                {
                                    "0": "C37B34DC-7F7A-4A14-95EF-9575FFB2FBF2",
                                    "1": "2AD70867-1E57-4C21-A67C-406D982786BC",
                                    "2": "2025-01-26 00:00:00",
                                    "3": "Dataset",
                                    "4": "20.112000000000002",
                                    "5": "171.05599999999998",
                                    "6": "0.0",
                                    "7": "4",
                                    "8": "20",
                                    "9": "0",
                                    "10": "20",
                                    "11": "0",
                                    "12": "0",
                                    "13": "0",
                                    "14": "20250126"
                                },
                                {
                                    "0": "C37B34DC-7F7A-4A14-95EF-9575FFB2FBF2",
                                    "1": "4AF86E5D-5B9A-42C0-9491-A80242A15A34",
                                    "2": "2025-01-26 00:00:00",
                                    "3": "Lakehouse",
                                    "4": "1.005",
                                    "5": "167.4904000000012",
                                    "6": "0.0",
                                    "7": "1",
                                    "8": "1005",
                                    "9": "0",
                                    "10": "1005",
                                    "11": "0",
                                    "12": "0",
                                    "13": "0",
                                    "14": "20250126"
                                },
                                {
                                    "0": "C37B34DC-7F7A-4A14-95EF-9575FFB2FBF2",
                                    "1": "1C8D0043-B762-4D49-ADF1-6BAF414F9AB4",
                                    "2": "2025-01-26 00:00:00",
                                    "3": "Lakehouse",
                                    "4": "1.218",
                                    "5": "143.46680000000055",
                                    "6": "0.0",
                                    "7": "1",
                                    "8": "1218",
                                    "9": "0",
                                    "10": "1218",
                                    "11": "0",
                                    "12": "0",
                                    "13": "0",
                                    "14": "20250126"
                                },
                                {
                                    "0": "C37B34DC-7F7A-4A14-95EF-9575FFB2FBF2",
                                    "1": "1F8631F1-BA1A-4154-921E-6D3919BB51FD",
                                    "2": "2025-01-26 00:00:00",
                                    "3": "Dataset",
                                    "4": "6.393",
                                    "5": "53.28",
                                    "6": "0.0",
                                    "7": "2",
                                    "8": "104",
                                    "9": "0",
                                    "10": "104",
                                    "11": "0",
                                    "12": "0",
                                    "13": "0",
                                    "14": "20250126"
                                },
                                {
                                    "0": "C37B34DC-7F7A-4A14-95EF-9575FFB2FBF2",
                                    "1": "1DBE0D9E-9308-47E7-A029-1E09289124A6",
                                    "2": "2025-01-26 00:00:00",
                                    "3": "Dataset",
                                    "4": "6.359",
                                    "5": "43.76",
                                    "6": "0.0",
                                    "7": "2",
                                    "8": "6",
                                    "9": "0",
                                    "10": "6",
                                    "11": "0",
                                    "12": "0",
                                    "13": "0",
                                    "14": "20250126"
                                }
                            ],
                            "schema": [
                                {
                                    "key": "0",
                                    "name": "CapacityId",
                                    "type": "string"
                                },
                                {
                                    "key": "1",
                                    "name": "WorkspaceId",
                                    "type": "string"
                                },
                                {
                                    "key": "2",
                                    "name": "Date",
                                    "type": "timestamp"
                                },
                                {
                                    "key": "3",
                                    "name": "ItemKind",
                                    "type": "string"
                                },
                                {
                                    "key": "4",
                                    "name": "DurationInSec",
                                    "type": "double"
                                },
                                {
                                    "key": "5",
                                    "name": "TotalCUs",
                                    "type": "double"
                                },
                                {
                                    "key": "6",
                                    "name": "ThrottlingInMin",
                                    "type": "double"
                                },
                                {
                                    "key": "7",
                                    "name": "UserCount",
                                    "type": "bigint"
                                },
                                {
                                    "key": "8",
                                    "name": "SuccessOperationCount",
                                    "type": "bigint"
                                },
                                {
                                    "key": "9",
                                    "name": "RejectedOperationCount",
                                    "type": "bigint"
                                },
                                {
                                    "key": "10",
                                    "name": "OperationCount",
                                    "type": "bigint"
                                },
                                {
                                    "key": "11",
                                    "name": "InvalidOperationCount",
                                    "type": "bigint"
                                },
                                {
                                    "key": "12",
                                    "name": "FailureOperationCount",
                                    "type": "bigint"
                                },
                                {
                                    "key": "13",
                                    "name": "CancelledOperationCount",
                                    "type": "bigint"
                                },
                                {
                                    "key": "14",
                                    "name": "DateKey",
                                    "type": "string"
                                }
                            ],
                            "truncated": false
                        },
                        "isSummary": false,
                        "language": "scala",
                        "wranglerEntryContext": {
                            "candidateVariableNames": [
                                "capacity_df"
                            ],
                            "dataframeType": "pyspark"
                        }
                    },
                    "persist_state": {
                        "view": {
                            "type": "details",
                            "tableOptions": {},
                            "chartOptions": {
                                "chartType": "bar",
                                "categoryFieldKeys": [
                                    "1"
                                ],
                                "seriesFieldKeys": [
                                    "5"
                                ],
                                "aggregationType": "sum",
                                "isStacked": false,
                                "binsNumber": 10,
                                "wordFrequency": "-1",
                                "evaluatesOverAllRecords": false
                            },
                            "viewOptionsGroup": [
                                {
                                    "tabItems": [
                                        {
                                            "type": "table",
                                            "name": "Table",
                                            "key": "0",
                                            "options": {}
                                        }
                                    ]
                                }
                            ]
                        }
                    }
                },
                "aae88375-32d6-44cb-aa7a-580af4531818": {
                    "type": "Synapse.DataFrame",
                    "sync_state": {
                        "table": {
                            "rows": [
                                {
                                    "0": "C37B34DC-7F7A-4A14-95EF-9575FFB2FBF2",
                                    "1": "2AD70867-1E57-4C21-A67C-406D982786BC",
                                    "2": "2025-01-27 00:00:00",
                                    "3": "SynapseNotebook",
                                    "4": "1646.4680000000003",
                                    "5": "9422.759",
                                    "6": "0.0",
                                    "7": "16",
                                    "8": "0",
                                    "9": "0",
                                    "10": "17",
                                    "11": "0",
                                    "12": "0",
                                    "13": "16",
                                    "14": "20250127"
                                },
                                {
                                    "0": "C37B34DC-7F7A-4A14-95EF-9575FFB2FBF2",
                                    "1": "2AD70867-1E57-4C21-A67C-406D982786BC",
                                    "2": "2025-01-27 00:00:00",
                                    "3": "Pipeline",
                                    "4": "7928.857",
                                    "5": "2280.2399999999993",
                                    "6": "0.0",
                                    "7": "13",
                                    "8": "70",
                                    "9": "0",
                                    "10": "74",
                                    "11": "0",
                                    "12": "4",
                                    "13": "0",
                                    "14": "20250127"
                                },
                                {
                                    "0": "C37B34DC-7F7A-4A14-95EF-9575FFB2FBF2",
                                    "1": "2AD70867-1E57-4C21-A67C-406D982786BC",
                                    "2": "2025-01-27 00:00:00",
                                    "3": "Lakehouse",
                                    "4": "12.556999999999999",
                                    "5": "1839.880400000007",
                                    "6": "0.0",
                                    "7": "4",
                                    "8": "12557",
                                    "9": "0",
                                    "10": "12557",
                                    "11": "0",
                                    "12": "0",
                                    "13": "0",
                                    "14": "20250127"
                                },
                                {
                                    "0": "C37B34DC-7F7A-4A14-95EF-9575FFB2FBF2",
                                    "1": "1F8631F1-BA1A-4154-921E-6D3919BB51FD",
                                    "2": "2025-01-27 00:00:00",
                                    "3": "EventStream",
                                    "4": "462000.0",
                                    "5": "1411.92",
                                    "6": "0.0",
                                    "7": "3",
                                    "8": "109",
                                    "9": "0",
                                    "10": "109",
                                    "11": "0",
                                    "12": "0",
                                    "13": "0",
                                    "14": "20250127"
                                },
                                {
                                    "0": "C37B34DC-7F7A-4A14-95EF-9575FFB2FBF2",
                                    "1": "2AD70867-1E57-4C21-A67C-406D982786BC",
                                    "2": "2025-01-27 00:00:00",
                                    "3": "KustoEventHouse",
                                    "4": "840.0",
                                    "5": "1050.0",
                                    "6": "0.0",
                                    "7": "1",
                                    "8": "14",
                                    "9": "0",
                                    "10": "14",
                                    "11": "0",
                                    "12": "0",
                                    "13": "0",
                                    "14": "20250127"
                                },
                                {
                                    "0": "C37B34DC-7F7A-4A14-95EF-9575FFB2FBF2",
                                    "1": "2AD70867-1E57-4C21-A67C-406D982786BC",
                                    "2": "2025-01-27 00:00:00",
                                    "3": "Dataset",
                                    "4": "686.706",
                                    "5": "889.7919999999999",
                                    "6": "0.0",
                                    "7": "8",
                                    "8": "260",
                                    "9": "0",
                                    "10": "267",
                                    "11": "0",
                                    "12": "7",
                                    "13": "0",
                                    "14": "20250127"
                                },
                                {
                                    "0": "C37B34DC-7F7A-4A14-95EF-9575FFB2FBF2",
                                    "1": "1F8631F1-BA1A-4154-921E-6D3919BB51FD",
                                    "2": "2025-01-27 00:00:00",
                                    "3": "Activator",
                                    "4": "31800.0",
                                    "5": "705.96",
                                    "6": "0.0",
                                    "7": "1",
                                    "8": "1",
                                    "9": "0",
                                    "10": "1",
                                    "11": "0",
                                    "12": "0",
                                    "13": "0",
                                    "14": "20250127"
                                },
                                {
                                    "0": "C37B34DC-7F7A-4A14-95EF-9575FFB2FBF2",
                                    "1": "502FC901-A00D-4BA7-8A8D-F5F1CCA0C6A6",
                                    "2": "2025-01-27 00:00:00",
                                    "3": "Activator",
                                    "4": "31800.0",
                                    "5": "705.96",
                                    "6": "0.0",
                                    "7": "1",
                                    "8": "1",
                                    "9": "0",
                                    "10": "1",
                                    "11": "0",
                                    "12": "0",
                                    "13": "0",
                                    "14": "20250127"
                                },
                                {
                                    "0": "C37B34DC-7F7A-4A14-95EF-9575FFB2FBF2",
                                    "1": "4AF86E5D-5B9A-42C0-9491-A80242A15A34",
                                    "2": "2025-01-27 00:00:00",
                                    "3": "SynapseNotebook",
                                    "4": "77.544",
                                    "5": "486.9995",
                                    "6": "0.0",
                                    "7": "1",
                                    "8": "0",
                                    "9": "0",
                                    "10": "1",
                                    "11": "0",
                                    "12": "0",
                                    "13": "1",
                                    "14": "20250127"
                                },
                                {
                                    "0": "C37B34DC-7F7A-4A14-95EF-9575FFB2FBF2",
                                    "1": "94AA991B-55FC-415D-BA92-A71C9F45ED2F",
                                    "2": "2025-01-27 00:00:00",
                                    "3": "Dataset",
                                    "4": "196.714",
                                    "5": "298.592",
                                    "6": "0.0",
                                    "7": "2",
                                    "8": "27",
                                    "9": "0",
                                    "10": "28",
                                    "11": "0",
                                    "12": "1",
                                    "13": "0",
                                    "14": "20250127"
                                },
                                {
                                    "0": "C37B34DC-7F7A-4A14-95EF-9575FFB2FBF2",
                                    "1": "2AD70867-1E57-4C21-A67C-406D982786BC",
                                    "2": "2025-01-27 00:00:00",
                                    "3": "Warehouse",
                                    "4": "58.492000000000004",
                                    "5": "135.49200000000002",
                                    "6": "0.0",
                                    "7": "6",
                                    "8": "1158",
                                    "9": "0",
                                    "10": "1158",
                                    "11": "0",
                                    "12": "0",
                                    "13": "0",
                                    "14": "20250127"
                                },
                                {
                                    "0": "C37B34DC-7F7A-4A14-95EF-9575FFB2FBF2",
                                    "1": "43E58404-650A-4FD3-B6E6-E3E0039E4A7E",
                                    "2": "2025-01-27 00:00:00",
                                    "3": "Dataset",
                                    "4": "29.469",
                                    "5": "120.496",
                                    "6": "0.0",
                                    "7": "1",
                                    "8": "4",
                                    "9": "0",
                                    "10": "4",
                                    "11": "0",
                                    "12": "0",
                                    "13": "0",
                                    "14": "20250127"
                                },
                                {
                                    "0": "C37B34DC-7F7A-4A14-95EF-9575FFB2FBF2",
                                    "1": "4AF86E5D-5B9A-42C0-9491-A80242A15A34",
                                    "2": "2025-01-27 00:00:00",
                                    "3": "Pipeline",
                                    "4": "97.366",
                                    "5": "110.16",
                                    "6": "0.0",
                                    "7": "1",
                                    "8": "2",
                                    "9": "0",
                                    "10": "2",
                                    "11": "0",
                                    "12": "0",
                                    "13": "0",
                                    "14": "20250127"
                                },
                                {
                                    "0": "C37B34DC-7F7A-4A14-95EF-9575FFB2FBF2",
                                    "1": "4AF86E5D-5B9A-42C0-9491-A80242A15A34",
                                    "2": "2025-01-27 00:00:00",
                                    "3": "Lakehouse",
                                    "4": "0.246",
                                    "5": "51.71019999999995",
                                    "6": "0.0",
                                    "7": "1",
                                    "8": "246",
                                    "9": "0",
                                    "10": "246",
                                    "11": "0",
                                    "12": "0",
                                    "13": "0",
                                    "14": "20250127"
                                },
                                {
                                    "0": "C37B34DC-7F7A-4A14-95EF-9575FFB2FBF2",
                                    "1": "1DBE0D9E-9308-47E7-A029-1E09289124A6",
                                    "2": "2025-01-27 00:00:00",
                                    "3": "Dataset",
                                    "4": "6.251",
                                    "5": "42.016",
                                    "6": "0.0",
                                    "7": "2",
                                    "8": "8",
                                    "9": "0",
                                    "10": "8",
                                    "11": "0",
                                    "12": "0",
                                    "13": "0",
                                    "14": "20250127"
                                },
                                {
                                    "0": "C37B34DC-7F7A-4A14-95EF-9575FFB2FBF2",
                                    "1": "1F8631F1-BA1A-4154-921E-6D3919BB51FD",
                                    "2": "2025-01-27 00:00:00",
                                    "3": "Dataset",
                                    "4": "6.627",
                                    "5": "31.776",
                                    "6": "0.0",
                                    "7": "2",
                                    "8": "41",
                                    "9": "0",
                                    "10": "41",
                                    "11": "0",
                                    "12": "0",
                                    "13": "0",
                                    "14": "20250127"
                                }
                            ],
                            "schema": [
                                {
                                    "key": "0",
                                    "name": "CapacityId",
                                    "type": "string"
                                },
                                {
                                    "key": "1",
                                    "name": "WorkspaceId",
                                    "type": "string"
                                },
                                {
                                    "key": "2",
                                    "name": "Date",
                                    "type": "timestamp"
                                },
                                {
                                    "key": "3",
                                    "name": "ItemKind",
                                    "type": "string"
                                },
                                {
                                    "key": "4",
                                    "name": "DurationInSec",
                                    "type": "double"
                                },
                                {
                                    "key": "5",
                                    "name": "TotalCUs",
                                    "type": "double"
                                },
                                {
                                    "key": "6",
                                    "name": "ThrottlingInMin",
                                    "type": "double"
                                },
                                {
                                    "key": "7",
                                    "name": "UserCount",
                                    "type": "bigint"
                                },
                                {
                                    "key": "8",
                                    "name": "SuccessOperationCount",
                                    "type": "bigint"
                                },
                                {
                                    "key": "9",
                                    "name": "RejectedOperationCount",
                                    "type": "bigint"
                                },
                                {
                                    "key": "10",
                                    "name": "OperationCount",
                                    "type": "bigint"
                                },
                                {
                                    "key": "11",
                                    "name": "InvalidOperationCount",
                                    "type": "bigint"
                                },
                                {
                                    "key": "12",
                                    "name": "FailureOperationCount",
                                    "type": "bigint"
                                },
                                {
                                    "key": "13",
                                    "name": "CancelledOperationCount",
                                    "type": "bigint"
                                },
                                {
                                    "key": "14",
                                    "name": "DateKey",
                                    "type": "string"
                                }
                            ],
                            "truncated": false
                        },
                        "isSummary": false,
                        "language": "scala",
                        "wranglerEntryContext": {
                            "candidateVariableNames": [
                                "capacity_df"
                            ],
                            "dataframeType": "pyspark"
                        }
                    },
                    "persist_state": {
                        "view": {
                            "type": "details",
                            "tableOptions": {},
                            "chartOptions": {
                                "chartType": "bar",
                                "categoryFieldKeys": [
                                    "1"
                                ],
                                "seriesFieldKeys": [
                                    "4"
                                ],
                                "aggregationType": "sum",
                                "isStacked": false,
                                "binsNumber": 10,
                                "wordFrequency": "-1",
                                "evaluatesOverAllRecords": false
                            },
                            "viewOptionsGroup": [
                                {
                                    "tabItems": [
                                        {
                                            "type": "table",
                                            "name": "Table",
                                            "key": "0",
                                            "options": {}
                                        }
                                    ]
                                }
                            ]
                        }
                    }
                }
            }
        },
        "spark_compute": {
            "compute_id": "/trident/default",
            "session_options": {
                "conf": {
                    "spark.synapse.nbs.session.timeout": "1200000"
                }
            }
        },
        "dependencies": {
            "lakehouse": {
                "default_lakehouse": "729eb8a2-8070-5ed8-ad43-dccbc00b32af",
                "default_lakehouse_name": "FUAM_Lakehouse",
                "default_lakehouse_workspace_id": "eb764c8b-cf3b-55be-adf4-348fe9233657",
                "known_lakehouses": []
            },
            "environment": {}
        }
    },
    "nbformat": 4,
    "nbformat_minor": 5
}