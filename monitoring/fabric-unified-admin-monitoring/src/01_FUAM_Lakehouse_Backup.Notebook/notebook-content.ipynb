{
    "cells": [
        {
            "cell_type": "markdown",
            "source": [
                "# Lakehouse Backup\n",
                "This notebook makes a regular backup of the tables from FUAM_Lakehouse to the FUAM_Lakehouse_Backup "
            ],
            "metadata": {
                "nteract": {
                    "transient": {
                        "deleting": false
                    }
                }
            },
            "id": "9e6a211c-1a78-40fe-8d8f-e7dc1c058d5d"
        },
        {
            "cell_type": "code",
            "source": [
                "import sempy.fabric as fabric\n",
                "from datetime import datetime, timedelta"
            ],
            "outputs": [],
            "execution_count": null,
            "metadata": {
                "jupyter": {
                    "source_hidden": false,
                    "outputs_hidden": false
                },
                "nteract": {
                    "transient": {
                        "deleting": false
                    }
                },
                "microsoft": {
                    "language": "python",
                    "language_group": "synapse_pyspark"
                },
                "cellStatus": "{\"System Administrator\":{\"session_start_time\":\"2025-01-29T07:33:50.1260331Z\",\"execution_start_time\":\"2025-01-29T07:36:18.9240042Z\",\"execution_finish_time\":\"2025-01-29T07:36:29.3432215Z\",\"state\":\"finished\",\"livy_statement_state\":\"available\",\"normalized_state\":\"finished\"}}"
            },
            "id": "bd06dcb9-2cfc-48cf-b684-b57021f4b0fb"
        },
        {
            "cell_type": "code",
            "source": [
                "backup_files = True\n",
                "keep_historic_days = 7\n",
                "\n",
                "fuam_workspace_id = 'eb764c8b-cf3b-55be-adf4-348fe9233657'\n",
                "fuam_lakehouse_id = '729eb8a2-8070-5ed8-ad43-dccbc00b32af'"
            ],
            "outputs": [],
            "execution_count": null,
            "metadata": {
                "jupyter": {
                    "source_hidden": false,
                    "outputs_hidden": false
                },
                "nteract": {
                    "transient": {
                        "deleting": false
                    }
                },
                "microsoft": {
                    "language": "python",
                    "language_group": "synapse_pyspark"
                },
                "cellStatus": "{\"System Administrator\":{\"session_start_time\":null,\"execution_start_time\":\"2025-01-29T07:36:29.4917485Z\",\"execution_finish_time\":\"2025-01-29T07:36:29.7703646Z\",\"state\":\"finished\",\"livy_statement_state\":\"available\",\"normalized_state\":\"finished\"}}",
                "tags": [
                    "parameters"
                ]
            },
            "id": "47a84f3f-65dd-464a-9f3e-b8aebeeccbdc"
        },
        {
            "cell_type": "code",
            "source": [
                "# Init the client\n",
                "client = fabric.FabricRestClient()\n",
                "\n",
                "# Set date helpers\n",
                "current_time = datetime.now()"
            ],
            "outputs": [],
            "execution_count": null,
            "metadata": {
                "jupyter": {
                    "source_hidden": false,
                    "outputs_hidden": false
                },
                "nteract": {
                    "transient": {
                        "deleting": false
                    }
                },
                "microsoft": {
                    "language": "python",
                    "language_group": "synapse_pyspark"
                },
                "cellStatus": "{\"System Administrator\":{\"session_start_time\":null,\"execution_start_time\":\"2025-01-29T07:36:30.1683061Z\",\"execution_finish_time\":\"2025-01-29T07:36:30.4519463Z\",\"state\":\"finished\",\"livy_statement_state\":\"available\",\"normalized_state\":\"finished\"}}"
            },
            "id": "c867ecd3-a09c-40f2-b640-5746957a0ab7"
        },
        {
            "cell_type": "code",
            "source": [
                "fuam_lakehouse_tables_path = f\"abfss://{fuam_workspace_id}@onelake.dfs.fabric.microsoft.com/{fuam_lakehouse_id}/Tables\"\n",
                "fuam_lakehouse_files_path = f\"abfss://{fuam_workspace_id}@onelake.dfs.fabric.microsoft.com/{fuam_lakehouse_id}/Files\"\n"
            ],
            "outputs": [],
            "execution_count": null,
            "metadata": {
                "jupyter": {
                    "source_hidden": false,
                    "outputs_hidden": false
                },
                "nteract": {
                    "transient": {
                        "deleting": false
                    }
                },
                "microsoft": {
                    "language": "python",
                    "language_group": "synapse_pyspark"
                },
                "cellStatus": "{\"System Administrator\":{\"session_start_time\":null,\"execution_start_time\":\"2025-01-29T07:36:30.5929548Z\",\"execution_finish_time\":\"2025-01-29T07:36:30.8931533Z\",\"state\":\"finished\",\"livy_statement_state\":\"available\",\"normalized_state\":\"finished\"}}"
            },
            "id": "2cbd0952-24d9-44df-920d-d54d3d6b68e4"
        },
        {
            "cell_type": "code",
            "source": [
                "notebookutils.fs.fastcp(fuam_lakehouse_tables_path, 'Files/'+ current_time.strftime(\"%Y/%m/%d\") + '/Tables', True)\n",
                "if backup_files:\n",
                "   notebookutils.fs.fastcp(fuam_lakehouse_files_path, 'Files/'+ current_time.strftime(\"%Y/%m/%d\") + '/Files', True) "
            ],
            "outputs": [],
            "execution_count": null,
            "metadata": {
                "jupyter": {
                    "source_hidden": false,
                    "outputs_hidden": false
                },
                "nteract": {
                    "transient": {
                        "deleting": false
                    }
                },
                "microsoft": {
                    "language": "python",
                    "language_group": "synapse_pyspark"
                },
                "cellStatus": "{\"System Administrator\":{\"session_start_time\":null,\"execution_start_time\":\"2025-01-29T07:36:31.0260833Z\",\"execution_finish_time\":\"2025-01-29T07:37:11.7713635Z\",\"state\":\"finished\",\"livy_statement_state\":\"available\",\"normalized_state\":\"finished\"}}"
            },
            "id": "4e735299-f956-4b8b-bb07-c3ec6886d94c"
        },
        {
            "cell_type": "markdown",
            "source": [
                "Remove historic backups olders than keep_historic_days\n"
            ],
            "metadata": {
                "nteract": {
                    "transient": {
                        "deleting": false
                    }
                }
            },
            "id": "beef3953-7b13-43d9-a398-41a2c9844fa2"
        },
        {
            "cell_type": "code",
            "source": [
                "subfolders = []\n",
                "def list_subfolders(path, max_level, date_path):\n",
                "  for item in mssparkutils.fs.ls(path):\n",
                "    if max_level > 0:\n",
                "      list_subfolders(item.path, max_level - 1, date_path + '-' + item.name)\n",
                "    else:\n",
                "      fold = {}\n",
                "      fold[\"date\"] = datetime.strptime((date_path + '-' + item.name)[1:], \"%Y-%m-%d\")\n",
                "      fold[\"path\"] = item.path\n",
                "      subfolders.append(fold)\n",
                "    \n",
                "\n",
                "list_subfolders('Files/', max_level= 2, date_path = '')\n",
                "\n",
                "\n",
                "for dat in subfolders:\n",
                "  \n",
                "  time_between_insertion = datetime.now() - dat['date']\n",
                "  if  time_between_insertion.days > keep_historic_days:\n",
                "    print(dat['date'])\n",
                "    print(dat['path'])\n",
                "    mssparkutils.fs.rm(dat['path'], True) # Set the last parameter as True to remove all files and directories recursively"
            ],
            "outputs": [],
            "execution_count": null,
            "metadata": {
                "jupyter": {
                    "source_hidden": false,
                    "outputs_hidden": false
                },
                "nteract": {
                    "transient": {
                        "deleting": false
                    }
                },
                "microsoft": {
                    "language": "python",
                    "language_group": "synapse_pyspark"
                },
                "cellStatus": "{\"System Administrator\":{\"session_start_time\":null,\"execution_start_time\":\"2025-01-29T07:37:11.9025665Z\",\"execution_finish_time\":\"2025-01-29T07:37:12.6695321Z\",\"state\":\"finished\",\"livy_statement_state\":\"available\",\"normalized_state\":\"finished\"}}"
            },
            "id": "da45876e-55a5-4ed6-ae1e-9fd5bb48ddf4"
        },
        {
            "cell_type": "markdown",
            "source": [
                "Remove empty folders after old backups have been removed"
            ],
            "metadata": {
                "nteract": {
                    "transient": {
                        "deleting": false
                    }
                }
            },
            "id": "d953004b-5f76-478e-8bf4-f0a680ae1ee7"
        },
        {
            "cell_type": "code",
            "source": [
                "def find_empty_dirs(path, max_level):\n",
                "    directories = notebookutils.fs.ls(path)\n",
                "    for directory in directories:\n",
                "        if (directory.size == 0) & (max_level > 0):\n",
                "            find_empty_dirs(directory.path, max_level - 1)\n",
                "            contents = notebookutils.fs.ls(directory.path)\n",
                "            if len(contents) == 0:\n",
                "                # Logic\n",
                "                notebookutils.fs.rm(directory.path, recurse=True)\n",
                "                print(f\"Removed empty directory: {directory.path}\")\n",
                "\n",
                "find_empty_dirs('Files/', 4)"
            ],
            "outputs": [],
            "execution_count": null,
            "metadata": {
                "jupyter": {
                    "source_hidden": false,
                    "outputs_hidden": false
                },
                "nteract": {
                    "transient": {
                        "deleting": false
                    }
                },
                "microsoft": {
                    "language": "python",
                    "language_group": "synapse_pyspark"
                },
                "cellStatus": "{\"System Administrator\":{\"session_start_time\":null,\"execution_start_time\":\"2025-01-29T07:37:12.7925977Z\",\"execution_finish_time\":\"2025-01-29T07:37:13.6538616Z\",\"state\":\"finished\",\"livy_statement_state\":\"available\",\"normalized_state\":\"finished\"}}"
            },
            "id": "08b22f58-a116-418c-88b8-38a8ddfd1bb1"
        },
        {
            "cell_type": "code",
            "source": [],
            "outputs": [],
            "execution_count": null,
            "metadata": {
                "microsoft": {
                    "language": "python",
                    "language_group": "synapse_pyspark"
                },
                "cellStatus": "{\"System Administrator\":{\"state\":\"waiting\"}}"
            },
            "id": "2c87be8c-b099-4c48-a8b1-3e899054d679"
        }
    ],
    "metadata": {
        "kernel_info": {
            "name": "synapse_pyspark"
        },
        "kernelspec": {
            "name": "synapse_pyspark",
            "language": "Python",
            "display_name": "Synapse PySpark"
        },
        "language_info": {
            "name": "python"
        },
        "microsoft": {
            "language": "python",
            "language_group": "synapse_pyspark",
            "ms_spell_check": {
                "ms_spell_check_language": "en"
            }
        },
        "nteract": {
            "version": "nteract-front-end@1.0.0"
        },
        "spark_compute": {
            "compute_id": "/trident/default",
            "session_options": {
                "conf": {
                    "spark.synapse.nbs.session.timeout": "1200000"
                }
            }
        },
        "dependencies": {
            "lakehouse": {
                "default_lakehouse": "23845d54-5fa7-5568-88ba-a4847e25878e",
                "known_lakehouses": [],
                "default_lakehouse_name": "FUAM_Backup_Lakehouse",
                "default_lakehouse_workspace_id": "eb764c8b-cf3b-55be-adf4-348fe9233657"
            }
        }
    },
    "nbformat": 4,
    "nbformat_minor": 5
}