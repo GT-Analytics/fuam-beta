{
    "cells": [
        {
            "cell_type": "markdown",
            "source": [
                "#### FUAM Table Init\n",
                "\n",
                "This notebook initializes all necessary tables for FUAM. It should be run after deployment\n"
            ],
            "metadata": {
                "nteract": {
                    "transient": {
                        "deleting": false
                    }
                }
            },
            "id": "8d96078b-c0ca-43cc-b34e-faf1cf664d3a"
        },
        {
            "cell_type": "code",
            "source": [
                "%%configure -f\n",
                "\n",
                "{ \n",
                "        \"defaultLakehouse\": { \n",
                "            \"name\":  \"FUAM_Lakehouse\"\n",
                "            }\n",
                "    }"
            ],
            "outputs": [],
            "execution_count": null,
            "metadata": {
                "microsoft": {
                    "language": "python",
                    "language_group": "synapse_pyspark"
                }
            },
            "id": "9a3dd99b-2848-41f3-a6d4-bede1e8051ff"
        },
        {
            "cell_type": "code",
            "source": [
                "from pyspark.sql.functions import explode, sequence\n",
                "from pyspark.sql.types import StructType,StructField, StringType, IntegerType\n",
                "import pandas as pd  "
            ],
            "outputs": [],
            "execution_count": null,
            "metadata": {
                "microsoft": {
                    "language": "python",
                    "language_group": "synapse_pyspark"
                }
            },
            "id": "de9be622-a44e-404c-be1d-ee0f03829ad8"
        },
        {
            "cell_type": "code",
            "source": [
                "# Define the data as a dictionary\n",
                "capacity_regions = pd.DataFrame(\n",
                "    [\n",
                "    (\"Asia Pacific\", \"Australia East\", 31.2532, 146.9211, \"New South Wales\"),\n",
                "    (\"Asia Pacific\", \"Australia Southeast\", 36.9848, 143.3906, \"Victoria\"),\n",
                "    (\"Asia Pacific\", \"Central India\", 18.5204, 73.8567, \"Pune\"),\n",
                "    (\"Asia Pacific\", \"East Asia\", 22.3193, 114.1694, \"Hong Kong\"),\n",
                "    (\"Asia Pacific\", \"Japan East\", 35.6764, 139.65, \"Tokyo\"),\n",
                "    (\"Asia Pacific\", \"Korea Central\", 37.5519, 126.9918, \"Seoul\"),\n",
                "    (\"Asia Pacific\", \"Southeast Asia\", 1.3521, 103.8198, \"Singapore\"),\n",
                "    (\"Asia Pacific\", \"South India\", 13.0827, 80.2707, \"Chennai\"),\n",
                "    (\"Europe\", \"North Europe\", 53.7798, 7.3055, \"Ireland\"),\n",
                "    (\"Europe\", \"West Europe\", 52.1326, 5.2913, \"Netherlands\"),\n",
                "    (\"Europe\", \"France Central\", 48.8566, 2.3522, \"Paris\"),\n",
                "    (\"Europe\", \"Germany West Central\", 50.1109, 8.6821, \"Frankfurt am Main\"),\n",
                "    (\"Europe\", \"Norway East\", 59.9139, 10.7522, \"Oslo\"),\n",
                "    (\"Europe\", \"Sweden Central\", 60.6749, 17.1413, \"Gävle\"),\n",
                "    (\"Europe\", \"Switzerland North\", 47.3769, 8.5417, \"Zürich\"),\n",
                "    (\"Europe\", \"Switzerland West\", 46.2044, 6.1432, \"Geneva\"),\n",
                "    (\"Europe\", \"UK South\", 51.5072, -0.1276, \"London\"),\n",
                "    (\"Europe\", \"UK West\", 51.4837, -3.1681, \"Cardiff\"),\n",
                "    (\"Americas\", \"Brazil South\", -23.5558, -46.6396, \"São Paulo State\"),\n",
                "    (\"Americas\", \"Canada Central\", 43.6532, -79.3832, \"Toronto\"),\n",
                "    (\"Americas\", \"Canada East\", 46.8131, -71.2075, \"Quebec City\"),\n",
                "    (\"Americas\", \"East US\", 37.4316, -78.6569, \"Virginia\"),\n",
                "    (\"Americas\", \"East US 2\", 37.4316, -78.6569, \"Virginia\"),\n",
                "    (\"Americas\", \"North Central US\", 40.6331, -89.3985, \"Illinois\"),\n",
                "    (\"Americas\", \"South Central US\", 31.9686, -99.9018, \"Texas\"),\n",
                "    (\"Americas\", \"West US\", 36.7783, -119.4179, \"California\"),\n",
                "    (\"Americas\", \"West US 2\", 47.7511, -120.7401, \"Washington\"),\n",
                "    (\"Americas\", \"West US 3\", 34.0489, -111.0937, \"Arizona\"),\n",
                "    (\"Middle East and Africa\", \"South Africa North\", -26.2056, 28.0337, \"Johannesburg\"),\n",
                "    (\"Middle East and Africa\", \"UAE North\", 25.2048, 55.2708, \"Dubai\")\n",
                "],\n",
                "    columns=[\n",
                "        \"Continent\",\n",
                "        \"FabricRegion\",\n",
                "        \"Latitude\",\n",
                "        \"Longitude\",\t\n",
                "        \"Location\"\n",
                "    ]\n",
                ")\n",
                "\n",
                "# Create a DataFrame\n",
                "capacity_regions_df = pd.DataFrame(capacity_regions)\n",
                "\n",
                "# Write Capacity regions to Lakehouse table\n",
                "fc_convert_dict = {'Continent': str, 'FabricRegion': str, 'Latitude': str, 'Longitude': str, 'Location': str}\n",
                "rules_catalog_df = capacity_regions_df.astype(fc_convert_dict)\n",
                "fc_spark_df = spark.createDataFrame(capacity_regions_df)\n",
                "\n",
                "fc_spark_df.write.mode(\"overwrite\").option(\"mergeSchema\", \"true\").format(\"delta\").saveAsTable(\"capacity_regions\")"
            ],
            "outputs": [],
            "execution_count": null,
            "metadata": {
                "microsoft": {
                    "language": "python",
                    "language_group": "synapse_pyspark"
                }
            },
            "id": "5596ae57-e6af-41ca-9d69-c9e4dfabb367"
        },
        {
            "cell_type": "code",
            "source": [
                "table_definitions = [\n",
                "    {'table': 'active_items',\n",
                "  'create_sql': 'CREATE TABLE IF NOT EXISTS FUAM_Lakehouse.active_items(`capacityId` string, `description` string, `id` string, `lastUpdatedDate` string, `name` string, `state` string, `type` string, `workspaceId` string, `fuam_modified_at` timestamp, `fuam_deleted` boolean, `creatorUserPrincipalName` string)'\n",
                "    },\n",
                "    {'table': 'active_items_history',\n",
                "  'create_sql': 'CREATE TABLE IF NOT EXISTS FUAM_Lakehouse.active_items_history(`capacityId` string, `description` string, `id` string, `lastUpdatedDate` string, `name` string, `state` string, `type` string, `workspaceId` string, `Snapshot_Date` date, `Snapshot_id` string, `Snapshot_capacityId` string, `fuam_modified_at` timestamp, `fuam_deleted` boolean, `Snapshot_workspaceId` string, `creatorUserPrincipalName` string)'\n",
                "    },\n",
                "    {'table': 'activities',\n",
                "  'create_sql': 'CREATE TABLE IF NOT EXISTS FUAM_Lakehouse.activities(`CreationDate` date, `CreationDateKey` string, `CreationHour` string, `CreationMinute` string, `Activity` string, `ActivityId` string, `AggregatedWorkspaceInformation` string, `AppId` string, `AppName` string, `AppReportId` string, `ArtifactId` string, `ArtifactKind` string, `ArtifactName` string, `CapacityId` string, `CapacityName` string, `CapacityState` string, `CapacityUsers` string, `ClientIP` string, `ConsumptionMethod` string, `CopiedReportId` string, `CopiedReportName` string, `CreationTime` string, `DashboardId` string, `DashboardName` string, `DataConnectivityMode` string, `DataflowId` string, `DataflowName` string, `DataflowType` string, `DatasetId` string, `DatasetName` string, `Datasets` string, `DatasourceDetails` boolean, `DatasourceId` string, `DatasourceInformations` string, `DatasourceObjectIds` string, `DeploymentPipelineId` bigint, `DeploymentPipelineObjectId` string, `DeploymentPipelineOperationId` string, `DeploymentPipelineStageOrder` bigint, `DistributionMethod` string, `ExcludePersonalWorkspaces` boolean, `Experience` string, `ExportEventEndDateTimeParameter` string, `ExportEventStartDateTimeParameter` string, `FolderAccessRequests` string, `FolderDisplayName` string, `FolderObjectId` string, `GatewayClusterDatasources` string, `GatewayClusterId` string, `GatewayClusters` string, `GatewayClustersObjectIds` string, `GatewayId` string, `GatewayName` string, `GatewayStatus` string, `GatewayType` string, `GitIntegrationRequest` string, `Id` string, `ImportDisplayName` string, `ImportId` string, `ImportSource` string, `ImportType` string, `IncludeExpressions` boolean, `IncludeSubartifacts` boolean, `IsSuccess` boolean, `IsTenantAdminApi` boolean, `ItemId` string, `ItemName` string, `LastRefreshTime` string, `Lineage` boolean, `ModelId` string, `ModelsSnapshots` string, `Monikers` string, `ObjectDisplayName` string, `ObjectId` string, `ObjectType` string, `Operation` string, `OrgAppPermission` string, `OrganizationId` string, `OrganizationalGalleryItemDisplayName` string, `OrganizationalGalleryItemId` bigint, `OrganizationalGalleryItemPublishTime` string, `PackageId` bigint, `RecordType` bigint, `RefreshEnforcementPolicy` bigint, `RefreshType` string, `ReportId` string, `ReportMobileLayoutAction` string, `ReportName` string, `ReportType` string, `RequestId` string, `RequiredWorkspaces` string, `ResultStatus` string, `Schedules` string, `SubfolderId` bigint, `SubfolderName` string, `SubfolderObjectId` string, `SwitchState` string, `TargetWorkspaceId` string, `TenantAdminFeatureSwitchProperties` string, `TenantAdminFeatureSwitches` string, `TileText` string, `UpdateDatasourcesRequest` string, `UserAgent` string, `UserId` string, `UserInformation` string, `UserKey` string, `UserType` bigint, `WorkSpaceName` string, `Workload` string, `WorkspaceAccessList` string, `WorkspaceId` string, `WorkspacesSemicolonDelimitedList` string, `CustomVisualAccessTokenResourceId` string, `CustomVisualAccessTokenSiteUri` string, `DeploymentPipelineAccesses` string, `DeploymentPipelineDisplayName` string, `ItemsCount` string, `CredentialSetupMode` string, `DataflowRefreshScheduleType` string, `IsTemplateAppFromMarketplace` boolean, `IsUpdateAppActivity` boolean, `TemplateAppFolderObjectId` string, `TemplateAppIsInstalledWithAutomation` boolean, `TemplateAppObjectId` string, `TemplateAppOwnerTenantObjectId` string, `TemplateAppVersion` string, `TemplatePackageName` string, `BillingType` bigint, `ArtifactAccessRequestInfo` string, `ExternalResource` string, `ModelSettings` string, `ExportedArtifactDownloadInfo` string, `ExportedArtifactInfo` string, `ExternalSubscribeeInformation` string, `HasFullReportAttachment` boolean, `PaginatedReportDataSources` string, `SubscribeeInformation` string, `SubscriptionDetails` string, `SubscriptionSchedule` string, `SharingAction` string, `SharingInformation` string, `SharingScope` string)'\n",
                "    },\n",
                "    {'table': 'aggregated_activities_last_30days',\n",
                "  'create_sql': 'CREATE TABLE IF NOT EXISTS FUAM_Lakehouse.aggregated_activities_last_30days(`CreationDate` date, `CreationDateKey` string, `Activity` string, `Experience` string, `Workload` string, `CapacityId` string, `WorkspaceId` string, `ObjectType` string, `ItemId` string, `IsSuccess` boolean, `ResultStatus` string, `CountOfActivities` bigint)'\n",
                "    },\n",
                "    {'table': 'audit_granted_ws_access_for_analyzer',\n",
                "  'create_sql': 'CREATE TABLE IF NOT EXISTS FUAM_Lakehouse.audit_granted_ws_access_for_analyzer(`timestamp` timestamp, `principal_type` string, `entity` string, `workspace_id` string, `access_right` string, `reason` string)'\n",
                "    },\n",
                "    {'table': 'calendar',\n",
                "  'create_sql': 'CREATE TABLE IF NOT EXISTS FUAM_Lakehouse.calendar(`DateKey` string, `Date` string, `Date2Key` date, `Year` int, `Month` int, `Day` int, `WeekOfYear` int, `YearMonth` string, `DayOfWeek` string, `DayOfWeekNum` int, `IsCurrentYear` int, `IsPreviousYear` int, `IsCurrentQuarter` int, `IsCurrentMonth` int, `IsPreviousMonth` int, `IsInLast14Days` int, `IsInLast30Days` int)'\n",
                "    },\n",
                "    {'table': 'calendar_timepoints',\n",
                "  'create_sql': 'CREATE TABLE IF NOT EXISTS FUAM_Lakehouse.calendar_timepoints(`TimePoint` timestamp, `Date` date, `Hour` timestamp)'\n",
                "    },\n",
                "    {'table': 'capacities',\n",
                "  'create_sql': 'CREATE TABLE IF NOT EXISTS FUAM_Lakehouse.capacities(`admins` array<string>, `capacityUserAccessRight` string, `displayName` string, `CapacityId` string, `region` string, `sku` string, `state` string, `users` array<string>, `fuam_modified_at` timestamp, `fuam_deleted` boolean)'\n",
                "    },\n",
                "    {'table': 'capacities_history',\n",
                "  'create_sql': 'CREATE TABLE IF NOT EXISTS FUAM_Lakehouse.capacities_history(`admins` array<string>, `capacityUserAccessRight` string, `displayName` string, `CapacityId` string, `region` string, `sku` string, `state` string, `users` array<string>, `Snapshot_Date` date, `Snapshot_CapacityId` string, `fuam_modified_at` timestamp, `fuam_deleted` boolean)'\n",
                "    },\n",
                "    {'table': 'capacity_metrics_by_item_by_operation_by_day',\n",
                "  'create_sql': 'CREATE TABLE IF NOT EXISTS FUAM_Lakehouse.capacity_metrics_by_item_by_operation_by_day(`CapacityId` string, `WorkspaceId` string, `Date` timestamp, `ItemId` string, `ItemKind` string, `OperationName` string, `DurationInSec` double, `TotalCUs` double, `ThrottlingInMin` double, `UserCount` bigint, `SuccessOperationCount` bigint, `RejectedOperationCount` bigint, `OperationCount` bigint, `InvalidOperationCount` bigint, `FailureOperationCount` bigint, `CancelledOperationCount` bigint, `DateKey` string)'\n",
                "    },\n",
                "    {'table': 'capacity_metrics_by_item_kind_by_day',\n",
                "  'create_sql': 'CREATE TABLE IF NOT EXISTS FUAM_Lakehouse.capacity_metrics_by_item_kind_by_day(`CapacityId` string, `WorkspaceId` string, `Date` timestamp, `ItemKind` string, `DurationInSec` double, `TotalCUs` double, `ThrottlingInMin` double, `UserCount` bigint, `SuccessOperationCount` bigint, `RejectedOperationCount` bigint, `OperationCount` bigint, `InvalidOperationCount` bigint, `FailureOperationCount` bigint, `CancelledOperationCount` bigint, `DateKey` string)'\n",
                "    },\n",
                "    {'table': 'capacity_metrics_by_timepoint',\n",
                "  'create_sql': 'CREATE TABLE IF NOT EXISTS FUAM_Lakehouse.capacity_metrics_by_timepoint(`CapacityId` string, `TimePoint` timestamp, `BackgroundPercentage` double, `InteractivePercentage` double, `BackgroundNonBillablePercentage` double, `InteractiveNonBillablePercentage` double, `AutoscalePercentage` double, `CULimitPercentage` bigint, `TotalCUUsagePercentage` double, `TotalCUs` double, `SKUCUByTimePoint` bigint, `InteractiveDelayPercentage` double, `InteractiveRejectionPercentage` double, `InteractiveRejectionThreshold` bigint, `BackgroundRejectionPercentage` double, `BackgroundRejectionThreshold` bigint, `CarryOverAddedPercentage` double, `CarryOverBurndownPercentage` double, `CarryOverCumulativePercentage` double, `OverageReferenceLine` bigint, `ExpectedBurndownInMin` double)'\n",
                "    },\n",
                "    {'table': 'capacity_refreshable_days',\n",
                "  'create_sql': 'CREATE TABLE IF NOT EXISTS FUAM_Lakehouse.capacity_refreshable_days(`CapacityId` string, `WorkspaceId` string, `ItemId` string, `Day` string)'\n",
                "    },\n",
                "    {'table': 'capacity_refreshable_details',\n",
                "  'create_sql': 'CREATE TABLE IF NOT EXISTS FUAM_Lakehouse.capacity_refreshable_details(`CapacityId` string, `WorkspaceId` string, `ItemId` string, `ItemName` string, `RequestId` string, `LastRefreshStartDateKey` string, `Status` string, `RefreshType` string, `LastRefreshStartDate` date, `LastRefreshEndDate` date, `LastRefreshStartTime` timestamp, `LastRefreshEndTime` timestamp, `LastRefreshStartHour` string, `LastRefreshEndHour` string, `DurationInSeconds` bigint)'\n",
                "    },\n",
                "    {'table': 'capacity_refreshable_summaries',\n",
                "  'create_sql': 'CREATE TABLE IF NOT EXISTS FUAM_Lakehouse.capacity_refreshable_summaries(`CapacityId` string, `WorkspaceId` string, `ItemId` string, `ItemName` string, `ConsideredStartDateKey` string, `ConsideredStartDate` date, `ConsideredEndDate` date, `ConsideredStartTime` timestamp, `ConsideredEndTime` timestamp, `RefreshAverageDuration` double, `RefreshMedianDuration` double, `RefreshCount` bigint, `ConsiderationDurationSeconds` bigint)'\n",
                "    },\n",
                "    {'table': 'capacity_refreshable_times',\n",
                "  'create_sql': 'CREATE TABLE IF NOT EXISTS FUAM_Lakehouse.capacity_refreshable_times(`CapacityId` string, `WorkspaceId` string, `ItemId` string, `Time` string)'\n",
                "    },\n",
                "    {'table': 'capacity_refreshables',\n",
                "  'create_sql': 'CREATE TABLE IF NOT EXISTS FUAM_Lakehouse.capacity_refreshables(`CapacityId` string, `WorkspaceId` string, `ItemId` string, `ItemName` string, `IsRefreshEnabled` boolean, `LocalTimeZoneId` string, `Kind` string)'\n",
                "    },\n",
                "    {'table': 'capacity_regions',\n",
                "  'create_sql': 'CREATE TABLE IF NOT EXISTS FUAM_Lakehouse.capacity_regions(`Continent` string, `FabricRegion` string, `Latitude` double, `Longitude` double, `Location` string)'\n",
                "    },\n",
                "    {'table': 'capacity_users',\n",
                "  'create_sql': 'CREATE TABLE IF NOT EXISTS FUAM_Lakehouse.capacity_users(`CapacityId` string, `role` string, `user` string)'\n",
                "    },\n",
                "    {'table': 'dashboards',\n",
                "  'create_sql': 'CREATE TABLE IF NOT EXISTS FUAM_Lakehouse.dashboards(`WorkspaceId` string, `DashboardId` string, `Name` string, `tiles` string)'\n",
                "    },\n",
                "    {'table': 'dataflows',\n",
                "  'create_sql': 'CREATE TABLE IF NOT EXISTS FUAM_Lakehouse.dataflows(`WorkspaceId` string, `DataflowId` string, `Name` string, `ModifiedDateTime` string, `relations` string, `datasourceUsages` string, `Generation` double)'\n",
                "    },\n",
                "    {'table': 'datasource_instances',\n",
                "  'create_sql': 'CREATE TABLE IF NOT EXISTS FUAM_Lakehouse.datasource_instances(`DatasourceType` string, `DatasourceId` string, `GatewayId` string, `connectionDetails.server` string, `connectionDetails.database` string, `connectionDetails.sharePointSiteUrl` string, `connectionDetails.account` string, `connectionDetails.domain` string, `connectionDetails.extensionDataSourceKind` string, `connectionDetails.extensionDataSourcePath` string, `connectionDetails.path` string, `connectionDetails.url` string)'\n",
                "    },\n",
                "    {'table': 'delegated_tenant_settings_overrides',\n",
                "  'create_sql': 'CREATE TABLE IF NOT EXISTS FUAM_Lakehouse.delegated_tenant_settings_overrides(`TransferDate` date, `TransferDateTime` timestamp, `OverrideId` string, `title` string, `delegatedFrom` string, `settingName` string, `tenantSettingGroup` string, `enabled` boolean, `CapacityId` string, `canSpecifySecurityGroups` boolean)'\n",
                "    },\n",
                "    {'table': 'environments',\n",
                "  'create_sql': 'CREATE TABLE IF NOT EXISTS FUAM_Lakehouse.environments(`WorkspaceId` string, `EnvironmentId` string, `Name` string, `Description` string, `State` string, `LastUpdatedDateTime` string, `CreatedDateTime` string, `ModifiedById` string, `CreatedById` string, `CreatedDate` string, `LastUpdatedDate` string)'\n",
                "    },\n",
                "    {'table': 'eventhouses',\n",
                "  'create_sql': 'CREATE TABLE IF NOT EXISTS FUAM_Lakehouse.eventhouses(`WorkspaceId` string, `EventhouseId` string, `Name` string, `Description` string, `State` string, `LastUpdatedDateTime` string, `CreatedDateTime` string, `ModifiedById` string, `CreatedById` string, `CreatedDate` string, `LastUpdatedDate` string)'\n",
                "    },\n",
                "    {'table': 'eventstreams',\n",
                "  'create_sql': 'CREATE TABLE IF NOT EXISTS FUAM_Lakehouse.eventstreams(`WorkspaceId` string, `EventstreamId` string, `Name` string, `Description` string, `State` string, `LastUpdatedDateTime` string, `CreatedDateTime` string, `ModifiedById` string, `CreatedById` string, `relations` string, `extendedProperties.EventStreamVersion` string, `extendedProperties.EnableEventStreamApiV2` double, `extendedProperties.EnableSchemaAssociation` double, `CreatedDate` string, `LastUpdatedDate` string)'\n",
                "    },\n",
                "    {'table': 'git_connections',\n",
                "  'create_sql': 'CREATE TABLE IF NOT EXISTS FUAM_Lakehouse.git_connections(`workspaceId` string, `repositoryName` string, `gitProviderType` string)'\n",
                "    },\n",
                "    {'table': 'kql_databases',\n",
                "  'create_sql': 'CREATE TABLE IF NOT EXISTS FUAM_Lakehouse.kql_databases(`WorkspaceId` string, `KQLDatabaseId` string, `Name` string, `Description` string, `State` string, `lastUpdatedDate` string, `createdDate` string, `modifiedBy` string, `createdBy` string, `modifiedById` string, `createdById` string, `relations` string, `extendedProperties.QueryServiceUri` string, `extendedProperties.IngestionServiceUri` string, `extendedProperties.Region` string, `extendedProperties.KustoDatabaseType` string)'\n",
                "    },\n",
                "    {'table': 'lakehouses',\n",
                "  'create_sql': 'CREATE TABLE IF NOT EXISTS FUAM_Lakehouse.lakehouses(`WorkspaceId` string, `LakehouseId` string, `Name` string, `Description` string, `State` string, `LastUpdatedDateTime` string, `CreatedDateTime` string, `ModifiedById` string, `CreatedById` string, `extendedProperties.OneLakeTablesPath` string, `extendedProperties.OneLakeFilesPath` string, `extendedProperties.DwProperties` string, `relations` string, `extendedProperties.DefaultSchema` string, `datasourceUsages` string, `CreatedDate` string, `LastUpdatedDate` string)'\n",
                "    },\n",
                "    {'table': 'notebooks',\n",
                "  'create_sql': 'CREATE TABLE IF NOT EXISTS FUAM_Lakehouse.notebooks(`WorkspaceId` string, `NotebookId` string, `Name` string, `Description` string, `State` string, `LastUpdatedDateTime` string, `CreatedDateTime` string, `ModifiedById` string, `CreatedById` string, `relations` string, `CreatedDate` string, `LastUpdatedDate` string)'\n",
                "    },\n",
                "    {'table': 'pipelines',\n",
                "  'create_sql': 'CREATE TABLE IF NOT EXISTS FUAM_Lakehouse.pipelines(`WorkspaceId` string, `PipelineId` string, `Name` string, `Description` string, `State` string, `LastUpdatedDateTime` string, `CreatedDateTime` string, `ModifiedById` string, `CreatedById` string, `relations` string, `datasourceUsages` string, `CreatedDate` string, `LastUpdatedDate` string)'\n",
                "    },\n",
                "    {'table': 'reflexes',\n",
                "  'create_sql': 'CREATE TABLE IF NOT EXISTS FUAM_Lakehouse.reflexes(`WorkspaceId` string, `ReflexId` string, `Name` string, `Description` string, `State` string, `LastUpdatedDateTime` string, `CreatedDateTime` string, `ModifiedById` string, `CreatedById` string, `extendedProperties.Aria.DocumentId` string, `extendedProperties.Version` string, `relations` string, `CreatedDate` string, `LastUpdatedDate` string)'\n",
                "    },\n",
                "    {'table': 'reports',\n",
                "  'create_sql': 'CREATE TABLE IF NOT EXISTS FUAM_Lakehouse.reports(`WorkspaceId` string, `ReportType` string, `ReportId` string, `Name` string, `SemanticModelId` string, `CreatedDateTime` string, `ModifiedDateTime` string, `ModifiedById` string, `CreatedById` string, `users` string, `AppId` string, `OriginalReportObjectId` string, `description` string, `SemanticModelWorkspaceId` string)'\n",
                "    },\n",
                "    {'table': 'semantic_model_analyzer_runs',\n",
                "  'create_sql': 'CREATE TABLE IF NOT EXISTS FUAM_Lakehouse.semantic_model_analyzer_runs(`SemanticModelRunKey` string, `WorkspaceId` string, `SemanticModelId` string, `RunTimestamp` timestamp, `RunId` bigint, `RunName` string, `AnalyzerMode` string, `CompatibilityLevel` bigint, `TableCount` bigint, `TotalSize` bigint, `DictionarySize` bigint, `DataSize` bigint, `HierarchySize` bigint, `RelationshipSize` bigint, `UserHierarchySize` bigint)'\n",
                "    },\n",
                "    {'table': 'semantic_model_bpa_results',\n",
                "  'create_sql': 'CREATE TABLE IF NOT EXISTS FUAM_Lakehouse.semantic_model_bpa_results(`ObjectName` string, `Scope` string, `RuleId` bigint, `WorkspaceId` string, `SemanticModelId` string, `Timestamp` timestamp, `RunId` bigint, `RunName` string, `SemanticModelRunKey` string)'\n",
                "    },\n",
                "    {'table': 'semantic_model_bpa_rule_catalog',\n",
                "  'create_sql': 'CREATE TABLE IF NOT EXISTS FUAM_Lakehouse.semantic_model_bpa_rule_catalog(`RuleId` bigint, `Category` string, `WithDependency` boolean, `Scope` string, `Severity` string, `ImpactArea` string, `RuleName` string, `Description` string, `URL` string)'\n",
                "    },\n",
                "    {'table': 'semantic_model_content_types',\n",
                "  'create_sql': 'CREATE TABLE IF NOT EXISTS FUAM_Lakehouse.semantic_model_content_types(`ContentProviderType` string, `MappedName` string, `IsIncludedInOptimizationModule` boolean, `IsDefaultSemanticModel` boolean)'\n",
                "    },\n",
                "    {'table': 'semantic_model_vertipaq_relationships',\n",
                "  'create_sql': 'CREATE TABLE IF NOT EXISTS FUAM_Lakehouse.semantic_model_vertipaq_relationships(`Multiplicity` string, `FromTable` string, `FromColumn` string, `ToTable` string, `ToColumn` string, `Active` boolean, `CrossFilteringBehavior` string, `SecurityFilteringBehavior` string, `JoinOnDateBehavior` string, `RelyOnReferentialIntegrity` boolean, `State` string, `ModifiedTime` timestamp, `RelationshipName` string, `FromObject` string, `ToObject` string, `UsedSize` bigint, `SemanticModelId` string, `WorkspaceId` string, `RunId` bigint, `SemanticModelRunKey` string)'\n",
                "    },\n",
                "    {'table': 'semantic_model_vertipaq_tables',\n",
                "  'create_sql': 'CREATE TABLE IF NOT EXISTS FUAM_Lakehouse.semantic_model_vertipaq_tables(`Name` string, `Description` string, `Hidden` boolean, `DataCategory` string, `Type` string, `RefreshPolicy` boolean, `RowCount` bigint, `TotalSize` bigint, `DictionarySize` bigint, `DataSize` bigint, `HierarchySize` bigint, `RelationshipSize` bigint, `UserHierarchySize` bigint, `Partitions` bigint, `Columns` bigint, `PercentageOfDB` double, `SemanticModelId` string, `WorkspaceId` string, `RunId` bigint, `SemanticModelRunKey` string)'\n",
                "    },\n",
                "    {'table': 'semantic_models',\n",
                "  'create_sql': 'CREATE TABLE IF NOT EXISTS FUAM_Lakehouse.semantic_models(`WorkspaceId` string, `SemanticModelId` string, `Name` string, `ConfiguredById` string, `isEffectiveIdentityRequired` boolean, `isEffectiveIdentityRolesRequired` boolean, `StorageMode` string, `CreatedDateTime` string, `ContentProviderType` string, `directQueryRefreshSchedule.frequency` double, `directQueryRefreshSchedule.localTimeZoneId` string, `refreshSchedule.enabled` boolean, `refreshSchedule.localTimeZoneId` string, `refreshSchedule.notifyOption` string, `description` string, `CreatedDate` string)'\n",
                "    },\n",
                "    {'table': 'tenant_settings',\n",
                "  'create_sql': 'CREATE TABLE IF NOT EXISTS FUAM_Lakehouse.tenant_settings(`TransferDate` date, `TransferDateTime` timestamp, `canSpecifySecurityGroups` boolean, `enabled` boolean, `settingName` string, `tenantSettingGroup` string, `title` string, `delegateToCapacity` boolean, `delegateToDomain` boolean, `delegateToWorkspace` boolean)'\n",
                "    },\n",
                "    {'table': 'tenant_settings_enabled_security_groups',\n",
                "  'create_sql': 'CREATE TABLE IF NOT EXISTS FUAM_Lakehouse.tenant_settings_enabled_security_groups(`settingName` string, `TransferDateTime` timestamp, `graphId` string, `name` string)'\n",
                "    },\n",
                "    {'table': 'warehouses',\n",
                "  'create_sql': 'CREATE TABLE IF NOT EXISTS FUAM_Lakehouse.warehouses(`WorkspaceId` string, `WarehouseId` string, `Name` string, `ConfiguredById` string, `ModifiedById` string, `ModifiedDateTime` string, `relations` string, `ModifiedDate` string)'\n",
                "    },\n",
                "    {'table': 'workspaces',\n",
                "  'create_sql': 'CREATE TABLE IF NOT EXISTS FUAM_Lakehouse.workspaces(`CapacityId` string, `WorkspaceId` string, `CapacityMigrationStatus` string, `DefaultDatasetStorageFormat` string, `Description` string, `HasWorkspaceLevelSettings` boolean, `IsOnDedicatedCapacity` boolean, `IsReadOnly` boolean, `WorkspaceName` string, `State` string, `Type` string, `fuam_modified_at` timestamp, `fuam_deleted` boolean)'\n",
                "    },\n",
                "    {'table': 'workspaces_history',\n",
                "  'create_sql': 'CREATE TABLE IF NOT EXISTS FUAM_Lakehouse.workspaces_history(`CapacityId` string, `WorkspaceId` string, `CapacityMigrationStatus` string, `DefaultDatasetStorageFormat` string, `Description` string, `HasWorkspaceLevelSettings` boolean, `IsOnDedicatedCapacity` boolean, `IsReadOnly` boolean, `WorkspaceName` string, `State` string, `Type` string, `Snapshot_Date` date, `Snapshot_CapacityId` string, `Snapshot_WorkspaceId` string, `fuam_modified_at` timestamp, `fuam_deleted` boolean)'\n",
                "    },\n",
                "    {'table': 'workspaces_scanned_users',\n",
                "  'create_sql': 'CREATE TABLE IF NOT EXISTS FUAM_Lakehouse.workspaces_scanned_users(`WorkspaceId` string, `GroupUserAccessRight` string, `Identifier` string, `GraphId` string, `PrincipalType` string, `UserType` string)'\n",
                "    },\n",
                "    {'table': 'workspaces_scanned_users_history',\n",
                "  'create_sql': 'CREATE TABLE IF NOT EXISTS FUAM_Lakehouse.workspaces_scanned_users_history(`WorkspaceId` string, `GroupUserAccessRight` string, `Identifier` string, `GraphId` string, `PrincipalType` string, `UserType` string, `Snapshot_Date` date, `Snapshot_WorkspaceId` string)'\n",
                "    },\n",
                "    {'table': 'workspace_monitoring_reports',\n",
                "  'create_sql': 'CREATE TABLE IF NOT EXISTS FUAM_Lakehouse.workspace_monitoring_reports(`WorkspaceId` string, `KQLDatabaseId` string, `KQLDatabaseName` string, `SemanticModelId` string, `ReportId` string, `ReportName` string)'\n",
                "    },\n",
                "    {'table': 'semantic_model_content_types',\n",
                "  'create_sql': 'CREATE TABLE IF NOT EXISTS FUAM_Lakehouse.semantic_model_content_types(`ContentProviderType` string, `MappedName` string, `IsIncludedInOptimizationModule` boolean, `IsDefaultSemanticModel` boolean)'\n",
                "    }\n",
                "]"
            ],
            "outputs": [],
            "execution_count": 1,
            "metadata": {
                "microsoft": {
                    "language": "python",
                    "language_group": "synapse_pyspark"
                },
                "collapsed": false,
                "cellStatus": "{}"
            },
            "id": "f3a030e9-d866-47f8-bc43-17c426039fd6"
        },
        {
            "cell_type": "code",
            "source": [
                "# Import table definitions and create tables in FUAM_Lakehouse\n",
                "existing_tables = [table['name'] for table in notebookutils.lakehouse.listTables(\"FUAM_Lakehouse\")]\n",
                "for table_definition in table_definitions:\n",
                "    if not(table_definition['table'] in existing_tables):\n",
                "        print(\"Create table \" + table_definition['table'])\n",
                "        spark.sql(table_definition['create_sql'])"
            ],
            "outputs": [],
            "execution_count": 11,
            "metadata": {
                "microsoft": {
                    "language": "python",
                    "language_group": "synapse_pyspark"
                }
            },
            "id": "1eaf0b22-8485-40f3-bfc9-afa2e89e5786"
        }
    ],
    "metadata": {
        "kernel_info": {
            "name": "synapse_pyspark"
        },
        "kernelspec": {
            "name": "synapse_pyspark",
            "language": "Python",
            "display_name": "Synapse PySpark"
        },
        "language_info": {
            "name": "python"
        },
        "microsoft": {
            "language": "python",
            "language_group": "synapse_pyspark",
            "ms_spell_check": {
                "ms_spell_check_language": "en"
            }
        },
        "nteract": {
            "version": "nteract-front-end@1.0.0"
        },
        "spark_compute": {
            "compute_id": "/trident/default",
            "session_options": {
                "conf": {
                    "spark.synapse.nbs.session.timeout": "1200000"
                }
            }
        },
        "dependencies": {
            "lakehouse": {}
        }
    },
    "nbformat": 4,
    "nbformat_minor": 5
}